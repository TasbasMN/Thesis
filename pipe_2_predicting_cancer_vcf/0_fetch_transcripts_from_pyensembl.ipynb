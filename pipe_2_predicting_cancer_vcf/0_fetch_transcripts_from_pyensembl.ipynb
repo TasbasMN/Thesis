{
 "cells": [
  {
   "cell_type": "code",
   "execution_count": 1,
   "metadata": {},
   "outputs": [
    {
     "name": "stdout",
     "output_type": "stream",
     "text": [
      "/run/media/nazif/2F946E411BA61D49/thesis\n"
     ]
    },
    {
     "name": "stderr",
     "output_type": "stream",
     "text": [
      "INFO:pyensembl.sequence_data:Loaded sequence dictionary from /run/media/nazif/2F946E411BA61D49/data/pyensembl/GRCh37/ensembl75/Homo_sapiens.GRCh37.75.cdna.all.fa.gz.pickle\n",
      "INFO:pyensembl.sequence_data:Loaded sequence dictionary from /run/media/nazif/2F946E411BA61D49/data/pyensembl/GRCh37/ensembl75/Homo_sapiens.GRCh37.75.ncrna.fa.gz.pickle\n",
      "INFO:pyensembl.sequence_data:Loaded sequence dictionary from /run/media/nazif/2F946E411BA61D49/data/pyensembl/GRCh37/ensembl75/Homo_sapiens.GRCh37.75.pep.all.fa.gz.pickle\n"
     ]
    }
   ],
   "source": [
    "%cd ..\n",
    "import os\n",
    "from pyensembl import EnsemblRelease\n",
    "import pandas as pd\n",
    "\n",
    "\n",
    "# set pyensembl cache location\n",
    "os.environ['PYENSEMBL_CACHE_DIR'] = \"../data\"\n",
    "\n"
   ]
  },
  {
   "cell_type": "code",
   "execution_count": 20,
   "metadata": {},
   "outputs": [],
   "source": [
    "def get_transcripts(assembly):\n",
    "    \n",
    "    transcript_ids = []\n",
    "    sequences = []\n",
    "    is_protein_coding = []\n",
    "    starts = []\n",
    "    ends = []\n",
    "    biotypes = []\n",
    "    lengths = []\n",
    "    strands = []\n",
    "    chrs = []\n",
    "    \n",
    "    for gene in assembly.gene_ids():\n",
    "        transcript = assembly.gene_by_id(gene).transcripts[0]\n",
    "        \n",
    "        transcript_ids.append(transcript.id)\n",
    "        is_protein_coding.append(transcript.is_protein_coding)\n",
    "        biotypes.append(transcript.biotype)\n",
    "        \n",
    "        chrs.append(transcript.contig)\n",
    "        starts.append(transcript.start)\n",
    "        ends.append(transcript.end)\n",
    "        lengths.append(transcript.length)\n",
    "        strands.append(transcript.strand)\n",
    "        sequences.append(transcript.sequence)\n",
    "\n",
    "    df = pd.DataFrame({\n",
    "    \"transcript_id\": transcript_ids,\n",
    "    \"is_protein_coding\": is_protein_coding,\n",
    "    \"biotype\": biotypes,\n",
    "    \"contig\": chrs,\n",
    "    \"start\": starts,\n",
    "    \"end\": ends,\n",
    "    \"length\": lengths,\n",
    "    \"strand\": strands,\n",
    "    \"sequence\": sequences})   \n",
    "    \n",
    "    return df.sort_values(by=[\"contig\", \"start\"]).reset_index(drop=True)\n",
    "\n"
   ]
  },
  {
   "cell_type": "code",
   "execution_count": null,
   "metadata": {},
   "outputs": [],
   "source": [
    "# init database\n",
    "grch37 = EnsemblRelease(75)\n",
    "\n",
    "# download and index db\n",
    "grch37.download()\n",
    "grch37.index()"
   ]
  },
  {
   "cell_type": "code",
   "execution_count": 18,
   "metadata": {},
   "outputs": [
    {
     "name": "stderr",
     "output_type": "stream",
     "text": [
      "INFO:pyensembl.sequence_data:Loaded sequence dictionary from /run/media/nazif/2F946E411BA61D49/data/pyensembl/GRCh38/ensembl109/Homo_sapiens.GRCh38.cdna.all.fa.gz.pickle\n",
      "INFO:pyensembl.sequence_data:Loaded sequence dictionary from /run/media/nazif/2F946E411BA61D49/data/pyensembl/GRCh38/ensembl109/Homo_sapiens.GRCh38.ncrna.fa.gz.pickle\n",
      "INFO:pyensembl.sequence_data:Loaded sequence dictionary from /run/media/nazif/2F946E411BA61D49/data/pyensembl/GRCh38/ensembl109/Homo_sapiens.GRCh38.pep.all.fa.gz.pickle\n"
     ]
    }
   ],
   "source": [
    "# init database\n",
    "grch38 = EnsemblRelease(109)\n",
    "\n",
    "# download and index db\n",
    "grch38.download()\n",
    "grch38.index()"
   ]
  },
  {
   "cell_type": "code",
   "execution_count": 7,
   "metadata": {},
   "outputs": [
    {
     "data": {
      "text/html": [
       "<div>\n",
       "<style scoped>\n",
       "    .dataframe tbody tr th:only-of-type {\n",
       "        vertical-align: middle;\n",
       "    }\n",
       "\n",
       "    .dataframe tbody tr th {\n",
       "        vertical-align: top;\n",
       "    }\n",
       "\n",
       "    .dataframe thead th {\n",
       "        text-align: right;\n",
       "    }\n",
       "</style>\n",
       "<table border=\"1\" class=\"dataframe\">\n",
       "  <thead>\n",
       "    <tr style=\"text-align: right;\">\n",
       "      <th></th>\n",
       "      <th>transcript_id</th>\n",
       "      <th>is_protein_coding</th>\n",
       "      <th>biotype</th>\n",
       "      <th>contig</th>\n",
       "      <th>start</th>\n",
       "      <th>end</th>\n",
       "      <th>length</th>\n",
       "      <th>strand</th>\n",
       "      <th>sequence</th>\n",
       "    </tr>\n",
       "  </thead>\n",
       "  <tbody>\n",
       "    <tr>\n",
       "      <th>0</th>\n",
       "      <td>ENST00000456328</td>\n",
       "      <td>False</td>\n",
       "      <td>processed_transcript</td>\n",
       "      <td>1</td>\n",
       "      <td>11869</td>\n",
       "      <td>14409</td>\n",
       "      <td>2541</td>\n",
       "      <td>+</td>\n",
       "      <td>GTTAACTTGCCGTCAGCCTTTTCTTTGACCTCTTCTTTCTGTTCAT...</td>\n",
       "    </tr>\n",
       "    <tr>\n",
       "      <th>1</th>\n",
       "      <td>ENST00000438504</td>\n",
       "      <td>False</td>\n",
       "      <td>unprocessed_pseudogene</td>\n",
       "      <td>1</td>\n",
       "      <td>14363</td>\n",
       "      <td>29370</td>\n",
       "      <td>15008</td>\n",
       "      <td>-</td>\n",
       "      <td>TCCGGCAGAGCGGAAGCGGCGGCGGGAGCTTCCGGGAGGGCGGCTC...</td>\n",
       "    </tr>\n",
       "    <tr>\n",
       "      <th>2</th>\n",
       "      <td>ENST00000473358</td>\n",
       "      <td>False</td>\n",
       "      <td>lincRNA</td>\n",
       "      <td>1</td>\n",
       "      <td>29554</td>\n",
       "      <td>31097</td>\n",
       "      <td>1544</td>\n",
       "      <td>+</td>\n",
       "      <td>GTGCACACGGCTCCCATGCGTTGTCTTCCGAGCGTCAGGCCGCCCC...</td>\n",
       "    </tr>\n",
       "    <tr>\n",
       "      <th>3</th>\n",
       "      <td>ENST00000417324</td>\n",
       "      <td>False</td>\n",
       "      <td>lincRNA</td>\n",
       "      <td>1</td>\n",
       "      <td>34554</td>\n",
       "      <td>36081</td>\n",
       "      <td>1528</td>\n",
       "      <td>-</td>\n",
       "      <td>CACACAACGGGGTTTCGGGGCTGTGGACCCTGTGCCAGGAAAGGAA...</td>\n",
       "    </tr>\n",
       "    <tr>\n",
       "      <th>4</th>\n",
       "      <td>ENST00000606857</td>\n",
       "      <td>False</td>\n",
       "      <td>unprocessed_pseudogene</td>\n",
       "      <td>1</td>\n",
       "      <td>52473</td>\n",
       "      <td>53312</td>\n",
       "      <td>840</td>\n",
       "      <td>+</td>\n",
       "      <td>GCGGTATCTAAATTTGTATTGATTGGACTTTCAAGCTCTTGGGAGA...</td>\n",
       "    </tr>\n",
       "  </tbody>\n",
       "</table>\n",
       "</div>"
      ],
      "text/plain": [
       "     transcript_id  is_protein_coding                 biotype contig  start  \\\n",
       "0  ENST00000456328              False    processed_transcript      1  11869   \n",
       "1  ENST00000438504              False  unprocessed_pseudogene      1  14363   \n",
       "2  ENST00000473358              False                 lincRNA      1  29554   \n",
       "3  ENST00000417324              False                 lincRNA      1  34554   \n",
       "4  ENST00000606857              False  unprocessed_pseudogene      1  52473   \n",
       "\n",
       "     end  length strand                                           sequence  \n",
       "0  14409    2541      +  GTTAACTTGCCGTCAGCCTTTTCTTTGACCTCTTCTTTCTGTTCAT...  \n",
       "1  29370   15008      -  TCCGGCAGAGCGGAAGCGGCGGCGGGAGCTTCCGGGAGGGCGGCTC...  \n",
       "2  31097    1544      +  GTGCACACGGCTCCCATGCGTTGTCTTCCGAGCGTCAGGCCGCCCC...  \n",
       "3  36081    1528      -  CACACAACGGGGTTTCGGGGCTGTGGACCCTGTGCCAGGAAAGGAA...  \n",
       "4  53312     840      +  GCGGTATCTAAATTTGTATTGATTGGACTTTCAAGCTCTTGGGAGA...  "
      ]
     },
     "execution_count": 7,
     "metadata": {},
     "output_type": "execute_result"
    }
   ],
   "source": [
    "df = get_transcripts(grch37)\n",
    "df.head()"
   ]
  },
  {
   "cell_type": "code",
   "execution_count": 22,
   "metadata": {},
   "outputs": [
    {
     "data": {
      "text/html": [
       "<div>\n",
       "<style scoped>\n",
       "    .dataframe tbody tr th:only-of-type {\n",
       "        vertical-align: middle;\n",
       "    }\n",
       "\n",
       "    .dataframe tbody tr th {\n",
       "        vertical-align: top;\n",
       "    }\n",
       "\n",
       "    .dataframe thead th {\n",
       "        text-align: right;\n",
       "    }\n",
       "</style>\n",
       "<table border=\"1\" class=\"dataframe\">\n",
       "  <thead>\n",
       "    <tr style=\"text-align: right;\">\n",
       "      <th></th>\n",
       "      <th>transcript_id</th>\n",
       "      <th>is_protein_coding</th>\n",
       "      <th>biotype</th>\n",
       "      <th>contig</th>\n",
       "      <th>start</th>\n",
       "      <th>end</th>\n",
       "      <th>length</th>\n",
       "      <th>strand</th>\n",
       "      <th>sequence</th>\n",
       "    </tr>\n",
       "  </thead>\n",
       "  <tbody>\n",
       "    <tr>\n",
       "      <th>0</th>\n",
       "      <td>ENST00000456328</td>\n",
       "      <td>False</td>\n",
       "      <td>lncRNA</td>\n",
       "      <td>1</td>\n",
       "      <td>11869</td>\n",
       "      <td>14409</td>\n",
       "      <td>2541</td>\n",
       "      <td>+</td>\n",
       "      <td>GTTAACTTGCCGTCAGCCTTTTCTTTGACCTCTTCTTTCTGTTCAT...</td>\n",
       "    </tr>\n",
       "    <tr>\n",
       "      <th>1</th>\n",
       "      <td>ENST00000450305</td>\n",
       "      <td>False</td>\n",
       "      <td>transcribed_unprocessed_pseudogene</td>\n",
       "      <td>1</td>\n",
       "      <td>12010</td>\n",
       "      <td>13670</td>\n",
       "      <td>1661</td>\n",
       "      <td>+</td>\n",
       "      <td>GTGTCTGACTTCCAGCAACTGCTGGCCTGTGCCAGGGTGCAAGCTG...</td>\n",
       "    </tr>\n",
       "    <tr>\n",
       "      <th>2</th>\n",
       "      <td>ENST00000488147</td>\n",
       "      <td>False</td>\n",
       "      <td>unprocessed_pseudogene</td>\n",
       "      <td>1</td>\n",
       "      <td>14404</td>\n",
       "      <td>29570</td>\n",
       "      <td>15167</td>\n",
       "      <td>-</td>\n",
       "      <td>ATGGGAGCCGTGTGCACGTCGGGAGCTCGGAGTGAGCGCACCATGA...</td>\n",
       "    </tr>\n",
       "    <tr>\n",
       "      <th>3</th>\n",
       "      <td>ENST00000619216</td>\n",
       "      <td>False</td>\n",
       "      <td>miRNA</td>\n",
       "      <td>1</td>\n",
       "      <td>17369</td>\n",
       "      <td>17436</td>\n",
       "      <td>68</td>\n",
       "      <td>-</td>\n",
       "      <td>TGTGGGAGAGGAACATGGGCTCAGGACAGCGGGTGTCAGCTTGCCT...</td>\n",
       "    </tr>\n",
       "    <tr>\n",
       "      <th>4</th>\n",
       "      <td>ENST00000473358</td>\n",
       "      <td>False</td>\n",
       "      <td>lncRNA</td>\n",
       "      <td>1</td>\n",
       "      <td>29554</td>\n",
       "      <td>31097</td>\n",
       "      <td>1544</td>\n",
       "      <td>+</td>\n",
       "      <td>GTGCACACGGCTCCCATGCGTTGTCTTCCGAGCGTCAGGCCGCCCC...</td>\n",
       "    </tr>\n",
       "  </tbody>\n",
       "</table>\n",
       "</div>"
      ],
      "text/plain": [
       "     transcript_id  is_protein_coding                             biotype  \\\n",
       "0  ENST00000456328              False                              lncRNA   \n",
       "1  ENST00000450305              False  transcribed_unprocessed_pseudogene   \n",
       "2  ENST00000488147              False              unprocessed_pseudogene   \n",
       "3  ENST00000619216              False                               miRNA   \n",
       "4  ENST00000473358              False                              lncRNA   \n",
       "\n",
       "  contig  start    end  length strand  \\\n",
       "0      1  11869  14409    2541      +   \n",
       "1      1  12010  13670    1661      +   \n",
       "2      1  14404  29570   15167      -   \n",
       "3      1  17369  17436      68      -   \n",
       "4      1  29554  31097    1544      +   \n",
       "\n",
       "                                            sequence  \n",
       "0  GTTAACTTGCCGTCAGCCTTTTCTTTGACCTCTTCTTTCTGTTCAT...  \n",
       "1  GTGTCTGACTTCCAGCAACTGCTGGCCTGTGCCAGGGTGCAAGCTG...  \n",
       "2  ATGGGAGCCGTGTGCACGTCGGGAGCTCGGAGTGAGCGCACCATGA...  \n",
       "3  TGTGGGAGAGGAACATGGGCTCAGGACAGCGGGTGTCAGCTTGCCT...  \n",
       "4  GTGCACACGGCTCCCATGCGTTGTCTTCCGAGCGTCAGGCCGCCCC...  "
      ]
     },
     "execution_count": 22,
     "metadata": {},
     "output_type": "execute_result"
    }
   ],
   "source": [
    "df2 = get_transcripts(grch38)\n",
    "df2.head()"
   ]
  },
  {
   "cell_type": "code",
   "execution_count": 29,
   "metadata": {},
   "outputs": [
    {
     "data": {
      "text/plain": [
       "transcript_id        0\n",
       "is_protein_coding    0\n",
       "biotype              0\n",
       "contig               0\n",
       "start                0\n",
       "end                  0\n",
       "length               0\n",
       "strand               0\n",
       "sequence             0\n",
       "dtype: int64"
      ]
     },
     "execution_count": 29,
     "metadata": {},
     "output_type": "execute_result"
    }
   ],
   "source": [
    "df.isna().sum()"
   ]
  },
  {
   "cell_type": "code",
   "execution_count": 30,
   "metadata": {},
   "outputs": [
    {
     "data": {
      "text/plain": [
       "transcript_id           0\n",
       "is_protein_coding       0\n",
       "biotype                 0\n",
       "contig                  0\n",
       "start                   0\n",
       "end                     0\n",
       "length                  0\n",
       "strand                  0\n",
       "sequence             1073\n",
       "dtype: int64"
      ]
     },
     "execution_count": 30,
     "metadata": {},
     "output_type": "execute_result"
    }
   ],
   "source": [
    "df2.isna().sum()\n"
   ]
  },
  {
   "cell_type": "code",
   "execution_count": 31,
   "metadata": {},
   "outputs": [
    {
     "data": {
      "text/html": [
       "<div>\n",
       "<style scoped>\n",
       "    .dataframe tbody tr th:only-of-type {\n",
       "        vertical-align: middle;\n",
       "    }\n",
       "\n",
       "    .dataframe tbody tr th {\n",
       "        vertical-align: top;\n",
       "    }\n",
       "\n",
       "    .dataframe thead th {\n",
       "        text-align: right;\n",
       "    }\n",
       "</style>\n",
       "<table border=\"1\" class=\"dataframe\">\n",
       "  <thead>\n",
       "    <tr style=\"text-align: right;\">\n",
       "      <th></th>\n",
       "      <th>transcript_id</th>\n",
       "      <th>is_protein_coding</th>\n",
       "      <th>biotype</th>\n",
       "      <th>contig</th>\n",
       "      <th>start</th>\n",
       "      <th>end</th>\n",
       "      <th>length</th>\n",
       "      <th>strand</th>\n",
       "      <th>sequence</th>\n",
       "    </tr>\n",
       "  </thead>\n",
       "  <tbody>\n",
       "    <tr>\n",
       "      <th>177</th>\n",
       "      <td>ENST00000456687</td>\n",
       "      <td>False</td>\n",
       "      <td>TEC</td>\n",
       "      <td>1</td>\n",
       "      <td>2566410</td>\n",
       "      <td>2569888</td>\n",
       "      <td>3479</td>\n",
       "      <td>+</td>\n",
       "      <td>None</td>\n",
       "    </tr>\n",
       "    <tr>\n",
       "      <th>195</th>\n",
       "      <td>ENST00000624175</td>\n",
       "      <td>False</td>\n",
       "      <td>TEC</td>\n",
       "      <td>1</td>\n",
       "      <td>3205988</td>\n",
       "      <td>3208664</td>\n",
       "      <td>2677</td>\n",
       "      <td>+</td>\n",
       "      <td>None</td>\n",
       "    </tr>\n",
       "    <tr>\n",
       "      <th>349</th>\n",
       "      <td>ENST00000639753</td>\n",
       "      <td>False</td>\n",
       "      <td>TEC</td>\n",
       "      <td>1</td>\n",
       "      <td>9826289</td>\n",
       "      <td>9828271</td>\n",
       "      <td>1983</td>\n",
       "      <td>-</td>\n",
       "      <td>None</td>\n",
       "    </tr>\n",
       "    <tr>\n",
       "      <th>637</th>\n",
       "      <td>ENST00000624418</td>\n",
       "      <td>False</td>\n",
       "      <td>TEC</td>\n",
       "      <td>1</td>\n",
       "      <td>18109389</td>\n",
       "      <td>18115861</td>\n",
       "      <td>6473</td>\n",
       "      <td>+</td>\n",
       "      <td>None</td>\n",
       "    </tr>\n",
       "    <tr>\n",
       "      <th>753</th>\n",
       "      <td>ENST00000624125</td>\n",
       "      <td>False</td>\n",
       "      <td>TEC</td>\n",
       "      <td>1</td>\n",
       "      <td>22364630</td>\n",
       "      <td>22366482</td>\n",
       "      <td>1853</td>\n",
       "      <td>-</td>\n",
       "      <td>None</td>\n",
       "    </tr>\n",
       "  </tbody>\n",
       "</table>\n",
       "</div>"
      ],
      "text/plain": [
       "       transcript_id  is_protein_coding biotype contig     start       end  \\\n",
       "177  ENST00000456687              False     TEC      1   2566410   2569888   \n",
       "195  ENST00000624175              False     TEC      1   3205988   3208664   \n",
       "349  ENST00000639753              False     TEC      1   9826289   9828271   \n",
       "637  ENST00000624418              False     TEC      1  18109389  18115861   \n",
       "753  ENST00000624125              False     TEC      1  22364630  22366482   \n",
       "\n",
       "     length strand sequence  \n",
       "177    3479      +     None  \n",
       "195    2677      +     None  \n",
       "349    1983      -     None  \n",
       "637    6473      +     None  \n",
       "753    1853      -     None  "
      ]
     },
     "execution_count": 31,
     "metadata": {},
     "output_type": "execute_result"
    }
   ],
   "source": [
    "df2[df2.sequence.isna()].head()"
   ]
  },
  {
   "cell_type": "code",
   "execution_count": 33,
   "metadata": {},
   "outputs": [
    {
     "data": {
      "text/plain": [
       "biotype\n",
       "TEC         1054\n",
       "artifact      19\n",
       "Name: count, dtype: int64"
      ]
     },
     "execution_count": 33,
     "metadata": {},
     "output_type": "execute_result"
    }
   ],
   "source": [
    "df2[df2.sequence.isna()].biotype.value_counts()"
   ]
  },
  {
   "cell_type": "code",
   "execution_count": 34,
   "metadata": {},
   "outputs": [
    {
     "data": {
      "text/plain": [
       "contig\n",
       "16    132\n",
       "12     99\n",
       "17     99\n",
       "11     76\n",
       "19     72\n",
       "5      71\n",
       "2      50\n",
       "18     50\n",
       "15     47\n",
       "21     45\n",
       "7      39\n",
       "4      35\n",
       "1      35\n",
       "6      33\n",
       "10     30\n",
       "13     29\n",
       "8      29\n",
       "3      26\n",
       "14     21\n",
       "9      20\n",
       "X      15\n",
       "20     10\n",
       "22     10\n",
       "Name: count, dtype: int64"
      ]
     },
     "execution_count": 34,
     "metadata": {},
     "output_type": "execute_result"
    }
   ],
   "source": [
    "df2[df2.sequence.isna()].contig.value_counts()\n"
   ]
  },
  {
   "cell_type": "code",
   "execution_count": null,
   "metadata": {},
   "outputs": [],
   "source": [
    "# drop To be experimentally confirmed results\n",
    "df2.dropna(subset=[\"sequence\"], inplace=True)\n",
    "# export\n",
    "df.to_csv(\"data/pyensembl/grch37_transcripts.csv\", index=False)\n",
    "df2.to_csv(\"data/pyensembl/grch38_transcripts.csv\", index=False)\n"
   ]
  },
  {
   "cell_type": "code",
   "execution_count": 39,
   "metadata": {},
   "outputs": [],
   "source": [
    "df.to_csv(\"data/pyensembl/grch37_transcripts.csv\", index=False)\n",
    "df2.to_csv(\"data/pyensembl/grch38_transcripts.csv\", index=False)"
   ]
  }
 ],
 "metadata": {
  "kernelspec": {
   "display_name": "thesis-4DYweHFz-py3.11",
   "language": "python",
   "name": "python3"
  },
  "language_info": {
   "codemirror_mode": {
    "name": "ipython",
    "version": 3
   },
   "file_extension": ".py",
   "mimetype": "text/x-python",
   "name": "python",
   "nbconvert_exporter": "python",
   "pygments_lexer": "ipython3",
   "version": "3.11.3"
  },
  "orig_nbformat": 4
 },
 "nbformat": 4,
 "nbformat_minor": 2
}
