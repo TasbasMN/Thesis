{
 "cells": [
  {
   "cell_type": "code",
   "execution_count": 1,
   "metadata": {},
   "outputs": [
    {
     "name": "stdout",
     "output_type": "stream",
     "text": [
      "/run/media/nazif/2F946E411BA61D49/thesis\n"
     ]
    }
   ],
   "source": [
    "%cd ..\n",
    "\n",
    "import pandas as pd\n",
    "pd.set_option('display.max_columns', None)\n",
    "\n",
    "from scripts.utils_latest import *"
   ]
  },
  {
   "cell_type": "code",
   "execution_count": 2,
   "metadata": {},
   "outputs": [],
   "source": [
    "def find_least_different_string(original_string, column, cache=None):\n",
    "    if cache is None:\n",
    "        cache = {}\n",
    "    min_distance = float('inf')\n",
    "    least_different_string = ''\n",
    "    for sequence in column:\n",
    "        if sequence in cache:\n",
    "            distance = cache[sequence]\n",
    "        else:\n",
    "            distance = editdistance.eval(original_string, sequence)\n",
    "            cache[sequence] = distance\n",
    "        if distance < min_distance:\n",
    "            min_distance = distance\n",
    "            least_different_string = sequence\n",
    "    return least_different_string\n"
   ]
  },
  {
   "cell_type": "code",
   "execution_count": 3,
   "metadata": {},
   "outputs": [],
   "source": [
    "# get dfs\n",
    "df = pd.read_csv(\"results/7_results_of_first_4_rows.csv\")\n",
    "targetscan = pd.read_csv(\"data/processed/targetscan/targetscan.csv\").rename(columns={\"accession\": \"mirna_accession\", \"conservation\": \"mirna_conservation\"})\n",
    "\n",
    "# get mirnas without conservation\n",
    "big_mirnas = df.mirna_accession.unique()\n",
    "small_mirnas = targetscan.mirna_accession.unique()\n",
    "\n",
    "diff = set(big_mirnas) - set(small_mirnas)\n",
    "mask = df.mirna_accession.isin(diff)\n",
    "\n",
    "# assigning to a df\n",
    "conservations_to_calculate = (df[mask][[\"mirna_accession\", \"mirna_sequence\"]]\n",
    "                            .assign(mirna_conservation=None)\n",
    "                            .assign(seed=df.mirna_sequence.str[1:7])\n",
    "                            .rename(columns={\"mirna_sequence\": \"sequence\"}))\n",
    "\n",
    "\n",
    "# append least difference string column\n",
    "for i, row in conservations_to_calculate.iterrows():\n",
    "    \n",
    "    original_string = row[\"sequence\"]\n",
    "    \n",
    "    target_sequences = targetscan.sequence\n",
    "    \n",
    "    least_different_string = find_least_different_string(original_string, target_sequences)\n",
    "    \n",
    "    conservations_to_calculate.loc[i, \"least_different_string\"] = least_different_string\n",
    "    \n",
    "\n",
    "# getting seq:conservation pairs from targetscan\n",
    "pair_dict = dict(zip(targetscan['sequence'], targetscan['mirna_conservation']))\n",
    "\n",
    "# appending conservation values of least_different_strings\n",
    "conservations_to_calculate['conservation'] = conservations_to_calculate['least_different_string'].map(pair_dict)\n",
    "\n"
   ]
  }
 ],
 "metadata": {
  "kernelspec": {
   "display_name": "thesis-4DYweHFz-py3.11",
   "language": "python",
   "name": "python3"
  },
  "language_info": {
   "codemirror_mode": {
    "name": "ipython",
    "version": 3
   },
   "file_extension": ".py",
   "mimetype": "text/x-python",
   "name": "python",
   "nbconvert_exporter": "python",
   "pygments_lexer": "ipython3",
   "version": "3.11.3"
  },
  "orig_nbformat": 4
 },
 "nbformat": 4,
 "nbformat_minor": 2
}
