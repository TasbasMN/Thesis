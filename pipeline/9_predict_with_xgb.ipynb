{
 "cells": [
  {
   "cell_type": "code",
   "execution_count": 1,
   "metadata": {},
   "outputs": [
    {
     "name": "stdout",
     "output_type": "stream",
     "text": [
      "/run/media/nazif/2F946E411BA61D49/thesis\n"
     ]
    }
   ],
   "source": [
    "%cd ..\n",
    "import xgboost as xgb\n",
    "import pandas as pd\n",
    "\n",
    "pd.set_option('display.max_columns', 500)"
   ]
  },
  {
   "cell_type": "code",
   "execution_count": 2,
   "metadata": {},
   "outputs": [],
   "source": [
    "df = pd.read_csv(\"results/8_adding_feature_cols.csv\")\n",
    "\n",
    "cols_to_keep = [\n",
    "    \"pred_energy\",\n",
    "    \"pred_num_basepairs\",\n",
    "    \"pred_seed_basepairs\",\n",
    "    \"ta_log10\",\n",
    "    \"sps_mean\",\n",
    "    \"anchor_a\",\n",
    "    \"6mer_seed\",\n",
    "    \"match_8\",\n",
    "    \"6mer_seed_1_mismatch\",\n",
    "    \"compensatory_site\",\n",
    "    \"supplementary_site\",\n",
    "    \"supplementary_site_2\",\n",
    "    \"empty_seed\",\n",
    "    \"9_consecutive_match_anywhere\",\n",
    "    \"mirna_conservation\",\n",
    "\n",
    "    \"seed_8mer\",\n",
    "    \"seed_7mer_a1\",\n",
    "    \"seed_7mer_m8\",\n",
    "    \"seed_compensatory\",\n",
    "    \"seed_clash_2\",\n",
    "    \"seed_clash_3\",\n",
    "    \"seed_clash_4\",\n",
    "    \"seed_clash_5\",\n",
    "]\n",
    "\n",
    "dropped_df = df[cols_to_keep]"
   ]
  },
  {
   "cell_type": "code",
   "execution_count": 4,
   "metadata": {},
   "outputs": [],
   "source": [
    "# Convert the DataFrame into a DMatrix object\n",
    "data = xgb.DMatrix(dropped_df)\n"
   ]
  },
  {
   "cell_type": "code",
   "execution_count": 5,
   "metadata": {},
   "outputs": [
    {
     "data": {
      "text/plain": [
       "pred_energy                     0\n",
       "pred_num_basepairs              0\n",
       "pred_seed_basepairs             0\n",
       "ta_log10                        0\n",
       "sps_mean                        0\n",
       "anchor_a                        0\n",
       "6mer_seed                       0\n",
       "match_8                         0\n",
       "6mer_seed_1_mismatch            0\n",
       "compensatory_site               0\n",
       "supplementary_site              0\n",
       "supplementary_site_2            0\n",
       "empty_seed                      0\n",
       "9_consecutive_match_anywhere    0\n",
       "mirna_conservation              0\n",
       "seed_8mer                       0\n",
       "seed_7mer_a1                    0\n",
       "seed_7mer_m8                    0\n",
       "seed_compensatory               0\n",
       "seed_clash_2                    0\n",
       "seed_clash_3                    0\n",
       "seed_clash_4                    0\n",
       "seed_clash_5                    0\n",
       "dtype: int64"
      ]
     },
     "execution_count": 5,
     "metadata": {},
     "output_type": "execute_result"
    }
   ],
   "source": [
    "dropped_df.isna().sum()"
   ]
  },
  {
   "cell_type": "code",
   "execution_count": 12,
   "metadata": {},
   "outputs": [],
   "source": [
    "model = xgb.Booster()\n",
    "model.load_model('results/model.xgb')\n",
    "predictions = model.predict(data)\n"
   ]
  },
  {
   "cell_type": "code",
   "execution_count": 13,
   "metadata": {},
   "outputs": [
    {
     "data": {
      "text/plain": [
       "array([0.01900677, 0.21765004, 0.89161396, ..., 0.00395883, 0.00254111,\n",
       "       0.98965704], dtype=float32)"
      ]
     },
     "execution_count": 13,
     "metadata": {},
     "output_type": "execute_result"
    }
   ],
   "source": [
    "predictions"
   ]
  },
  {
   "cell_type": "code",
   "execution_count": null,
   "metadata": {},
   "outputs": [],
   "source": [
    "df[\"prediction\"] = [1 if pred >= 0.5 else 0 for pred in predictions]\n",
    "\n",
    "df.head(10)"
   ]
  },
  {
   "cell_type": "code",
   "execution_count": null,
   "metadata": {},
   "outputs": [],
   "source": [
    "df[df.id == \"1_809687_G_C_MIMAT0000062\"][[\"id\", \"prediction\"]]"
   ]
  },
  {
   "cell_type": "code",
   "execution_count": null,
   "metadata": {},
   "outputs": [],
   "source": [
    "# Step 1: Group by 'id' and check for different 'prediction' values\n",
    "grouped = df.groupby('id')['prediction'].nunique()\n",
    "\n",
    "# Step 2: Filter groups where 'prediction' values are different\n",
    "ids_with_different_predictions = grouped[grouped > 1].index.tolist()\n",
    "\n",
    "df['is_affected'] = 0  # Initialize the new column with zeros\n",
    "df.loc[df['id'].isin(ids_with_different_predictions), 'is_affected'] = 1\n",
    "\n",
    "\n",
    "df[df.is_affected == 1]"
   ]
  },
  {
   "cell_type": "code",
   "execution_count": null,
   "metadata": {},
   "outputs": [],
   "source": [
    "df[df.is_affected == 1][[\"id\", \"is_mutated\", \"prediction\"]].sort_values(by=[\"id\", \"is_mutated\"])"
   ]
  },
  {
   "cell_type": "code",
   "execution_count": null,
   "metadata": {},
   "outputs": [],
   "source": [
    "df[df.is_affected == 1].sort_values(by=[\"id\", \"is_mutated\"])\n"
   ]
  },
  {
   "cell_type": "code",
   "execution_count": null,
   "metadata": {},
   "outputs": [],
   "source": [
    "\n",
    "df = df.sort_values(by=[\"id\", \"is_mutated\"])\n",
    "\n",
    "# Create a new column to store the changes in prediction\n",
    "df['change'] = 0\n",
    "\n",
    "# Initialize variables to keep track of the previous 'id' and 'prediction' values\n",
    "prev_id = None\n",
    "prev_prediction = None\n",
    "\n",
    "# Iterate through the DataFrame row by row\n",
    "for i, row in df.iterrows():\n",
    "\n",
    "    if i % 2 == 1:\n",
    "        # Get the current 'id' and 'prediction' values\n",
    "        current_id = row['id']\n",
    "        current_prediction = row['prediction']\n",
    "\n",
    "        # Check if it's not the first row (i.e., prev_id and prev_prediction are not None)\n",
    "        if prev_id is not None and prev_prediction is not None:\n",
    "            # Check if the 'prediction' value decreased from the previous row\n",
    "            if current_prediction < prev_prediction:\n",
    "                df.at[i, 'change'] = -1\n",
    "            # Check if the 'prediction' value increased from the previous row\n",
    "            elif current_prediction > prev_prediction:\n",
    "                df.at[i, 'change'] = 1\n",
    "\n",
    "        # Update the previous row values\n",
    "        prev_id = current_id\n",
    "        prev_prediction = current_prediction\n",
    "\n",
    "# Display the updated DataFrame with the 'change' column\n",
    "\n",
    "\n",
    "df.head()"
   ]
  },
  {
   "cell_type": "code",
   "execution_count": null,
   "metadata": {},
   "outputs": [],
   "source": [
    "df[df.is_affected == 1]"
   ]
  },
  {
   "cell_type": "code",
   "execution_count": null,
   "metadata": {},
   "outputs": [],
   "source": [
    "df[[\"id\", \"prediction\"]].to_dict().keys()"
   ]
  },
  {
   "cell_type": "code",
   "execution_count": null,
   "metadata": {},
   "outputs": [],
   "source": [
    "import pandas as pd\n",
    "\n",
    "# Assuming your DataFrame is called df and the two columns are 'id' and 'value'\n",
    "result_dict = {}\n",
    "\n",
    "# Group the DataFrame by 'id' column\n",
    "grouped = df.groupby('id')\n",
    "\n",
    "# Iterate over each group and convert it into a dictionary\n",
    "for group_name, group_df in grouped:\n",
    "    result_dict[group_name] = group_df['prediction'].tolist()\n",
    "\n",
    "\n",
    "for key, value in result_dict.items():\n",
    "    if value == [0,0]:\n",
    "        result_dict[key] = \"unchanged_0\"\n",
    "        \n",
    "    elif value == [1,1]:\n",
    "        result_dict[key] = \"unchanged_1\"\n",
    "    \n",
    "    elif value == [0,1]:\n",
    "        result_dict[key] = \"up\"\n",
    "    \n",
    "    elif value == [1,0]:\n",
    "        result_dict[key] = \"down\""
   ]
  },
  {
   "cell_type": "code",
   "execution_count": null,
   "metadata": {},
   "outputs": [],
   "source": [
    "result_dict"
   ]
  },
  {
   "cell_type": "code",
   "execution_count": null,
   "metadata": {},
   "outputs": [],
   "source": [
    "dff = pd.DataFrame.from_dict(result_dict, orient='index', columns=['prediction'])\n",
    "\n",
    "dff[dff.prediction == \"up\"]"
   ]
  },
  {
   "cell_type": "code",
   "execution_count": null,
   "metadata": {},
   "outputs": [],
   "source": [
    "dff.prediction.value_counts()"
   ]
  },
  {
   "cell_type": "code",
   "execution_count": null,
   "metadata": {},
   "outputs": [],
   "source": [
    "dff[dff.prediction == \"up\"]"
   ]
  },
  {
   "cell_type": "code",
   "execution_count": null,
   "metadata": {},
   "outputs": [],
   "source": [
    "df.head()"
   ]
  },
  {
   "cell_type": "code",
   "execution_count": null,
   "metadata": {},
   "outputs": [],
   "source": [
    "df[df.id == \"1_1911011_C_G_MIMAT0000253\"]"
   ]
  },
  {
   "cell_type": "code",
   "execution_count": null,
   "metadata": {},
   "outputs": [],
   "source": [
    "df.loc[5424, \"mrna_sequence\"][22:59]"
   ]
  },
  {
   "cell_type": "code",
   "execution_count": null,
   "metadata": {},
   "outputs": [],
   "source": [
    "'TCACG  TGA  CGA  GGCTGCGCAGAACATGCGTGTGGTAC' \"&\" \"TACCCTGTAGATCCGAATTTGTG\"\n",
    "\".((((  ...  ...  ((.(..((((...........((((.\" \"&\" \"))))))))..).)).....))))\"\n",
    "\n",
    "\" ))))  ...  ..   )).)..))))           ))))\"\n",
    "' GUGU  UUA  AG   CCUAGAUGUC           CCAU'"
   ]
  },
  {
   "cell_type": "markdown",
   "metadata": {},
   "source": [
    "# mutated"
   ]
  },
  {
   "cell_type": "code",
   "execution_count": null,
   "metadata": {},
   "outputs": [],
   "source": [
    "5424\n",
    "print(df.loc[5424, \"mrna_sequence\"][22:59])\n",
    "\n",
    "print(df.loc[16048, \"mrna_sequence\"][22:59])\n"
   ]
  },
  {
   "cell_type": "code",
   "execution_count": null,
   "metadata": {},
   "outputs": [],
   "source": [
    "TCACGTGACGAGGCTGCGCAGAACATGCGTGTGGTAC"
   ]
  },
  {
   "cell_type": "code",
   "execution_count": null,
   "metadata": {},
   "outputs": [],
   "source": [
    "'TCACG TGA  GGA GGCTGCG CAGAACATGCGTGTGGTAC' \"&\" \"UACCCUGUAGAUCCGAAUUUGUG\"\n",
    "\".(((( ...  ((( ..((((( ............(.((((.\" \"&\" \")))))))))).))).....))))\"\n",
    "\n",
    " \")))) .....)))  .)))))             ) ))))\"\n",
    " \"GUGU UUAAGCCU  AGAUGU             C CCAU\""
   ]
  },
  {
   "cell_type": "code",
   "execution_count": null,
   "metadata": {},
   "outputs": [],
   "source": [
    "\")))))))))).))).....))))\"[::-1]"
   ]
  },
  {
   "cell_type": "code",
   "execution_count": null,
   "metadata": {},
   "outputs": [],
   "source": [
    "len(\"))))))))..).)).....))))\")"
   ]
  },
  {
   "cell_type": "code",
   "execution_count": null,
   "metadata": {},
   "outputs": [],
   "source": [
    "\"TACCCTGTAGATCCGAATTTGTG\".replace(\"T\", \"U\")"
   ]
  },
  {
   "cell_type": "code",
   "execution_count": null,
   "metadata": {},
   "outputs": [],
   "source": [
    "\"TCACG     TGACGAGGCTGCG  C   AG  AACATGCGTGTGGTAC\"\n",
    "\".((((     ......((.(..(  (   ((  ...........((((.\"\n",
    "\n",
    " \"))))           )) )  )..) . ))  .....      ))))\"          \n",
    " \"CACA           AA T  TCGG A TC  TACAG      GGTA\""
   ]
  },
  {
   "cell_type": "code",
   "execution_count": null,
   "metadata": {},
   "outputs": [],
   "source": [
    "def reverse_complement_rna_to_dna(rna_sequence):\n",
    "    complement = {'A': 'T', 'T': 'A', 'C': 'G', 'G': 'C'}\n",
    "    reverse_seq = rna_sequence[::-1]\n",
    "    return ''.join(complement[base] for base in reverse_seq)\n",
    "\n",
    "reverse_complement_rna_to_dna(\"TACCCTGTAGATCCGAATTTGTG\")"
   ]
  },
  {
   "cell_type": "code",
   "execution_count": null,
   "metadata": {},
   "outputs": [],
   "source": [
    "df.loc[16048, \"mrna_sequence\"][22:59]\n"
   ]
  },
  {
   "cell_type": "code",
   "execution_count": null,
   "metadata": {},
   "outputs": [],
   "source": [
    "\")))))))))).))).....))))\".count(\")\")"
   ]
  },
  {
   "cell_type": "code",
   "execution_count": null,
   "metadata": {},
   "outputs": [],
   "source": [
    "len(\"))))))))))\")"
   ]
  },
  {
   "cell_type": "code",
   "execution_count": null,
   "metadata": {},
   "outputs": [],
   "source": [
    "len(\"))))))))\")"
   ]
  }
 ],
 "metadata": {
  "kernelspec": {
   "display_name": "thesis-4DYweHFz-py3.11",
   "language": "python",
   "name": "python3"
  },
  "language_info": {
   "codemirror_mode": {
    "name": "ipython",
    "version": 3
   },
   "file_extension": ".py",
   "mimetype": "text/x-python",
   "name": "python",
   "nbconvert_exporter": "python",
   "pygments_lexer": "ipython3",
   "version": "3.11.3"
  },
  "orig_nbformat": 4
 },
 "nbformat": 4,
 "nbformat_minor": 2
}
