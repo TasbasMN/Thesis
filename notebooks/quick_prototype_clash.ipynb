{
 "cells": [
  {
   "cell_type": "code",
   "execution_count": 1,
   "metadata": {},
   "outputs": [
    {
     "name": "stdout",
     "output_type": "stream",
     "text": [
      "/run/media/nazif/2F946E411BA61D49/thesis\n"
     ]
    }
   ],
   "source": [
    "# change working dir to import methods from root/scripts\n",
    "%cd ../\n",
    "\n",
    "import pandas as pd\n",
    "import numpy as np\n",
    "\n",
    "from scripts.utils_v2_for_jupyter import *\n",
    "from scripts.features import *\n",
    "\n",
    "pd.set_option('display.max_columns', None)\n"
   ]
  },
  {
   "cell_type": "code",
   "execution_count": 2,
   "metadata": {},
   "outputs": [],
   "source": [
    "clash_df = pd.read_csv(\"data/processed/clash/clash_parsed.csv\")"
   ]
  },
  {
   "attachments": {},
   "cell_type": "markdown",
   "metadata": {},
   "source": [
    "# finding matches\n"
   ]
  },
  {
   "cell_type": "code",
   "execution_count": 3,
   "metadata": {},
   "outputs": [],
   "source": [
    "# df = find_matches(clash_df)\n",
    "# df.to_csv(\"results/clash_prediction_results.csv\", index=False)\n",
    "\n",
    "df = pd.read_csv(\"results/clash_prediction_results.csv\")"
   ]
  },
  {
   "cell_type": "code",
   "execution_count": null,
   "metadata": {},
   "outputs": [],
   "source": [
    "df = find_clash_types(df, find_noncanonical=True)\n",
    "\n",
    "df.head()"
   ]
  },
  {
   "cell_type": "code",
   "execution_count": null,
   "metadata": {},
   "outputs": [],
   "source": [
    "df = ohe_true_match_types(df)\n",
    "\n",
    "df.head()\n"
   ]
  },
  {
   "cell_type": "code",
   "execution_count": null,
   "metadata": {},
   "outputs": [],
   "source": [
    "def filter_type_1_matches(df):\n",
    "    \n",
    "    pred_type_1 = (df[\"pred_8mer\"] == 1) | (df[\"pred_7mer-a1\"] == 1) | (df[\"pred_7mer-m8\"] == 1)\n",
    "\n",
    "    return df[pred_type_1 & (df[\"true_type_1\"] == 1)] \n",
    "\n",
    "def filter_type_2_matches(df):\n",
    "    \n",
    "    return df[(df[\"pred_type_2\"] == 1) & (df[\"true_type_2\"] == 1)]\n",
    "\n",
    "def filter_type_3_matches(df):\n",
    "    \n",
    "    return df[(df[\"pred_type_3\"] == 1) & (df[\"true_type_3\"] == 1)]\n",
    "\n",
    "\n",
    "def filter_type_4_matches(df):\n",
    "    \n",
    "    return df[(df[\"pred_type_4\"] == 1) & (df[\"true_type_4\"] == 1)]\n",
    "\n",
    "\n",
    "def filter_type_5_matches(df):\n",
    "    \n",
    "    return df[(df[\"pred_type_5\"] == 1) & (df[\"true_type_5\"] == 1)]\n",
    "\n",
    "df2 = filter_type_5_matches(df)\n",
    "\n",
    "df2\n",
    "\n",
    "    "
   ]
  },
  {
   "cell_type": "code",
   "execution_count": null,
   "metadata": {},
   "outputs": [],
   "source": [
    "logic = (df[\"pred_8mer\"] == 1) | (df[\"pred_7mer-a1\"] == 1) | (df[\"pred_7mer-m8\"] == 1)\n",
    "df[logic & (df[\"true_type_1\"] == 1)]"
   ]
  }
 ],
 "metadata": {
  "kernelspec": {
   "display_name": ".venv",
   "language": "python",
   "name": "python3"
  },
  "language_info": {
   "codemirror_mode": {
    "name": "ipython",
    "version": 3
   },
   "file_extension": ".py",
   "mimetype": "text/x-python",
   "name": "python",
   "nbconvert_exporter": "python",
   "pygments_lexer": "ipython3",
   "version": "3.10.10"
  },
  "orig_nbformat": 4
 },
 "nbformat": 4,
 "nbformat_minor": 2
}
