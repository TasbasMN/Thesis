{
 "cells": [
  {
   "cell_type": "code",
   "execution_count": 1,
   "metadata": {},
   "outputs": [
    {
     "name": "stdout",
     "output_type": "stream",
     "text": [
      "/run/media/nazif/2F946E411BA61D49/thesis\n"
     ]
    }
   ],
   "source": [
    "%cd ../..\n",
    "\n",
    "import editdistance\n",
    "import subprocess\n",
    "import pandas as pd\n",
    "from scripts.utils_v2_for_jupyter import *\n",
    "\n",
    "\n",
    "pd.set_option('display.max_columns', None)"
   ]
  },
  {
   "cell_type": "code",
   "execution_count": 2,
   "metadata": {},
   "outputs": [],
   "source": [
    "def invoke_rnaduplex(long_sequence: str, short_sequence: str, energy_range: float = 5.0,\n",
    "                     rnaduplex_location: str = \"/usr/bin/RNAduplex\") -> tuple:\n",
    "\n",
    "    input_sequence = f\"{long_sequence}\\n{short_sequence}\".encode()\n",
    "\n",
    "    rnaduplex_subprocess = subprocess.Popen(\n",
    "        [rnaduplex_location, \"-e\", f\"{energy_range}\", \"-s\"],\n",
    "        stdout=subprocess.PIPE,\n",
    "        stdin=subprocess.PIPE,\n",
    "        stderr=subprocess.PIPE,\n",
    "    )\n",
    "\n",
    "    output, error = rnaduplex_subprocess.communicate(input=input_sequence)\n",
    "    rnaduplex_subprocess.wait()\n",
    "\n",
    "    first_line = output.decode().split(\"\\n\")[0].split()\n",
    "\n",
    "    dot_bracket_long, dot_bracket_short = first_line[0].split(\"&\")\n",
    "    start_long, end_long = map(int, first_line[1].split(\",\"))\n",
    "    start_short, end_short = map(int, first_line[3].split(\",\"))\n",
    "    energy = float(first_line[-1].strip(\"()\"))\n",
    "\n",
    "    return start_long, end_long, dot_bracket_long, start_short, end_short, dot_bracket_short, energy\n",
    "\n",
    "\n",
    "def find_matches_with_rnaduplex(df):\n",
    "\n",
    "    mrna_starts = []\n",
    "    mrna_ends = []\n",
    "    # mrna_dot_brackets = []\n",
    "    mirna_starts = []\n",
    "    mirna_ends = []\n",
    "    mirna_dot_brackets = []\n",
    "    energies = []\n",
    "\n",
    "    for _, row in df.iterrows():\n",
    "        start_long, end_long, dot_bracket_long, start_short, end_short, dot_bracket_short, energy = invoke_rnaduplex(\n",
    "            row.mrna_sequence, row.mirna_sequence)\n",
    "\n",
    "        mrna_starts.append(start_long)\n",
    "        mrna_ends.append(end_long)\n",
    "        # mrna_dot_brackets.append(dot_bracket_long)\n",
    "        mirna_starts.append(start_short)\n",
    "        mirna_ends.append(end_short)\n",
    "        mirna_dot_brackets.append(dot_bracket_short)\n",
    "        energies.append(energy)\n",
    "\n",
    "    df = pd.DataFrame({\"mrna_start\": mrna_starts,\n",
    "                       \"mrna_end\": mrna_ends,\n",
    "                       \"pred_energy\": energies,\n",
    "                       \"mirna_start\": mirna_starts,\n",
    "                       \"mirna_end\": mirna_ends,\n",
    "                       \"mirna_dot_bracket_5to3\": mirna_dot_brackets,\n",
    "                       })\n",
    "\n",
    "    return df\n",
    "\n",
    "\n",
    "def generate_alignment_strings(df):\n",
    "\n",
    "    full_strings = []\n",
    "\n",
    "    for _, row in df.iterrows():\n",
    "\n",
    "        start_string = (row.mirna_start - 1) * \"0\"\n",
    "        mid_string = row[\"mirna_dot_bracket_5to3\"].replace(\n",
    "            \".\", \"0\").replace(\")\", \"1\")\n",
    "        end_string = (len(row.mirna_sequence) - row.mirna_end) * \"0\"\n",
    "\n",
    "        full_string = start_string + mid_string + end_string\n",
    "\n",
    "        full_strings.append(full_string)\n",
    "\n",
    "    df[\"alignment_string\"] = full_strings\n",
    "\n",
    "    return df\n",
    "\n",
    "\n",
    "def count_basepairs(df):\n",
    "\n",
    "    def count_ones(str, seed=False):\n",
    "        return str[1:7].count(\"1\") if seed else str.count(\"1\")\n",
    "\n",
    "    df[\"pred_num_basepairs\"] = df[\"alignment_string\"].apply(count_ones)\n",
    "\n",
    "    df[\"pred_seed_basepairs\"] = df[\"alignment_string\"].apply(\n",
    "        count_ones, seed=True)\n",
    "\n",
    "    return df\n",
    "\n",
    "\n",
    "def find_most_different_string(original_string, column, cache=None):\n",
    "    if cache is None:\n",
    "        cache = {}\n",
    "    max_distance = float('-inf')\n",
    "    most_different_string = ''\n",
    "    for sequence in column:\n",
    "        if sequence in cache:\n",
    "            distance = cache[sequence]\n",
    "        else:\n",
    "            distance = editdistance.eval(original_string, sequence)\n",
    "            cache[sequence] = distance\n",
    "        if distance > max_distance:\n",
    "            max_distance = distance\n",
    "            most_different_string = sequence\n",
    "    return most_different_string"
   ]
  },
  {
   "attachments": {},
   "cell_type": "markdown",
   "metadata": {},
   "source": [
    "# import CLASH and make predictions with RNAduplex"
   ]
  },
  {
   "cell_type": "code",
   "execution_count": 3,
   "metadata": {},
   "outputs": [],
   "source": [
    "clash_df = clash()\n",
    "df = find_matches_with_rnaduplex(clash_df)\n",
    "df.to_csv(\"results/rnaduplex_predictions_raw.csv\", index=False)\n",
    "df = pd.read_csv(\"results/rnaduplex_predictions_raw.csv\")"
   ]
  },
  {
   "attachments": {},
   "cell_type": "markdown",
   "metadata": {},
   "source": [
    "# wrangling predictions"
   ]
  },
  {
   "cell_type": "code",
   "execution_count": 4,
   "metadata": {},
   "outputs": [],
   "source": [
    "# adding helper columns from clash\n",
    "df[\"id\"] = clash_df[\"id\"]\n",
    "df[\"clash_mrna_start\"] = clash_df[\"true_start\"]\n",
    "df[\"clash_mrna_end\"] = clash_df[\"true_end\"]\n",
    "df[\"true_seed_type\"] = clash_df[\"true_seed_type\"]\n",
    "df[\"true_num_basepairs\"] = clash_df[\"num_basepairs\"]\n",
    "df[\"true_seed_basepairs\"] = clash_df[\"seed_basepairs\"]\n",
    "df[\"true_energy\"] = clash_df[\"folding_energy\"]\n",
    "df[\"mirna_sequence\"] = clash_df[\"mirna_sequence\"]\n",
    "df[\"mirna_accession\"] = clash_df[\"mirna_accession\"]\n",
    "df[\"enst\"] = clash_df[\"enst\"]\n",
    "\n",
    "# feature generation\n",
    "df = generate_alignment_strings(df)\n",
    "df = count_basepairs(df)\n",
    "\n",
    "# generating MRE region coordinates\n",
    "df[\"mirna_length\"] = df[\"mirna_sequence\"].str.len()\n",
    "df[\"mre_start\"] = df[\"mrna_start\"] - df[\"mirna_start\"] + 1 \n",
    "df[\"mre_end\"] = df[\"mre_start\"] + df[\"mirna_length\"] - 1 \n",
    "df.drop(\"mirna_length\", axis=1, inplace=True)\n",
    "# mre_start has values less than 1. convert them all into 1s.\n",
    "df['mre_start'] = df['mre_start'].apply(lambda x: max(x, 1))\n",
    "\n",
    "# generating mre region sequence\n",
    "df[\"full_mrna_seq\"] = clash_df[\"mrna_sequence\"]\n",
    "\n",
    "\n",
    "def slice_column(\n",
    "    row): return row['full_mrna_seq'][row['mre_start']-1:row['mre_end']]\n",
    "\n",
    "\n",
    "df['mre_region'] = df.apply(slice_column, axis=1)\n",
    "df.drop(\"full_mrna_seq\", axis=1, inplace=True)\n",
    "\n",
    "# writing to csv\n",
    "df.to_csv(\"results/rnaduplex_predictions_parsed.csv\", index=False)"
   ]
  },
  {
   "attachments": {},
   "cell_type": "markdown",
   "metadata": {},
   "source": [
    "# positive data\n"
   ]
  },
  {
   "cell_type": "code",
   "execution_count": 5,
   "metadata": {},
   "outputs": [
    {
     "name": "stdout",
     "output_type": "stream",
     "text": [
      "18501\n",
      "13915\n",
      "13875\n",
      "13724\n"
     ]
    },
    {
     "name": "stderr",
     "output_type": "stream",
     "text": [
      "/tmp/ipykernel_68013/3177960279.py:33: UserWarning: Boolean Series key will be reindexed to match DataFrame index.\n",
      "  positive_df_results.drop(positive_df_results[mask2].index, inplace=True)\n",
      "/tmp/ipykernel_68013/3177960279.py:34: UserWarning: Boolean Series key will be reindexed to match DataFrame index.\n",
      "  positive_df_results.drop(positive_df_results[mask3].index, inplace=True)\n"
     ]
    }
   ],
   "source": [
    "positive_df_results = df.copy()\n",
    "\n",
    "print(len(positive_df_results))\n",
    "\n",
    "# dropping rows where calculated bp differences are more than 1\n",
    "# this narrow down predictions by limiting error on predictions to +-1 bases\n",
    "positive_df_results[\"bp_difference\"] = positive_df_results[\"pred_num_basepairs\"] - \\\n",
    "    positive_df_results[\"true_num_basepairs\"]\n",
    "positive_df_results[\"seed_bp_difference\"] = positive_df_results[\"pred_seed_basepairs\"] - \\\n",
    "    positive_df_results[\"true_seed_basepairs\"]\n",
    "\n",
    "positive_df_results = positive_df_results[(positive_df_results[\"seed_bp_difference\"] <= 1) & (\n",
    "    positive_df_results[\"seed_bp_difference\"] >= -1)]\n",
    "positive_df_results = positive_df_results[(positive_df_results[\"bp_difference\"] <= 1) & (\n",
    "    positive_df_results[\"bp_difference\"] >= -1)]\n",
    "\n",
    "positive_df_results.drop(\"bp_difference\", axis=1, inplace=True)\n",
    "positive_df_results.drop(\"seed_bp_difference\", axis=1, inplace=True)\n",
    "print(len(positive_df_results))\n",
    "\n",
    "# dropping rows with low stability\n",
    "positive_df_results = positive_df_results[positive_df_results['true_energy'] <= -5]\n",
    "print(len(positive_df_results))\n",
    "\n",
    "# dropping rows where true seed base pairs doesn't match true seed type\n",
    "mask = (positive_df_results[\"true_seed_basepairs\"] <= 4) & (\n",
    "    positive_df_results[\"true_seed_type\"] == \"6-mer\")\n",
    "mask2 = (positive_df_results[\"true_seed_basepairs\"] <= 4) & (\n",
    "    positive_df_results[\"true_seed_type\"] == \"7-mer\")\n",
    "mask3 = (positive_df_results[\"true_seed_basepairs\"] <= 4) & (\n",
    "    positive_df_results[\"true_seed_type\"] == \"8-mer\")\n",
    "positive_df_results.drop(positive_df_results[mask].index, inplace=True)\n",
    "positive_df_results.drop(positive_df_results[mask2].index, inplace=True)\n",
    "positive_df_results.drop(positive_df_results[mask3].index, inplace=True)\n",
    "print(len(positive_df_results))\n",
    "\n",
    "\n",
    "# selecting columns and writing to csv\n",
    "cols_to_keep = ['mrna_start', 'mrna_end', 'pred_energy', 'mirna_start', 'mirna_end',\n",
    "                'mirna_dot_bracket_5to3', 'mirna_sequence', \"mirna_accession\", \"mre_region\", \"enst\"]\n",
    "\n",
    "positive_df_results = positive_df_results[cols_to_keep]\n",
    "positive_df_results.to_csv(\"results/positive_df_results.csv\", index=False)"
   ]
  },
  {
   "attachments": {},
   "cell_type": "markdown",
   "metadata": {},
   "source": [
    "# negative data\n"
   ]
  },
  {
   "attachments": {},
   "cell_type": "markdown",
   "metadata": {},
   "source": [
    "### creating negative data"
   ]
  },
  {
   "cell_type": "code",
   "execution_count": 6,
   "metadata": {},
   "outputs": [
    {
     "name": "stderr",
     "output_type": "stream",
     "text": [
      "/tmp/ipykernel_68013/3908981277.py:9: SettingWithCopyWarning: \n",
      "A value is trying to be set on a copy of a slice from a DataFrame.\n",
      "Try using .loc[row_indexer,col_indexer] = value instead\n",
      "\n",
      "See the caveats in the documentation: https://pandas.pydata.org/pandas-docs/stable/user_guide/indexing.html#returning-a-view-versus-a-copy\n",
      "  negative_df.at[i, 'shuffled_sequence'] = new_string\n"
     ]
    }
   ],
   "source": [
    "negative_df = df[[\"mre_region\", \"mirna_sequence\", \"mirna_accession\"]]\n",
    "\n",
    "# shuffle mirna sequences using levenstein distance\n",
    "for i, row in negative_df.iterrows():\n",
    "    original_string = row['mirna_sequence']\n",
    "    # exclude the original string from the column\n",
    "    column = negative_df['mirna_sequence'].drop(i)\n",
    "    new_string = find_most_different_string(original_string, column)\n",
    "    negative_df.at[i, 'shuffled_sequence'] = new_string\n",
    "\n",
    "# renaming cols for convention\n",
    "rename_dict = {\"mre_region\": \"mre_region\", \"mirna_sequence\": \"old_mirna_sequence\",\n",
    "               \"mirna_accession\": \"old_mirna_accession\", \"shuffled_sequence\": \"mirna_sequence\"}\n",
    "negative_df = negative_df.rename(columns=rename_dict)\n",
    "\n",
    "# adding accessions for new mirna sequences\n",
    "accession_dict = clash_df.set_index('mirna_sequence')['mirna_accession'].to_dict()\n",
    "negative_df['mirna_accession'] = negative_df['mirna_sequence'].map(accession_dict)\n",
    "\n",
    "negative_df.to_csv(\"results/negative_df.csv\", index=False)\n"
   ]
  },
  {
   "attachments": {},
   "cell_type": "markdown",
   "metadata": {},
   "source": [
    "### finding matches"
   ]
  },
  {
   "cell_type": "code",
   "execution_count": 7,
   "metadata": {},
   "outputs": [],
   "source": [
    "negative_df.rename(columns={\"mre_region\": \"mrna_sequence\"}, inplace=True)\n",
    "negative_df_results = find_matches_with_rnaduplex(negative_df)\n",
    "\n",
    "# adding relevant columns \n",
    "negative_df_results[\"mirna_sequence\"] = negative_df[\"mirna_sequence\"]\n",
    "negative_df_results[\"mre_region\"] = negative_df[\"mrna_sequence\"]\n",
    "negative_df_results[\"mirna_accession\"] = negative_df[\"mirna_accession\"]\n",
    "negative_df_results[\"enst\"] = clash_df[\"enst\"]\n",
    "\n",
    "negative_df_results.to_csv(\"results/negative_df_results.csv\", index=False)\n"
   ]
  },
  {
   "attachments": {},
   "cell_type": "markdown",
   "metadata": {},
   "source": [
    "# negative df exploration"
   ]
  },
  {
   "cell_type": "code",
   "execution_count": 8,
   "metadata": {},
   "outputs": [
    {
     "data": {
      "text/plain": [
       "<Axes: >"
      ]
     },
     "execution_count": 8,
     "metadata": {},
     "output_type": "execute_result"
    },
    {
     "data": {
      "image/png": "[encoded data removed]",
      "text/plain": [
       "<Figure size 640x480 with 1 Axes>"
      ]
     },
     "metadata": {},
     "output_type": "display_data"
    }
   ],
   "source": [
    "negative_df_results.pred_energy.hist()\n"
   ]
  },
  {
   "cell_type": "code",
   "execution_count": 9,
   "metadata": {},
   "outputs": [
    {
     "data": {
      "text/plain": [
       "count    18501.000000\n",
       "mean         7.333766\n",
       "std          3.406829\n",
       "min          1.000000\n",
       "25%          4.000000\n",
       "50%          7.000000\n",
       "75%         10.000000\n",
       "max         19.000000\n",
       "Name: mirna_dot_bracket_5to3, dtype: float64"
      ]
     },
     "execution_count": 9,
     "metadata": {},
     "output_type": "execute_result"
    }
   ],
   "source": [
    "negative_df_results.mirna_dot_bracket_5to3= negative_df_results.mirna_dot_bracket_5to3.str.replace(\")\", \"1\")\n",
    "\n",
    "negative_df_results.mirna_dot_bracket_5to3.str.count(\"1\").describe()"
   ]
  },
  {
   "cell_type": "code",
   "execution_count": 10,
   "metadata": {},
   "outputs": [
    {
     "data": {
      "text/plain": [
       "<Axes: >"
      ]
     },
     "execution_count": 10,
     "metadata": {},
     "output_type": "execute_result"
    },
    {
     "data": {
      "image/png": "[encoded data removed]",
      "text/plain": [
       "<Figure size 640x480 with 1 Axes>"
      ]
     },
     "metadata": {},
     "output_type": "display_data"
    }
   ],
   "source": [
    "positive_df_results = pd.read_csv(\"results/rnaduplex_predictions_raw.csv\")\n",
    "positive_df_results.mirna_dot_bracket_5to3= positive_df_results.mirna_dot_bracket_5to3.str.replace(\")\", \"1\")\n",
    "\n",
    "negative_df_results.mirna_dot_bracket_5to3= negative_df_results.mirna_dot_bracket_5to3.str.replace(\")\", \"1\")\n",
    "\n",
    "positive_df_results.mirna_dot_bracket_5to3.str.count(\"1\").hist() # blue\n",
    "\n",
    "negative_df_results.mirna_dot_bracket_5to3.str.count(\"1\").hist() # orange"
   ]
  },
  {
   "cell_type": "code",
   "execution_count": 11,
   "metadata": {},
   "outputs": [
    {
     "data": {
      "text/plain": [
       "<Axes: >"
      ]
     },
     "execution_count": 11,
     "metadata": {},
     "output_type": "execute_result"
    },
    {
     "data": {
      "image/png": "[encoded data removed]",
      "text/plain": [
       "<Figure size 640x480 with 1 Axes>"
      ]
     },
     "metadata": {},
     "output_type": "display_data"
    }
   ],
   "source": [
    "positive_df_results.pred_energy.hist() # blue\n",
    "negative_df_results.pred_energy.hist() # orange"
   ]
  }
 ],
 "metadata": {
  "kernelspec": {
   "display_name": "thesis-4DYweHFz-py3.11",
   "language": "python",
   "name": "python3"
  },
  "language_info": {
   "codemirror_mode": {
    "name": "ipython",
    "version": 3
   },
   "file_extension": ".py",
   "mimetype": "text/x-python",
   "name": "python",
   "nbconvert_exporter": "python",
   "pygments_lexer": "ipython3",
   "version": "3.11.3"
  },
  "orig_nbformat": 4
 },
 "nbformat": 4,
 "nbformat_minor": 2
}
