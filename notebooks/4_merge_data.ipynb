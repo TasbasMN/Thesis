{
 "cells": [
  {
   "cell_type": "code",
   "execution_count": 1,
   "metadata": {},
   "outputs": [
    {
     "name": "stdout",
     "output_type": "stream",
     "text": [
      "/run/media/nazif/2F946E411BA61D49/thesis\n"
     ]
    }
   ],
   "source": [
    "%cd .."
   ]
  },
  {
   "cell_type": "code",
   "execution_count": 2,
   "metadata": {},
   "outputs": [],
   "source": [
    "import pandas as pd"
   ]
  },
  {
   "cell_type": "code",
   "execution_count": 16,
   "metadata": {},
   "outputs": [],
   "source": [
    "def generate_alignment_strings(df):\n",
    "\n",
    "    full_strings = []\n",
    "\n",
    "    for _, row in df.iterrows():\n",
    "\n",
    "        start_string = (row.mirna_start - 1) * \"0\"\n",
    "        mid_string = row[\"mirna_dot_bracket_5to3\"].replace(\n",
    "            \".\", \"0\").replace(\")\", \"1\")\n",
    "        end_string = (len(row.mirna_sequence) - row.mirna_end) * \"0\"\n",
    "\n",
    "        full_string = start_string + mid_string + end_string\n",
    "\n",
    "        full_strings.append(full_string)\n",
    "\n",
    "    df[\"alignment_string\"] = full_strings\n",
    "\n",
    "    return df\n",
    "\n",
    "def count_basepairs(df):\n",
    "\n",
    "    def count_ones(str, seed=False):\n",
    "        return str[1:7].count(\"1\") if seed else str.count(\"1\")\n",
    "\n",
    "    df[\"pred_num_basepairs\"] = df[\"alignment_string\"].apply(count_ones)\n",
    "\n",
    "    df[\"pred_seed_basepairs\"] = df[\"alignment_string\"].apply(\n",
    "        count_ones, seed=True)\n",
    "\n",
    "    return df"
   ]
  },
  {
   "cell_type": "code",
   "execution_count": 4,
   "metadata": {},
   "outputs": [],
   "source": [
    "positive_df = pd.read_csv(\"results/2_positive_data.csv\")\n",
    "positive_df[\"label\"] = 1\n",
    "\n",
    "\n",
    "negative_df = pd.read_csv(\"results/3_negative_data.csv\")\n",
    "negative_df[\"label\"] = 0"
   ]
  },
  {
   "cell_type": "code",
   "execution_count": 17,
   "metadata": {},
   "outputs": [],
   "source": [
    "df = pd.concat([positive_df, negative_df], ignore_index=True)\n",
    "df = generate_alignment_strings(df)\n",
    "df = count_basepairs(df)"
   ]
  },
  {
   "cell_type": "code",
   "execution_count": 19,
   "metadata": {},
   "outputs": [],
   "source": [
    "df.to_csv(\"results/4_merged_data.csv\", index=False)"
   ]
  }
 ],
 "metadata": {
  "kernelspec": {
   "display_name": "thesis-4DYweHFz-py3.11",
   "language": "python",
   "name": "python3"
  },
  "language_info": {
   "codemirror_mode": {
    "name": "ipython",
    "version": 3
   },
   "file_extension": ".py",
   "mimetype": "text/x-python",
   "name": "python",
   "nbconvert_exporter": "python",
   "pygments_lexer": "ipython3",
   "version": "3.11.3"
  },
  "orig_nbformat": 4
 },
 "nbformat": 4,
 "nbformat_minor": 2
}
