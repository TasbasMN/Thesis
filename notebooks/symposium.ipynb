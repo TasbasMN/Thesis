{
 "cells": [
  {
   "cell_type": "markdown",
   "metadata": {},
   "source": [
    "# TODO:\n",
    "\n",
    "fig. 1"
   ]
  },
  {
   "cell_type": "markdown",
   "metadata": {},
   "source": [
    "Stamoulakatou, E., Pinoli, P., Ceri, S., & Piro, R. M. (2020). Impact of mutational signatures on microRNA and their response elements. Pacific Symposium on Biocomputing. Pacific Symposium on Biocomputing, 25, 250–261. \n"
   ]
  },
  {
   "cell_type": "markdown",
   "metadata": {},
   "source": [
    "- DNA nucleotide alphabet be represented by the set A = {a, c, g, t}\n",
    "\n",
    "- nucleotide triplets t = 〈a1, a2, a3〉 ∈ A3\n",
    "\n",
    "- single nucleotide variants described by 96 possible somatic mutation types m = 〈a1, [a2 → a4] , a3〉\n",
    "\n",
    "- Pg(t) as the empirical probability (i.e., frequency) of observing the triplet t in the given genome g (human assembly)\n",
    "\n",
    "such that: sum(Pg(t)) = 1\n",
    "\n",
    "- s: the mutational signature associated with a specific mutational process\n"
   ]
  },
  {
   "cell_type": "markdown",
   "metadata": {},
   "source": [
    "# Code"
   ]
  },
  {
   "cell_type": "code",
   "execution_count": null,
   "metadata": {},
   "outputs": [],
   "source": [
    "# importing dependencies\n",
    "from Bio import SeqIO\n",
    "import pandas as pd\n",
    "\n",
    "from itertools import product"
   ]
  },
  {
   "cell_type": "code",
   "execution_count": null,
   "metadata": {},
   "outputs": [],
   "source": [
    "# import & parse fasta\n",
    "\n",
    "with open (\"../data/bcl2_canonical_3utr.fa\") as f:\n",
    "    records = SeqIO.parse(f, \"fasta\")\n",
    "    \n",
    "    transcripts = [str(rec.seq) for rec in records]\n",
    "    \n",
    "    # string containing whole sequence\n",
    "    sequence = \"\".join(transcripts)\n",
    "\n",
    "len(sequence)"
   ]
  },
  {
   "cell_type": "code",
   "execution_count": null,
   "metadata": {},
   "outputs": [],
   "source": [
    "# function that finds triplets\n",
    "\n",
    "def find_triplets(sequence):\n",
    "    return [sequence[nucleotide : nucleotide + 3] for nucleotide in range(len(sequence) - 2)]\n",
    "\n",
    "# generate triplets\n",
    "triplets = find_triplets(sequence)\n",
    "len(triplets)\n",
    "\n",
    "triplets[-1]"
   ]
  },
  {
   "cell_type": "code",
   "execution_count": null,
   "metadata": {},
   "outputs": [],
   "source": [
    "# generating the dict that holds triplet:frequency pairs\n",
    "alphabet = [\"A\", \"C\", \"G\", \"T\"]\n",
    "triplet_combinations = [a+b+c for a in alphabet for b in alphabet for c in alphabet]\n",
    "\n",
    "\n",
    "\n",
    "# functions that take complement of a triplet\n",
    "def complement(n):\n",
    "    if n == \"A\":\n",
    "        return \"T\"\n",
    "    elif n == \"C\":\n",
    "        return \"G\"\n",
    "    elif n == \"G\":\n",
    "        return \"C\"\n",
    "    else:\n",
    "        return \"A\"\n",
    "    \n",
    "def complement_of_triplet(triplet):\n",
    "    return \"\".join(complement(character) for character in triplet)\n",
    "    \n",
    "\n",
    "# loop that iterates over triplet combinations to eliminate complementary triplets (their freq. of occurency is the same)\n",
    "for triplet in triplet_combinations:\n",
    "    if complement_of_triplet(triplet) in triplet_combinations:\n",
    "        triplet_combinations.remove(triplet)\n",
    "\n",
    "\n",
    "\n",
    "# initializing and populating dict that holds triplet:frequency pairs\n",
    "observation_probability = {triplet : 0 for triplet in triplet_combinations}\n",
    "print(observation_probability)\n",
    "\n"
   ]
  },
  {
   "cell_type": "code",
   "execution_count": null,
   "metadata": {},
   "outputs": [],
   "source": [
    "observation_probability[\"TTG\"]"
   ]
  },
  {
   "cell_type": "code",
   "execution_count": null,
   "metadata": {},
   "outputs": [],
   "source": [
    "def get_triplet_probability(triplet):\n",
    "    if triplet in observation_probability:\n",
    "        return observation_probability[triplet]\n",
    "    else:\n",
    "        return observation_probability[complement_of_triplet(triplet)]\n",
    "\n",
    "\n",
    "\n",
    "probs = get_triplet_probability(triplets[0]) \n",
    "\n",
    "print(probs)\n",
    "\n",
    "for triplet in triplets:\n",
    "    print(get_triplet_probability(triplet))\n"
   ]
  },
  {
   "cell_type": "markdown",
   "metadata": {},
   "source": [
    "# misc. codes"
   ]
  },
  {
   "cell_type": "code",
   "execution_count": null,
   "metadata": {},
   "outputs": [],
   "source": [
    "def complement(n):\n",
    "    if n == \"A\":\n",
    "        return \"T\"\n",
    "    elif n == \"C\":\n",
    "        return \"G\"\n",
    "    elif n == \"G\":\n",
    "        return \"C\"\n",
    "    else:\n",
    "        return \"A\""
   ]
  },
  {
   "cell_type": "code",
   "execution_count": null,
   "metadata": {},
   "outputs": [],
   "source": [
    "def reverse_complement(t):\n",
    "    return \"\".join([complement(x) for x in t[::-1]])"
   ]
  }
 ],
 "metadata": {
  "kernelspec": {
   "display_name": "Python 3.10.8 ('tenv': venv)",
   "language": "python",
   "name": "python3"
  },
  "language_info": {
   "codemirror_mode": {
    "name": "ipython",
    "version": 3
   },
   "file_extension": ".py",
   "mimetype": "text/x-python",
   "name": "python",
   "nbconvert_exporter": "python",
   "pygments_lexer": "ipython3",
   "version": "3.10.8"
  },
  "orig_nbformat": 4,
  "vscode": {
   "interpreter": {
    "hash": "0a7314db4cd9cbf8825ff67208d8d351ac5340431b699125bf50d4fb6663edf3"
   }
  }
 },
 "nbformat": 4,
 "nbformat_minor": 2
}
