{
 "cells": [
  {
   "cell_type": "code",
   "execution_count": null,
   "metadata": {},
   "outputs": [],
   "source": [
    "# importing dependencies\n",
    "from Bio import SeqIO\n",
    "import pandas as pd\n",
    "from collections import Counter\n"
   ]
  },
  {
   "cell_type": "markdown",
   "metadata": {},
   "source": [
    "# Importing main sequence\n",
    "\n"
   ]
  },
  {
   "cell_type": "code",
   "execution_count": null,
   "metadata": {},
   "outputs": [],
   "source": [
    "# import & parse fasta\n",
    "# \n",
    "# write the path to the fasta file below\n",
    "\n",
    "with open (\"../../data/bcl2_3utr.fasta\") as f:\n",
    "    records = SeqIO.parse(f, \"fasta\")\n",
    "    \n",
    "    transcripts = [str(rec.seq) for rec in records]\n",
    "    \n",
    "    # string containing whole sequence\n",
    "    sequence = \"\".join(transcripts)\n"
   ]
  },
  {
   "cell_type": "markdown",
   "metadata": {},
   "source": [
    "# Importing miRNA sequence database"
   ]
  },
  {
   "cell_type": "code",
   "execution_count": null,
   "metadata": {},
   "outputs": [],
   "source": [
    "# opening miRNA sequence database\n",
    "\n",
    "with open(\"../../data/mature_miRNAs.fa\") as fasta_file:\n",
    "    identifiers = []\n",
    "    lengths = []\n",
    "    sequences = []\n",
    "    cDNA = []\n",
    "\n",
    "    for seq_record in SeqIO.parse(fasta_file, \"fasta\"):\n",
    "        identifiers.append(seq_record.id)\n",
    "        lengths.append(len(seq_record.seq))\n",
    "        sequences.append(str(seq_record.seq))\n",
    "        \n",
    "        #back_transcribe() changes U's into T's, complement() takes the complement\n",
    "        temp = seq_record.seq.back_transcribe()\n",
    "        temp = temp.complement()\n",
    "        cDNA.append(str(temp))\n",
    "\n",
    "\n",
    "# zipping lists into a pandas df\n",
    "mirna_df = pd.DataFrame(list(zip(identifiers, sequences, cDNA)), columns = [\"name\", \"miRNA_seq\", \"cDNA_seq\"])\n",
    "\n",
    "# removing non-human entries\n",
    "mirna_df = mirna_df[mirna_df[\"name\"].str.contains(\"hsa\")]\n",
    "\n",
    "# deriving MRE sequences and adding as a new column\n",
    "mirna_df[\"MRE\"] = mirna_df[\"cDNA_seq\"].str[1:9]\n",
    "\n",
    "# fixing index numbers\n",
    "mirna_df.index = range(1, len(mirna_df)+1)\n",
    "\n",
    "# deriving 7mer columns\n",
    "mirna_df[\"7mer1\"] = mirna_df[\"cDNA_seq\"].str[1:8]\n",
    "mirna_df[\"7mer2\"] = mirna_df[\"cDNA_seq\"].str[2:9]\n",
    "\n",
    "#deriving 6mer columns\n",
    "mirna_df[\"6mer1\"] = mirna_df[\"cDNA_seq\"].str[1:7]\n",
    "mirna_df[\"6mer2\"] = mirna_df[\"cDNA_seq\"].str[2:8]\n",
    "mirna_df[\"6mer3\"] = mirna_df[\"cDNA_seq\"].str[3:9]\n",
    "\n",
    "mirna_df.head()"
   ]
  },
  {
   "cell_type": "markdown",
   "metadata": {},
   "source": [
    "# Exploratory Data Analysis"
   ]
  },
  {
   "cell_type": "code",
   "execution_count": null,
   "metadata": {},
   "outputs": [],
   "source": [
    "#checking miRNAs for duplicates\n",
    "\n",
    "print(f\"Total number of miRNA sequences: {len(mirna_df)}\")\n",
    "print(\"Duplicated MRE sequences: \", mirna_df[\"MRE\"].duplicated().sum())\n",
    "print(\"Duplicated miRNA sequences: \", mirna_df[\"miRNA_seq\"].duplicated().sum())\n",
    "print(\"Duplicated IDs: \", mirna_df[\"name\"].duplicated().sum())\n",
    "mirna_df.head()"
   ]
  },
  {
   "cell_type": "code",
   "execution_count": null,
   "metadata": {},
   "outputs": [],
   "source": [
    "# exploring the imported sequence\n",
    "\n",
    "print(f\"The length of target sequence: {len(sequence)}\")\n",
    "print(f\"Total number of transcripts in the file: {len(transcripts)}\")\n",
    "print(f\"Total number of A: {sequence.count('A')}\")\n",
    "print(f\"Total number of T: {sequence.count('T')}\")\n",
    "print(f\"Total number of C: {sequence.count('C')}\")\n",
    "print(f\"Total number of G: {sequence.count('G')}\")\n",
    "print(f\"GC ratio:  {(sequence.count('G') + sequence.count('C')) / len(sequence)}\" )\n"
   ]
  },
  {
   "cell_type": "markdown",
   "metadata": {},
   "source": [
    "# required functions"
   ]
  },
  {
   "cell_type": "code",
   "execution_count": null,
   "metadata": {},
   "outputs": [],
   "source": [
    "# generator function to find kmers of k size:\n",
    "\n",
    "def generate_kmers(sequence, k=6):\n",
    "    for nucleotide in range(len(sequence) - k + 1):\n",
    "        yield sequence[nucleotide: nucleotide + k]"
   ]
  },
  {
   "cell_type": "code",
   "execution_count": null,
   "metadata": {},
   "outputs": [],
   "source": [
    "# function to find seed sequences in kmers\n",
    "def find_seed_in_kmers(kmer_generator, seeds):\n",
    "    \n",
    "    # copying seeds dict into the function\n",
    "    temp = seeds.copy()\n",
    "    \n",
    "    # counter that iterates through kmers to find matches\n",
    "    counter = Counter([kmer for kmer in kmer_generator if kmer in temp])\n",
    "\n",
    "    # returns dict, sorted by the number of matches            \n",
    "    return dict(sorted(counter.items(), key = lambda item: item[1], reverse=True))"
   ]
  },
  {
   "cell_type": "code",
   "execution_count": null,
   "metadata": {},
   "outputs": [],
   "source": [
    "# creating a dict that holds all possible kmers to iterate on\n",
    "\n",
    "columns_to_merge = [\"MRE\", \"7mer1\", \"7mer2\", \"6mer1\", \"6mer2\", \"6mer3\"]\n",
    "temp = []\n",
    "for column in columns_to_merge:\n",
    "    temp.extend(mirna_df[column].tolist())\n",
    "\n",
    "# final dict containing all possible kmers and their corresponding hit values (currently 0)\n",
    "seed_kmers = {k: 0 for k in temp}"
   ]
  },
  {
   "cell_type": "markdown",
   "metadata": {},
   "source": [
    "# results"
   ]
  },
  {
   "cell_type": "code",
   "execution_count": null,
   "metadata": {},
   "outputs": [],
   "source": [
    "# generate_kmers will find kmers in the imported fasta\n",
    "# find_seed_in_kmers will find matches and counts them \n",
    "#\n",
    "# replace \"8\" with any value (6, 7 or 8) to find matches of kmers of that size.\n",
    "seeds = find_seed_in_kmers(generate_kmers(sequence, 8), seed_kmers)\n",
    "\n",
    "\n",
    "# for loop that prints only the seeds with at least one hit\n",
    "for kmer, count in seeds.items():\n",
    "    if count != 0:\n",
    "        # fetches miRNA names having that specific seed sequence\n",
    "        matching_mirnas = mirna_df.loc[(mirna_df[\"MRE\"] == kmer)][\"name\"].values\n",
    "        print(f\"Seed: {kmer},    {count} matches,    matching miRNA(s): {matching_mirnas}\")"
   ]
  },
  {
   "cell_type": "markdown",
   "metadata": {},
   "source": [
    "## **top seed sequences & their corresponding carrier miRNAs by match size:**\n",
    "\n",
    "please note that some miRNAs have the same seed sequences\n",
    "\n",
    "\n",
    "\n"
   ]
  },
  {
   "cell_type": "code",
   "execution_count": null,
   "metadata": {},
   "outputs": [],
   "source": [
    "# top matching 8mers\n",
    "\n",
    "seeds = find_seed_in_kmers(generate_kmers(sequence, 8), seed_kmers)\n",
    "\n",
    "for kmer, count in seeds.items():\n",
    "    if count != 0:\n",
    "        possible_sequences = mirna_df.loc[(mirna_df[\"MRE\"] == kmer)][\"name\"].values\n",
    "        print(f\"{kmer}: {count} - {possible_sequences}\")"
   ]
  },
  {
   "cell_type": "code",
   "execution_count": null,
   "metadata": {},
   "outputs": [],
   "source": [
    "# top matching 7mers\n",
    "\n",
    "seeds = find_seed_in_kmers(generate_kmers(sequence, 7), seed_kmers)\n",
    "\n",
    "for kmer, count in seeds.items():\n",
    "    if count != 0:\n",
    "        possible_sequences = mirna_df.loc[(mirna_df['7mer1'] == kmer) | (mirna_df['7mer2'] == kmer)][\"name\"].values\n",
    "        print(f\"{kmer}: {count} - {possible_sequences}\")"
   ]
  },
  {
   "cell_type": "markdown",
   "metadata": {},
   "source": [
    "# experiments\n",
    "\n",
    "These temporary cells are not a part of the main code. They're here to test stuff & will be deleted later."
   ]
  },
  {
   "cell_type": "code",
   "execution_count": null,
   "metadata": {},
   "outputs": [],
   "source": [
    "# code that drops 7mers that doesn't start with an A (experiment for anchor A filtering)\n",
    "mirna_df[\"7mer1\"].replace({\"^[C,T,G]\": None}, regex=True, inplace=True)\n",
    "\n",
    "mirna_df.head()"
   ]
  },
  {
   "cell_type": "code",
   "execution_count": null,
   "metadata": {},
   "outputs": [],
   "source": [
    "# writes whole sequence string to a file\n",
    "\n",
    "with open(\"sequence.txt\", \"w\") as export:\n",
    "    export.write(sequence)"
   ]
  }
 ],
 "metadata": {
  "kernelspec": {
   "display_name": "Python 3.10.8 ('tenv': venv)",
   "language": "python",
   "name": "python3"
  },
  "language_info": {
   "codemirror_mode": {
    "name": "ipython",
    "version": 3
   },
   "file_extension": ".py",
   "mimetype": "text/x-python",
   "name": "python",
   "nbconvert_exporter": "python",
   "pygments_lexer": "ipython3",
   "version": "3.10.8"
  },
  "orig_nbformat": 4,
  "vscode": {
   "interpreter": {
    "hash": "0a7314db4cd9cbf8825ff67208d8d351ac5340431b699125bf50d4fb6663edf3"
   }
  }
 },
 "nbformat": 4,
 "nbformat_minor": 2
}
