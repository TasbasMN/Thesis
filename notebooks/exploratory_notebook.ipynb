{
 "cells": [
  {
   "cell_type": "code",
   "execution_count": 1,
   "metadata": {},
   "outputs": [
    {
     "name": "stdout",
     "output_type": "stream",
     "text": [
      "/run/media/nazif/2F946E411BA61D49/thesis\n"
     ]
    }
   ],
   "source": [
    "%cd ..\n",
    "import subprocess\n",
    "import pandas as pd\n",
    "from icecream import ic\n",
    "from matplotlib import pyplot as plt\n",
    "\n",
    "from scripts.utils_v2_for_jupyter import *\n",
    "\n",
    "\n",
    "pd.set_option('display.max_columns', None)\n"
   ]
  },
  {
   "cell_type": "code",
   "execution_count": 2,
   "metadata": {},
   "outputs": [
    {
     "data": {
      "text/html": [
       "<div>\n",
       "<style scoped>\n",
       "    .dataframe tbody tr th:only-of-type {\n",
       "        vertical-align: middle;\n",
       "    }\n",
       "\n",
       "    .dataframe tbody tr th {\n",
       "        vertical-align: top;\n",
       "    }\n",
       "\n",
       "    .dataframe thead th {\n",
       "        text-align: right;\n",
       "    }\n",
       "</style>\n",
       "<table border=\"1\" class=\"dataframe\">\n",
       "  <thead>\n",
       "    <tr style=\"text-align: right;\">\n",
       "      <th></th>\n",
       "      <th>id</th>\n",
       "      <th>gene_name</th>\n",
       "      <th>mirna_name</th>\n",
       "      <th>mirna_sequence</th>\n",
       "      <th>mrna_start</th>\n",
       "      <th>mrna_end</th>\n",
       "      <th>pred_energy</th>\n",
       "      <th>true_energy</th>\n",
       "      <th>mirna_start</th>\n",
       "      <th>mirna_end</th>\n",
       "      <th>true_seed_type</th>\n",
       "      <th>true_num_basepairs</th>\n",
       "      <th>true_seed_basepairs</th>\n",
       "      <th>alignment_string</th>\n",
       "      <th>pred_num_basepairs</th>\n",
       "      <th>pred_seed_basepairs</th>\n",
       "    </tr>\n",
       "  </thead>\n",
       "  <tbody>\n",
       "    <tr>\n",
       "      <th>0</th>\n",
       "      <td>0727A-1038930_1</td>\n",
       "      <td>CCNG1</td>\n",
       "      <td>let-7a</td>\n",
       "      <td>TGAGGTAGTAGGTTGTATAGTT</td>\n",
       "      <td>23</td>\n",
       "      <td>46</td>\n",
       "      <td>-27.7</td>\n",
       "      <td>-25.1</td>\n",
       "      <td>1</td>\n",
       "      <td>21</td>\n",
       "      <td>noncanonical_seed</td>\n",
       "      <td>20</td>\n",
       "      <td>6</td>\n",
       "      <td>1111111111111111111100</td>\n",
       "      <td>20</td>\n",
       "      <td>6</td>\n",
       "    </tr>\n",
       "    <tr>\n",
       "      <th>1</th>\n",
       "      <td>L1HS-1112536_1</td>\n",
       "      <td>DICER1</td>\n",
       "      <td>let-7a</td>\n",
       "      <td>TGAGGTAGTAGGTTGTATAGTT</td>\n",
       "      <td>12</td>\n",
       "      <td>31</td>\n",
       "      <td>-26.2</td>\n",
       "      <td>-24.4</td>\n",
       "      <td>1</td>\n",
       "      <td>19</td>\n",
       "      <td>9-mer</td>\n",
       "      <td>17</td>\n",
       "      <td>6</td>\n",
       "      <td>1111111110111111110000</td>\n",
       "      <td>17</td>\n",
       "      <td>6</td>\n",
       "    </tr>\n",
       "    <tr>\n",
       "      <th>2</th>\n",
       "      <td>L2HS-818542_2</td>\n",
       "      <td>SESN1</td>\n",
       "      <td>let-7a</td>\n",
       "      <td>TGAGGTAGTAGGTTGTATAGTT</td>\n",
       "      <td>4</td>\n",
       "      <td>25</td>\n",
       "      <td>-23.6</td>\n",
       "      <td>-22.2</td>\n",
       "      <td>1</td>\n",
       "      <td>22</td>\n",
       "      <td>noncanonical_seed</td>\n",
       "      <td>19</td>\n",
       "      <td>6</td>\n",
       "      <td>0111111011111111111110</td>\n",
       "      <td>19</td>\n",
       "      <td>6</td>\n",
       "    </tr>\n",
       "    <tr>\n",
       "      <th>3</th>\n",
       "      <td>L2HS-1161339_2</td>\n",
       "      <td>NIPBL</td>\n",
       "      <td>let-7a</td>\n",
       "      <td>TGAGGTAGTAGGTTGTATAGTT</td>\n",
       "      <td>4</td>\n",
       "      <td>25</td>\n",
       "      <td>-23.8</td>\n",
       "      <td>-22.1</td>\n",
       "      <td>1</td>\n",
       "      <td>22</td>\n",
       "      <td>noncanonical_seed</td>\n",
       "      <td>18</td>\n",
       "      <td>6</td>\n",
       "      <td>1111111000111111111111</td>\n",
       "      <td>19</td>\n",
       "      <td>6</td>\n",
       "    </tr>\n",
       "    <tr>\n",
       "      <th>4</th>\n",
       "      <td>L2-407944_2</td>\n",
       "      <td>INTS12</td>\n",
       "      <td>let-7a</td>\n",
       "      <td>TGAGGTAGTAGGTTGTATAGTT</td>\n",
       "      <td>3</td>\n",
       "      <td>25</td>\n",
       "      <td>-24.0</td>\n",
       "      <td>-21.9</td>\n",
       "      <td>1</td>\n",
       "      <td>22</td>\n",
       "      <td>noncanonical_seed</td>\n",
       "      <td>18</td>\n",
       "      <td>6</td>\n",
       "      <td>1111111111111100011110</td>\n",
       "      <td>18</td>\n",
       "      <td>6</td>\n",
       "    </tr>\n",
       "  </tbody>\n",
       "</table>\n",
       "</div>"
      ],
      "text/plain": [
       "                id gene_name mirna_name          mirna_sequence  mrna_start  \\\n",
       "0  0727A-1038930_1     CCNG1     let-7a  TGAGGTAGTAGGTTGTATAGTT          23   \n",
       "1   L1HS-1112536_1    DICER1     let-7a  TGAGGTAGTAGGTTGTATAGTT          12   \n",
       "2    L2HS-818542_2     SESN1     let-7a  TGAGGTAGTAGGTTGTATAGTT           4   \n",
       "3   L2HS-1161339_2     NIPBL     let-7a  TGAGGTAGTAGGTTGTATAGTT           4   \n",
       "4      L2-407944_2    INTS12     let-7a  TGAGGTAGTAGGTTGTATAGTT           3   \n",
       "\n",
       "   mrna_end  pred_energy  true_energy  mirna_start  mirna_end  \\\n",
       "0        46        -27.7        -25.1            1         21   \n",
       "1        31        -26.2        -24.4            1         19   \n",
       "2        25        -23.6        -22.2            1         22   \n",
       "3        25        -23.8        -22.1            1         22   \n",
       "4        25        -24.0        -21.9            1         22   \n",
       "\n",
       "      true_seed_type  true_num_basepairs  true_seed_basepairs  \\\n",
       "0  noncanonical_seed                  20                    6   \n",
       "1              9-mer                  17                    6   \n",
       "2  noncanonical_seed                  19                    6   \n",
       "3  noncanonical_seed                  18                    6   \n",
       "4  noncanonical_seed                  18                    6   \n",
       "\n",
       "         alignment_string  pred_num_basepairs  pred_seed_basepairs  \n",
       "0  1111111111111111111100                  20                    6  \n",
       "1  1111111110111111110000                  17                    6  \n",
       "2  0111111011111111111110                  19                    6  \n",
       "3  1111111000111111111111                  19                    6  \n",
       "4  1111111111111100011110                  18                    6  "
      ]
     },
     "execution_count": 2,
     "metadata": {},
     "output_type": "execute_result"
    }
   ],
   "source": [
    "def invoke_rnaduplex(long_sequence: str, short_sequence: str, energy_range: float = 5.0,\n",
    "                     rnaduplex_location: str = \"/usr/bin/RNAduplex\") -> tuple:\n",
    "\n",
    "    input_sequence = f\"{long_sequence}\\n{short_sequence}\".encode()\n",
    "\n",
    "    rnaduplex_subprocess = subprocess.Popen(\n",
    "        [rnaduplex_location, \"-e\", f\"{energy_range}\", \"-s\"],\n",
    "        stdout=subprocess.PIPE,\n",
    "        stdin=subprocess.PIPE,\n",
    "        stderr=subprocess.PIPE,\n",
    "    )\n",
    "\n",
    "    output, error = rnaduplex_subprocess.communicate(input=input_sequence)\n",
    "    rnaduplex_subprocess.wait()\n",
    "\n",
    "    first_line = output.decode().split(\"\\n\")[0].split()\n",
    "\n",
    "    dot_bracket_long, dot_bracket_short = first_line[0].split(\"&\")\n",
    "    start_long, end_long = map(int, first_line[1].split(\",\"))\n",
    "    start_short, end_short = map(int, first_line[3].split(\",\"))\n",
    "    energy = float(first_line[-1].strip(\"()\"))\n",
    "\n",
    "    mrna_slice = long_sequence[start_long-1:end_long]\n",
    "    mirna_slice = short_sequence[start_short-1:end_short]\n",
    "\n",
    "\n",
    "    return start_long, end_long, dot_bracket_long, start_short, end_short, dot_bracket_short, energy, mrna_slice, mirna_slice\n",
    "\n",
    "\n",
    "def find_matches_with_rnaduplex(df):\n",
    "\n",
    "    mrna_starts = []\n",
    "    mrna_ends = []\n",
    "    # mrna_dot_brackets = []\n",
    "    mirna_starts = []\n",
    "    mirna_ends = []\n",
    "    mirna_dot_brackets = []\n",
    "    energies = []\n",
    "\n",
    "    # mrna_slices = []\n",
    "    # mirna_slices = []\n",
    "\n",
    "    for _, row in df.iterrows():\n",
    "        start_long, end_long, dot_bracket_long, start_short, end_short, dot_bracket_short, energy, mrna_slice, mirna_slice = invoke_rnaduplex(\n",
    "            row.mrna_sequence, row.mirna_sequence)\n",
    "\n",
    "        mrna_starts.append(start_long)\n",
    "        mrna_ends.append(end_long)\n",
    "        # mrna_dot_brackets.append(dot_bracket_long)\n",
    "        mirna_starts.append(start_short)\n",
    "        mirna_ends.append(end_short)\n",
    "        mirna_dot_brackets.append(dot_bracket_short)\n",
    "        energies.append(energy)\n",
    "\n",
    "        # mrna_slices.append(mrna_slice)\n",
    "        # mirna_slices.append(mirna_slice)\n",
    "\n",
    "    # getting columns from clash df\n",
    "    ids = df[\"id\"]\n",
    "    \n",
    "    true_seed_types = df[\"true_seed_type\"]\n",
    "    true_no_bps = df[\"num_basepairs\"]\n",
    "    true_seed_bps = df[\"seed_basepairs\"]\n",
    "    true_energies = df[\"folding_energy\"]\n",
    "    mirna_sequences = df[\"mirna_sequence\"]\n",
    "    gene_names = df[\"gene_name\"]\n",
    "    mirna_names = df[\"mirna_name\"]\n",
    "\n",
    "    df = pd.DataFrame({\"id\": ids,\n",
    "                       \"gene_name\": gene_names,\n",
    "                       \"mirna_name\": mirna_names,\n",
    "                       \"mirna_sequence\": mirna_sequences,\n",
    "\n",
    "                       \"mrna_start\": mrna_starts,\n",
    "                       \"mrna_end\": mrna_ends,\n",
    "\n",
    "                       \"pred_energy\": energies,\n",
    "                       \"true_energy\": true_energies,\n",
    "                       \n",
    "                       \"mirna_start\": mirna_starts,\n",
    "                       \"mirna_end\": mirna_ends,\n",
    "                       \"mirna_dot_bracket_5to3\": mirna_dot_brackets,\n",
    "                       \n",
    "                       \"true_seed_type\": true_seed_types,\n",
    "                       \"true_num_basepairs\": true_no_bps,\n",
    "                       \"true_seed_basepairs\": true_seed_bps\n",
    "\n",
    "                       })\n",
    "\n",
    "    return df\n",
    "\n",
    "\n",
    "\n",
    "\n",
    "def generate_alignment_strings(df):\n",
    "    \n",
    "    \n",
    "    full_strings = []\n",
    "    \n",
    "    for _, row in df.iterrows():\n",
    "        \n",
    "        start_string = (row.mirna_start - 1) * \"0\"\n",
    "        mid_string = row[\"mirna_dot_bracket_5to3\"].replace(\".\", \"0\").replace(\")\", \"1\")\n",
    "        end_string = (len(row.mirna_sequence) - row.mirna_end) * \"0\"\n",
    "        \n",
    "        full_string = start_string + mid_string + end_string\n",
    "        \n",
    "        full_strings.append(full_string)\n",
    "        \n",
    "    df[\"alignment_string\"] = full_strings\n",
    "    df.drop(\"mirna_dot_bracket_5to3\", axis=1, inplace=True)\n",
    "    # df.drop(\"mirna_start\", axis=1, inplace=True)\n",
    "    # df.drop(\"mirna_end\", axis=1, inplace=True)\n",
    "    \n",
    "    \n",
    "    return df\n",
    "\n",
    "\n",
    "def count_basepairs(df):\n",
    "    \n",
    "    def count_ones(str, seed=False):\n",
    "        return str[1:7].count(\"1\") if seed else str.count(\"1\")\n",
    "\n",
    "    df[\"pred_num_basepairs\"] = df[\"alignment_string\"].apply(count_ones)\n",
    "\n",
    "    df[\"pred_seed_basepairs\"] = df[\"alignment_string\"].apply(count_ones, seed=True)\n",
    "\n",
    "    return df\n",
    "\n",
    "#####################################\n",
    "\n",
    "clash_df = clash()\n",
    "# df = find_matches_with_rnaduplex(clash_df)\n",
    "# df.to_csv(\"results/rnaduplex_predictions.csv\", index=False)\n",
    "df = pd.read_csv(\"results/rnaduplex_predictions.csv\")\n",
    "df = generate_alignment_strings(df)\n",
    "df = count_basepairs(df)\n",
    "\n",
    "df.head()"
   ]
  },
  {
   "attachments": {},
   "cell_type": "markdown",
   "metadata": {},
   "source": [
    "# exploratory stuff"
   ]
  },
  {
   "cell_type": "code",
   "execution_count": null,
   "metadata": {},
   "outputs": [
    {
     "data": {
      "text/plain": [
       "<Axes: >"
      ]
     },
     "metadata": {},
     "output_type": "display_data"
    },
    {
     "data": {
      "image/png": "[encoded data removed]",
      "text/plain": [
       "<Figure size 640x480 with 1 Axes>"
      ]
     },
     "metadata": {},
     "output_type": "display_data"
    }
   ],
   "source": [
    "df[\"energy_difference\"] = df[\"pred_energy\"] - df[\"true_energy\"]\n",
    "df.energy_difference.hist()\n",
    "\n",
    "# energy diff ile alakalı droplanacak bir şey bulamadım"
   ]
  },
  {
   "cell_type": "code",
   "execution_count": null,
   "metadata": {},
   "outputs": [
    {
     "data": {
      "text/plain": [
       "<Axes: >"
      ]
     },
     "metadata": {},
     "output_type": "display_data"
    },
    {
     "data": {
      "image/png": "[encoded data removed]",
      "text/plain": [
       "<Figure size 640x480 with 1 Axes>"
      ]
     },
     "metadata": {},
     "output_type": "display_data"
    }
   ],
   "source": [
    "df[\"mirna_length\"] = df.mirna_sequence.apply(len)\n",
    "\n",
    "df.mirna_length.hist()"
   ]
  },
  {
   "cell_type": "code",
   "execution_count": null,
   "metadata": {},
   "outputs": [
    {
     "name": "stderr",
     "output_type": "stream",
     "text": [
      "/tmp/ipykernel_24530/1989198344.py:1: SettingWithCopyWarning: \n",
      "A value is trying to be set on a copy of a slice from a DataFrame.\n",
      "Try using .loc[row_indexer,col_indexer] = value instead\n",
      "\n",
      "See the caveats in the documentation: https://pandas.pydata.org/pandas-docs/stable/user_guide/indexing.html#returning-a-view-versus-a-copy\n",
      "  df[\"seed_bp_difference\"] = df[\"pred_seed_basepairs\"] - df[\"true_seed_basepairs\"]\n"
     ]
    },
    {
     "data": {
      "text/plain": [
       "seed_bp_difference\n",
       " 0    14956\n",
       " 1     1267\n",
       " 2      653\n",
       "-1      539\n",
       "-2      300\n",
       "-3      125\n",
       "-4       54\n",
       "-5       24\n",
       "-6       10\n",
       "Name: count, dtype: int64"
      ]
     },
     "metadata": {},
     "output_type": "display_data"
    }
   ],
   "source": [
    "df[\"seed_bp_difference\"] = df[\"pred_seed_basepairs\"] - df[\"true_seed_basepairs\"]\n",
    "df.seed_bp_difference.value_counts()\n",
    "\n",
    "\n",
    "# difference 1'den fazla olanları droplasam iyi olur"
   ]
  },
  {
   "cell_type": "code",
   "execution_count": null,
   "metadata": {},
   "outputs": [],
   "source": [
    "df[\"bp_difference\"] = df[\"pred_num_basepairs\"] - df[\"true_num_basepairs\"]\n",
    "df.bp_difference.hist()\n"
   ]
  },
  {
   "cell_type": "code",
   "execution_count": null,
   "metadata": {},
   "outputs": [
    {
     "name": "stdout",
     "output_type": "stream",
     "text": [
      "true_seed_type\n",
      "none               870\n",
      "noseed_9nt_stem    655\n",
      "6-mer                8\n",
      "7-mer                6\n",
      "8-mer                5\n",
      "Name: count, dtype: int64\n",
      "before: 13915\n",
      "after: 13896\n"
     ]
    },
    {
     "name": "stderr",
     "output_type": "stream",
     "text": [
      "/tmp/ipykernel_28363/3031930601.py:10: UserWarning: Boolean Series key will be reindexed to match DataFrame index.\n",
      "  df.drop(df[mask2].index, inplace=True)\n",
      "/tmp/ipykernel_28363/3031930601.py:11: UserWarning: Boolean Series key will be reindexed to match DataFrame index.\n",
      "  df.drop(df[mask3].index, inplace=True)\n"
     ]
    }
   ],
   "source": [
    "print(df[df[\"true_seed_basepairs\"] <= 4].true_seed_type.value_counts())\n"
   ]
  },
  {
   "cell_type": "code",
   "execution_count": null,
   "metadata": {},
   "outputs": [
    {
     "data": {
      "text/plain": [
       "<Axes: >"
      ]
     },
     "metadata": {},
     "output_type": "display_data"
    },
    {
     "data": {
      "image/png": "[encoded data removed]",
      "text/plain": [
       "<Figure size 640x480 with 1 Axes>"
      ]
     },
     "metadata": {},
     "output_type": "display_data"
    }
   ],
   "source": [
    "df[\"mirna_length\"] = df.mirna_sequence.apply(len)\n",
    "\n",
    "df.mirna_length.hist()"
   ]
  }
 ],
 "metadata": {
  "kernelspec": {
   "display_name": "thesis-4DYweHFz-py3.11",
   "language": "python",
   "name": "python3"
  },
  "language_info": {
   "codemirror_mode": {
    "name": "ipython",
    "version": 3
   },
   "file_extension": ".py",
   "mimetype": "text/x-python",
   "name": "python",
   "nbconvert_exporter": "python",
   "pygments_lexer": "ipython3",
   "version": "3.11.3"
  },
  "orig_nbformat": 4
 },
 "nbformat": 4,
 "nbformat_minor": 2
}
