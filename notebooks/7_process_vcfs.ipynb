{
 "cells": [
  {
   "cell_type": "code",
   "execution_count": 1,
   "metadata": {},
   "outputs": [
    {
     "name": "stdout",
     "output_type": "stream",
     "text": [
      "/run/media/nazif/2F946E411BA61D49/thesis\n"
     ]
    }
   ],
   "source": [
    "cd .."
   ]
  },
  {
   "cell_type": "code",
   "execution_count": 8,
   "metadata": {},
   "outputs": [],
   "source": [
    "import pandas as pd\n",
    "from Bio import SeqIO"
   ]
  },
  {
   "cell_type": "code",
   "execution_count": 6,
   "metadata": {},
   "outputs": [
    {
     "data": {
      "text/html": [
       "<div>\n",
       "<style scoped>\n",
       "    .dataframe tbody tr th:only-of-type {\n",
       "        vertical-align: middle;\n",
       "    }\n",
       "\n",
       "    .dataframe tbody tr th {\n",
       "        vertical-align: top;\n",
       "    }\n",
       "\n",
       "    .dataframe thead th {\n",
       "        text-align: right;\n",
       "    }\n",
       "</style>\n",
       "<table border=\"1\" class=\"dataframe\">\n",
       "  <thead>\n",
       "    <tr style=\"text-align: right;\">\n",
       "      <th></th>\n",
       "      <th>chr</th>\n",
       "      <th>pos</th>\n",
       "      <th>unknown</th>\n",
       "      <th>ref</th>\n",
       "      <th>alt</th>\n",
       "    </tr>\n",
       "  </thead>\n",
       "  <tbody>\n",
       "    <tr>\n",
       "      <th>0</th>\n",
       "      <td>1</td>\n",
       "      <td>809687</td>\n",
       "      <td>PD3851a</td>\n",
       "      <td>G</td>\n",
       "      <td>C</td>\n",
       "    </tr>\n",
       "    <tr>\n",
       "      <th>1</th>\n",
       "      <td>1</td>\n",
       "      <td>819245</td>\n",
       "      <td>PD3851a</td>\n",
       "      <td>G</td>\n",
       "      <td>T</td>\n",
       "    </tr>\n",
       "    <tr>\n",
       "      <th>2</th>\n",
       "      <td>1</td>\n",
       "      <td>1911011</td>\n",
       "      <td>PD3851a</td>\n",
       "      <td>C</td>\n",
       "      <td>G</td>\n",
       "    </tr>\n",
       "    <tr>\n",
       "      <th>3</th>\n",
       "      <td>1</td>\n",
       "      <td>2112413</td>\n",
       "      <td>PD3851a</td>\n",
       "      <td>T</td>\n",
       "      <td>C</td>\n",
       "    </tr>\n",
       "    <tr>\n",
       "      <th>4</th>\n",
       "      <td>1</td>\n",
       "      <td>2927666</td>\n",
       "      <td>PD3851a</td>\n",
       "      <td>A</td>\n",
       "      <td>G</td>\n",
       "    </tr>\n",
       "  </tbody>\n",
       "</table>\n",
       "</div>"
      ],
      "text/plain": [
       "  chr      pos  unknown ref alt\n",
       "0   1   809687  PD3851a   G   C\n",
       "1   1   819245  PD3851a   G   T\n",
       "2   1  1911011  PD3851a   C   G\n",
       "3   1  2112413  PD3851a   T   C\n",
       "4   1  2927666  PD3851a   A   G"
      ]
     },
     "execution_count": 6,
     "metadata": {},
     "output_type": "execute_result"
    }
   ],
   "source": [
    "df = pd.read_csv(\"data/sample_vcfs/PD3851a.vcf\", sep=\"\\t\", header=None)\n",
    "df.columns = [\"chr\", \"pos\", \"unknown\", \"ref\", \"alt\"]\n",
    "df.head()"
   ]
  },
  {
   "cell_type": "code",
   "execution_count": 7,
   "metadata": {},
   "outputs": [
    {
     "data": {
      "text/plain": [
       "1782"
      ]
     },
     "execution_count": 7,
     "metadata": {},
     "output_type": "execute_result"
    }
   ],
   "source": [
    "len(df)"
   ]
  },
  {
   "cell_type": "code",
   "execution_count": 10,
   "metadata": {},
   "outputs": [
    {
     "ename": "IndexError",
     "evalue": "list index out of range",
     "output_type": "error",
     "traceback": [
      "\u001b[0;31m---------------------------------------------------------------------------\u001b[0m",
      "\u001b[0;31mIndexError\u001b[0m                                Traceback (most recent call last)",
      "Cell \u001b[0;32mIn[10], line 18\u001b[0m\n\u001b[1;32m     14\u001b[0m     \u001b[39mreturn\u001b[39;00m sequences\n\u001b[1;32m     16\u001b[0m asd \u001b[39m=\u001b[39m read_fasta(\u001b[39m\"\u001b[39m\u001b[39mdata/hg38/Homo_sapiens.GRCh38.dna.chromosome.1.fa\u001b[39m\u001b[39m\"\u001b[39m)\n\u001b[0;32m---> 18\u001b[0m asd[\u001b[39m1\u001b[39;49m]\n",
      "\u001b[0;31mIndexError\u001b[0m: list index out of range"
     ]
    }
   ],
   "source": [
    "from Bio import SeqIO\n",
    "\n",
    "def read_fasta(file_path):\n",
    "    \"\"\"\n",
    "    Reads a FASTA file using SeqIO from Biopython.\n",
    "\n",
    "    Args:\n",
    "        file_path (str): Path to the FASTA file.\n",
    "\n",
    "    Returns:\n",
    "        list: List of SeqRecord objects representing the sequences in the FASTA file.\n",
    "    \"\"\"\n",
    "    sequences = list(SeqIO.parse(file_path, \"fasta\"))\n",
    "    return sequences\n",
    "\n",
    "asd = read_fasta(\"data/hg38/Homo_sapiens.GRCh38.dna.chromosome.1.fa\")\n"
   ]
  },
  {
   "cell_type": "code",
   "execution_count": 14,
   "metadata": {},
   "outputs": [
    {
     "name": "stdout",
     "output_type": "stream",
     "text": [
      "1\n"
     ]
    }
   ],
   "source": [
    "\n",
    "for record in SeqIO.parse(\"data/hg38/Homo_sapiens.GRCh38.dna.chromosome.1.fa\", \"fasta\"):\n",
    "    print(record.id)"
   ]
  },
  {
   "cell_type": "code",
   "execution_count": 19,
   "metadata": {},
   "outputs": [],
   "source": [
    "record = next(SeqIO.parse(\"data/hg38/Homo_sapiens.GRCh38.dna.chromosome.1.fa\", 'fasta'))"
   ]
  },
  {
   "cell_type": "code",
   "execution_count": 20,
   "metadata": {},
   "outputs": [
    {
     "data": {
      "text/plain": [
       "'N'"
      ]
     },
     "execution_count": 20,
     "metadata": {},
     "output_type": "execute_result"
    }
   ],
   "source": [
    "record.seq[1]"
   ]
  },
  {
   "cell_type": "code",
   "execution_count": 12,
   "metadata": {},
   "outputs": [
    {
     "data": {
      "text/plain": [
       "Seq('NNNNNNNNNNNNNNNNNNNNNNNNNNNNNNNNNNNNNNNNNNNNNNNNNNNNNN...NNN')"
      ]
     },
     "execution_count": 12,
     "metadata": {},
     "output_type": "execute_result"
    }
   ],
   "source": [
    "asd[0].seq"
   ]
  },
  {
   "cell_type": "code",
   "execution_count": 16,
   "metadata": {},
   "outputs": [
    {
     "data": {
      "text/plain": [
       "'A'"
      ]
     },
     "execution_count": 16,
     "metadata": {},
     "output_type": "execute_result"
    }
   ],
   "source": [
    "from Bio import SeqIO\n",
    "def get_nucleotide_at_position_seqio(chrom, position):\n",
    "\n",
    "    sequences = SeqIO.parse(f\"data/hg38/Homo_sapiens.GRCh38.dna.chromosome.{chrom}.fa\", \"fasta\")\n",
    "    sequence = next(sequences, None)\n",
    "    if not sequence or position < 0 or position >= len(sequence):\n",
    "        return None  # Invalid position or empty sequence\n",
    "\n",
    "    return sequence.seq[position]\n",
    "\n",
    "\n",
    "get_nucleotide_at_position_seqio(1, 1911010)"
   ]
  },
  {
   "cell_type": "code",
   "execution_count": 20,
   "metadata": {},
   "outputs": [
    {
     "data": {
      "text/plain": [
       "'C'"
      ]
     },
     "execution_count": 20,
     "metadata": {},
     "output_type": "execute_result"
    }
   ],
   "source": [
    "def get_nucleotide_at_position(chrom, position):\n",
    "    file_path = f\"data/hg38/Homo_sapiens.GRCh38.dna.chromosome.{chrom}.fa\"\n",
    "    with open(file_path, 'r') as file:\n",
    "        file.readline()\n",
    "        byte_position = file.tell()\n",
    "        line_length = len(file.readline().strip())\n",
    "        offset = position - 1\n",
    "        num_new_lines = offset // line_length\n",
    "        byte_position = byte_position + offset + num_new_lines\n",
    "        file.seek(byte_position)\n",
    "\n",
    "        # Read the nucleotide at the position\n",
    "        nucleotide = file.read(1)\n",
    "    return nucleotide\n",
    "get_nucleotide_at_position(1, 100002)\n",
    "\n"
   ]
  },
  {
   "cell_type": "code",
   "execution_count": 69,
   "metadata": {},
   "outputs": [
    {
     "name": "stdout",
     "output_type": "stream",
     "text": [
      " \n"
     ]
    }
   ],
   "source": [
    "chrom = 1\n",
    "file_path = f\"data/hg38/Homo_sapiens.GRCh38.dna.chromosome.{chrom}.fa\"\n",
    "with open(file_path, 'r') as file:\n",
    "    file.seek(2)\n",
    "    \n",
    "    asd =file.read(1)\n",
    "    print(asd)"
   ]
  }
 ],
 "metadata": {
  "kernelspec": {
   "display_name": "thesis-4DYweHFz-py3.11",
   "language": "python",
   "name": "python3"
  },
  "language_info": {
   "codemirror_mode": {
    "name": "ipython",
    "version": 3
   },
   "file_extension": ".py",
   "mimetype": "text/x-python",
   "name": "python",
   "nbconvert_exporter": "python",
   "pygments_lexer": "ipython3",
   "version": "3.11.3"
  },
  "orig_nbformat": 4
 },
 "nbformat": 4,
 "nbformat_minor": 2
}
