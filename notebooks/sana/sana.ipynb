{
 "cells": [
  {
   "cell_type": "code",
   "execution_count": 1,
   "metadata": {},
   "outputs": [],
   "source": [
    "import pandas as pd\n",
    "import requests\n",
    "\n",
    "pd.options.mode.chained_assignment = None  # Suppress the warning"
   ]
  },
  {
   "cell_type": "code",
   "execution_count": 2,
   "metadata": {},
   "outputs": [],
   "source": [
    "def get_sequence_from_ucsc(df):\n",
    "    \"\"\"\n",
    "    Retrieves sequence information from UCSC Genome Browser API for each row in the DataFrame.\n",
    "\n",
    "    Args:\n",
    "        df (pandas.DataFrame): DataFrame containing 'chr', 'start', and 'end' columns.\n",
    "\n",
    "    Returns:\n",
    "        pandas.DataFrame: DataFrame with additional columns containing sequence information.\n",
    "    \"\"\"\n",
    "    for index, row in df.iterrows():\n",
    "        # Extract chromosome, start, and end positions from the DataFrame\n",
    "        chrom = row['chr']\n",
    "        start = row['start']\n",
    "        end = row['end']\n",
    "\n",
    "        # Build the URL for the UCSC Genome Browser API\n",
    "        url = f\"https://api.genome.ucsc.edu/getData/sequence?genome=hg19;chrom={chrom};start={start};end={end}\"\n",
    "\n",
    "        # Send a GET request to the API\n",
    "        response = requests.get(url)\n",
    "\n",
    "        if response.status_code == 200:\n",
    "            # Parse the JSON response\n",
    "            gene_info = response.json()\n",
    "\n",
    "            # Store the sequence information in the DataFrame\n",
    "            df.loc[index, 'downloadTime_new'] = gene_info.get('downloadTime')\n",
    "            df.loc[index, 'downloadTimeStamp_new'] = gene_info.get('downloadTimeStamp')\n",
    "            df.loc[index, 'genome_new'] = gene_info.get('genome')\n",
    "            df.loc[index, 'chrom_new'] = gene_info.get('chrom')\n",
    "            df.loc[index, 'start_new'] = gene_info.get('start')\n",
    "            df.loc[index, 'end_new'] = gene_info.get('end')\n",
    "            df.loc[index, 'dna_new'] = gene_info.get('dna')\n",
    "        else:\n",
    "            # If the API request fails, set the sequence information to None\n",
    "            df.loc[index, 'downloadTime_new'] = None\n",
    "            df.loc[index, 'downloadTimeStamp_new'] = None\n",
    "            df.loc[index, 'genome_new'] = None\n",
    "            df.loc[index, 'chrom_new'] = None\n",
    "            df.loc[index, 'start_new'] = None\n",
    "            df.loc[index, 'end_new'] = None\n",
    "            df.loc[index, 'dna_new'] = None\n",
    "\n",
    "    return df"
   ]
  },
  {
   "cell_type": "code",
   "execution_count": 3,
   "metadata": {},
   "outputs": [
    {
     "data": {
      "text/html": [
       "<div>\n",
       "<style scoped>\n",
       "    .dataframe tbody tr th:only-of-type {\n",
       "        vertical-align: middle;\n",
       "    }\n",
       "\n",
       "    .dataframe tbody tr th {\n",
       "        vertical-align: top;\n",
       "    }\n",
       "\n",
       "    .dataframe thead th {\n",
       "        text-align: right;\n",
       "    }\n",
       "</style>\n",
       "<table border=\"1\" class=\"dataframe\">\n",
       "  <thead>\n",
       "    <tr style=\"text-align: right;\">\n",
       "      <th></th>\n",
       "      <th>chr</th>\n",
       "      <th>start</th>\n",
       "      <th>end</th>\n",
       "      <th>allele</th>\n",
       "      <th>driver</th>\n",
       "      <th>ref</th>\n",
       "      <th>alt</th>\n",
       "    </tr>\n",
       "  </thead>\n",
       "  <tbody>\n",
       "    <tr>\n",
       "      <th>0</th>\n",
       "      <td>16</td>\n",
       "      <td>339439</td>\n",
       "      <td>339440</td>\n",
       "      <td>C/T</td>\n",
       "      <td>1</td>\n",
       "      <td>C</td>\n",
       "      <td>T</td>\n",
       "    </tr>\n",
       "    <tr>\n",
       "      <th>1</th>\n",
       "      <td>16</td>\n",
       "      <td>339608</td>\n",
       "      <td>339609</td>\n",
       "      <td>C/T</td>\n",
       "      <td>1</td>\n",
       "      <td>C</td>\n",
       "      <td>T</td>\n",
       "    </tr>\n",
       "    <tr>\n",
       "      <th>2</th>\n",
       "      <td>16</td>\n",
       "      <td>347721</td>\n",
       "      <td>347722</td>\n",
       "      <td>C/T</td>\n",
       "      <td>1</td>\n",
       "      <td>C</td>\n",
       "      <td>T</td>\n",
       "    </tr>\n",
       "    <tr>\n",
       "      <th>3</th>\n",
       "      <td>16</td>\n",
       "      <td>360070</td>\n",
       "      <td>360071</td>\n",
       "      <td>C/A</td>\n",
       "      <td>1</td>\n",
       "      <td>C</td>\n",
       "      <td>A</td>\n",
       "    </tr>\n",
       "    <tr>\n",
       "      <th>4</th>\n",
       "      <td>16</td>\n",
       "      <td>396146</td>\n",
       "      <td>396147</td>\n",
       "      <td>A/T</td>\n",
       "      <td>1</td>\n",
       "      <td>A</td>\n",
       "      <td>T</td>\n",
       "    </tr>\n",
       "  </tbody>\n",
       "</table>\n",
       "</div>"
      ],
      "text/plain": [
       "  chr   start     end allele  driver ref alt\n",
       "0  16  339439  339440    C/T       1   C   T\n",
       "1  16  339608  339609    C/T       1   C   T\n",
       "2  16  347721  347722    C/T       1   C   T\n",
       "3  16  360070  360071    C/A       1   C   A\n",
       "4  16  396146  396147    A/T       1   A   T"
      ]
     },
     "execution_count": 3,
     "metadata": {},
     "output_type": "execute_result"
    }
   ],
   "source": [
    "df = pd.read_csv(\"sana_second_dataset.csv\")\n",
    "\n",
    "df[[\"ref\", \"alt\"]] = df[\"allele\"].str.split(\"/\", expand=True)\n",
    "\n",
    "# adding +1 to the end so the API can work\n",
    "df[\"end\"] = df[\"end\"] + 1\n",
    "\n",
    "df.head()"
   ]
  },
  {
   "cell_type": "markdown",
   "metadata": {},
   "source": [
    "it takes 1-1.5 secs for every row so expect this to run for around 15 minutes"
   ]
  },
  {
   "cell_type": "code",
   "execution_count": 8,
   "metadata": {},
   "outputs": [],
   "source": [
    "# I ran the following code to get the sequences from UCSC\n",
    "\n",
    "# df = get_sequence_from_ucsc(df)\n",
    "# df.to_csv(\"sana_second_dataset_with_results_from_ucsc.csv\", index=False)"
   ]
  },
  {
   "cell_type": "code",
   "execution_count": 4,
   "metadata": {},
   "outputs": [
    {
     "data": {
      "text/html": [
       "<div>\n",
       "<style scoped>\n",
       "    .dataframe tbody tr th:only-of-type {\n",
       "        vertical-align: middle;\n",
       "    }\n",
       "\n",
       "    .dataframe tbody tr th {\n",
       "        vertical-align: top;\n",
       "    }\n",
       "\n",
       "    .dataframe thead th {\n",
       "        text-align: right;\n",
       "    }\n",
       "</style>\n",
       "<table border=\"1\" class=\"dataframe\">\n",
       "  <thead>\n",
       "    <tr style=\"text-align: right;\">\n",
       "      <th></th>\n",
       "      <th>Unnamed: 0</th>\n",
       "      <th>chr</th>\n",
       "      <th>start</th>\n",
       "      <th>end</th>\n",
       "      <th>allele</th>\n",
       "      <th>driver</th>\n",
       "      <th>ref</th>\n",
       "      <th>alt</th>\n",
       "      <th>downloadTime_new</th>\n",
       "      <th>downloadTimeStamp_new</th>\n",
       "      <th>genome_new</th>\n",
       "      <th>chrom_new</th>\n",
       "      <th>start_new</th>\n",
       "      <th>end_new</th>\n",
       "      <th>dna_new</th>\n",
       "    </tr>\n",
       "  </thead>\n",
       "  <tbody>\n",
       "    <tr>\n",
       "      <th>0</th>\n",
       "      <td>0</td>\n",
       "      <td>16</td>\n",
       "      <td>339439</td>\n",
       "      <td>339440</td>\n",
       "      <td>C/T</td>\n",
       "      <td>1</td>\n",
       "      <td>C</td>\n",
       "      <td>T</td>\n",
       "      <td>2023:07:20T07:04:26Z</td>\n",
       "      <td>1.689837e+09</td>\n",
       "      <td>hg19</td>\n",
       "      <td>chr16</td>\n",
       "      <td>339439.0</td>\n",
       "      <td>339440.0</td>\n",
       "      <td>C</td>\n",
       "    </tr>\n",
       "    <tr>\n",
       "      <th>1</th>\n",
       "      <td>1</td>\n",
       "      <td>16</td>\n",
       "      <td>339608</td>\n",
       "      <td>339609</td>\n",
       "      <td>C/T</td>\n",
       "      <td>1</td>\n",
       "      <td>C</td>\n",
       "      <td>T</td>\n",
       "      <td>2023:07:20T07:04:27Z</td>\n",
       "      <td>1.689837e+09</td>\n",
       "      <td>hg19</td>\n",
       "      <td>chr16</td>\n",
       "      <td>339608.0</td>\n",
       "      <td>339609.0</td>\n",
       "      <td>T</td>\n",
       "    </tr>\n",
       "    <tr>\n",
       "      <th>2</th>\n",
       "      <td>2</td>\n",
       "      <td>16</td>\n",
       "      <td>347721</td>\n",
       "      <td>347722</td>\n",
       "      <td>C/T</td>\n",
       "      <td>1</td>\n",
       "      <td>C</td>\n",
       "      <td>T</td>\n",
       "      <td>2023:07:20T07:04:28Z</td>\n",
       "      <td>1.689837e+09</td>\n",
       "      <td>hg19</td>\n",
       "      <td>chr16</td>\n",
       "      <td>347721.0</td>\n",
       "      <td>347722.0</td>\n",
       "      <td>C</td>\n",
       "    </tr>\n",
       "    <tr>\n",
       "      <th>3</th>\n",
       "      <td>3</td>\n",
       "      <td>16</td>\n",
       "      <td>360070</td>\n",
       "      <td>360071</td>\n",
       "      <td>C/A</td>\n",
       "      <td>1</td>\n",
       "      <td>C</td>\n",
       "      <td>A</td>\n",
       "      <td>2023:07:20T07:04:29Z</td>\n",
       "      <td>1.689837e+09</td>\n",
       "      <td>hg19</td>\n",
       "      <td>chr16</td>\n",
       "      <td>360070.0</td>\n",
       "      <td>360071.0</td>\n",
       "      <td>T</td>\n",
       "    </tr>\n",
       "    <tr>\n",
       "      <th>4</th>\n",
       "      <td>4</td>\n",
       "      <td>16</td>\n",
       "      <td>396146</td>\n",
       "      <td>396147</td>\n",
       "      <td>A/T</td>\n",
       "      <td>1</td>\n",
       "      <td>A</td>\n",
       "      <td>T</td>\n",
       "      <td>2023:07:20T07:04:30Z</td>\n",
       "      <td>1.689837e+09</td>\n",
       "      <td>hg19</td>\n",
       "      <td>chr16</td>\n",
       "      <td>396146.0</td>\n",
       "      <td>396147.0</td>\n",
       "      <td>C</td>\n",
       "    </tr>\n",
       "  </tbody>\n",
       "</table>\n",
       "</div>"
      ],
      "text/plain": [
       "   Unnamed: 0 chr   start     end allele  driver ref alt  \\\n",
       "0           0  16  339439  339440    C/T       1   C   T   \n",
       "1           1  16  339608  339609    C/T       1   C   T   \n",
       "2           2  16  347721  347722    C/T       1   C   T   \n",
       "3           3  16  360070  360071    C/A       1   C   A   \n",
       "4           4  16  396146  396147    A/T       1   A   T   \n",
       "\n",
       "       downloadTime_new  downloadTimeStamp_new genome_new chrom_new  \\\n",
       "0  2023:07:20T07:04:26Z           1.689837e+09       hg19     chr16   \n",
       "1  2023:07:20T07:04:27Z           1.689837e+09       hg19     chr16   \n",
       "2  2023:07:20T07:04:28Z           1.689837e+09       hg19     chr16   \n",
       "3  2023:07:20T07:04:29Z           1.689837e+09       hg19     chr16   \n",
       "4  2023:07:20T07:04:30Z           1.689837e+09       hg19     chr16   \n",
       "\n",
       "   start_new   end_new dna_new  \n",
       "0   339439.0  339440.0       C  \n",
       "1   339608.0  339609.0       T  \n",
       "2   347721.0  347722.0       C  \n",
       "3   360070.0  360071.0       T  \n",
       "4   396146.0  396147.0       C  "
      ]
     },
     "execution_count": 4,
     "metadata": {},
     "output_type": "execute_result"
    }
   ],
   "source": [
    "df = pd.read_csv(\"sana_second_dataset_with_results_from_ucsc.csv\")\n",
    "\n",
    "df.head()"
   ]
  },
  {
   "cell_type": "code",
   "execution_count": 5,
   "metadata": {},
   "outputs": [
    {
     "data": {
      "text/plain": [
       "False    931\n",
       "True     224\n",
       "Name: count, dtype: int64"
      ]
     },
     "execution_count": 5,
     "metadata": {},
     "output_type": "execute_result"
    }
   ],
   "source": [
    "(df.ref == df.dna_new).value_counts()\n"
   ]
  },
  {
   "cell_type": "code",
   "execution_count": 6,
   "metadata": {},
   "outputs": [
    {
     "data": {
      "text/plain": [
       "0"
      ]
     },
     "execution_count": 6,
     "metadata": {},
     "output_type": "execute_result"
    }
   ],
   "source": [
    "df.start_new.isna().sum()"
   ]
  },
  {
   "cell_type": "code",
   "execution_count": 7,
   "metadata": {},
   "outputs": [
    {
     "data": {
      "text/plain": [
       "0"
      ]
     },
     "execution_count": 7,
     "metadata": {},
     "output_type": "execute_result"
    }
   ],
   "source": [
    "df.end_new.isna().sum()\n"
   ]
  }
 ],
 "metadata": {
  "kernelspec": {
   "display_name": "thesis-4DYweHFz-py3.11",
   "language": "python",
   "name": "python3"
  },
  "language_info": {
   "codemirror_mode": {
    "name": "ipython",
    "version": 3
   },
   "file_extension": ".py",
   "mimetype": "text/x-python",
   "name": "python",
   "nbconvert_exporter": "python",
   "pygments_lexer": "ipython3",
   "version": "3.11.3"
  },
  "orig_nbformat": 4
 },
 "nbformat": 4,
 "nbformat_minor": 2
}
