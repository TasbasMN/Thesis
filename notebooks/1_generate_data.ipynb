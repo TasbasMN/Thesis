{
 "cells": [
  {
   "cell_type": "code",
   "execution_count": 1,
   "metadata": {},
   "outputs": [
    {
     "name": "stdout",
     "output_type": "stream",
     "text": [
      "/run/media/nazif/2F946E411BA61D49/thesis\n"
     ]
    }
   ],
   "source": [
    "%cd .."
   ]
  },
  {
   "cell_type": "code",
   "execution_count": 2,
   "metadata": {},
   "outputs": [],
   "source": [
    "import pandas as pd\n",
    "\n",
    "from scripts.utils_latest import *"
   ]
  },
  {
   "attachments": {},
   "cell_type": "markdown",
   "metadata": {},
   "source": [
    "# import CLASH and make predictions"
   ]
  },
  {
   "cell_type": "code",
   "execution_count": 3,
   "metadata": {},
   "outputs": [],
   "source": [
    "clash_df = clash()\n",
    "# df = find_matches_with_rnaduplex(clash_df)\n",
    "# df.to_csv(\"results/0_rnaduplex_predictions_raw.csv\", index=False)\n",
    "df = pd.read_csv(\"results/0_rnaduplex_predictions_raw.csv\")"
   ]
  },
  {
   "attachments": {},
   "cell_type": "markdown",
   "metadata": {},
   "source": [
    "# data generation & extraction to csv"
   ]
  },
  {
   "cell_type": "code",
   "execution_count": 4,
   "metadata": {},
   "outputs": [],
   "source": [
    "# adding helper columns from clash\n",
    "df[\"id\"] = clash_df[\"id\"]\n",
    "df[\"clash_mrna_start\"] = clash_df[\"true_start\"]\n",
    "df[\"clash_mrna_end\"] = clash_df[\"true_end\"]\n",
    "df[\"true_seed_type\"] = clash_df[\"true_seed_type\"]\n",
    "df[\"true_num_basepairs\"] = clash_df[\"num_basepairs\"]\n",
    "df[\"true_seed_basepairs\"] = clash_df[\"seed_basepairs\"]\n",
    "df[\"true_energy\"] = clash_df[\"folding_energy\"]\n",
    "df[\"mirna_sequence\"] = clash_df[\"mirna_sequence\"]\n",
    "df[\"mirna_accession\"] = clash_df[\"mirna_accession\"]\n",
    "df[\"enst\"] = clash_df[\"enst\"]\n",
    "df[\"ensg\"] = clash_df[\"ensg\"]"
   ]
  },
  {
   "cell_type": "code",
   "execution_count": 5,
   "metadata": {},
   "outputs": [],
   "source": [
    "# feature generation\n",
    "df = generate_alignment_string_from_dot_bracket(df)\n",
    "df = generate_match_count_columns(df)\n",
    "\n",
    "# adding bp difference columns\n",
    "df[\"bp_difference\"] = df[\"pred_num_basepairs\"] - df[\"true_num_basepairs\"]\n",
    "df[\"seed_bp_difference\"] = df[\"pred_seed_basepairs\"] - df[\"true_seed_basepairs\"]"
   ]
  },
  {
   "cell_type": "code",
   "execution_count": 6,
   "metadata": {},
   "outputs": [],
   "source": [
    "# MRE region\n",
    "\n",
    "df[\"mirna_length\"] = df[\"mirna_sequence\"].str.len()\n",
    "df[\"mre_start\"] = df[\"mrna_start\"] - df[\"mirna_start\"] + 1\n",
    "df[\"mre_end\"] = df[\"mre_start\"] + df[\"mirna_length\"] - 1\n",
    "df.drop(\"mirna_length\", axis=1, inplace=True)\n",
    "# mre_start has values less than 1. convert them all into 1s.\n",
    "df['mre_start'] = df['mre_start'].apply(lambda x: max(x, 1))\n",
    "\n",
    "# generating mre region sequence\n",
    "df[\"full_mrna_seq\"] = clash_df[\"mrna_sequence\"]\n",
    "\n",
    "\n",
    "def slice_column(row):\n",
    "    return row['full_mrna_seq'][row['mre_start']-1:row['mre_end']]\n",
    "\n",
    "\n",
    "df['mre_region'] = df.apply(slice_column, axis=1)\n",
    "# df.drop(\"full_mrna_seq\", axis=1, inplace=True)"
   ]
  },
  {
   "cell_type": "code",
   "execution_count": 7,
   "metadata": {},
   "outputs": [],
   "source": [
    "# writing to csv\n",
    "df.to_csv(\"results/1_generate_data.csv\", index=False)\n"
   ]
  }
 ],
 "metadata": {
  "kernelspec": {
   "display_name": "thesis-4DYweHFz-py3.11",
   "language": "python",
   "name": "python3"
  },
  "language_info": {
   "codemirror_mode": {
    "name": "ipython",
    "version": 3
   },
   "file_extension": ".py",
   "mimetype": "text/x-python",
   "name": "python",
   "nbconvert_exporter": "python",
   "pygments_lexer": "ipython3",
   "version": "3.11.3"
  },
  "orig_nbformat": 4
 },
 "nbformat": 4,
 "nbformat_minor": 2
}
