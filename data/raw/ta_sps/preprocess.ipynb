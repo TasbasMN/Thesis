{
 "cells": [
  {
   "cell_type": "code",
   "execution_count": 2,
   "metadata": {},
   "outputs": [],
   "source": [
    "import pandas as pd"
   ]
  },
  {
   "cell_type": "code",
   "execution_count": 11,
   "metadata": {},
   "outputs": [],
   "source": [
    "df = pd.read_csv(\"ta_sps.csv\")"
   ]
  },
  {
   "cell_type": "code",
   "execution_count": 12,
   "metadata": {},
   "outputs": [],
   "source": [
    "# drop irrelevant columns\n",
    "\n",
    "df = df.drop([\"TA HeLa\", \"TA HeLa percentile rank\"], axis=1)\n",
    "\n",
    "# rename\n",
    "rename_dict = {\n",
    "    \"Seed + nt 8\": \"seed_8mer\",\n",
    "    \"7mer-m8 site\": \"mrna_7mer_m8\",\n",
    "    \"TA (log10)\": \"ta_log10\",\n",
    "    \"TA percentile rank\": \"ta_percentile_rank\",\n",
    "    \"6mer SPS (kcal/mol)\": \"sps_6mer\",\n",
    "    \"7mer-m8 SPS (kcal/mol)\": \"sps_7mer_m8\",\n",
    "    \"Mean SPS (kcal/mol)\": \"sps_mean\",\n",
    "    \"Mean SPS percentile rank\": \"sps_mean_percentile_rank\",\n",
    "    \"miRNA\": \"mirna\"\n",
    "}\n",
    "\n",
    "df.rename(columns=rename_dict, inplace=True)\n"
   ]
  },
  {
   "cell_type": "code",
   "execution_count": 14,
   "metadata": {},
   "outputs": [],
   "source": [
    "df.to_csv(\"../../processed/ta_sps/ta_sps.csv\")"
   ]
  }
 ],
 "metadata": {
  "kernelspec": {
   "display_name": ".venv",
   "language": "python",
   "name": "python3"
  },
  "language_info": {
   "codemirror_mode": {
    "name": "ipython",
    "version": 3
   },
   "file_extension": ".py",
   "mimetype": "text/x-python",
   "name": "python",
   "nbconvert_exporter": "python",
   "pygments_lexer": "ipython3",
   "version": "3.10.10"
  },
  "orig_nbformat": 4
 },
 "nbformat": 4,
 "nbformat_minor": 2
}
