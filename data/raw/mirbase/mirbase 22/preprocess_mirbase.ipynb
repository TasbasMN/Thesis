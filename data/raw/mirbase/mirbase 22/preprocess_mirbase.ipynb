{
 "cells": [
  {
   "cell_type": "code",
   "execution_count": 1,
   "metadata": {},
   "outputs": [],
   "source": [
    "import pandas as pd\n",
    "from Bio import SeqIO"
   ]
  },
  {
   "cell_type": "code",
   "execution_count": 2,
   "metadata": {},
   "outputs": [],
   "source": [
    "def mirna_to_mrna(string):\n",
    "    \"\"\"\n",
    "    Convert a miRNA sequence to its complementary mRNA sequence.\n",
    "\n",
    "    Args:\n",
    "    - string (str): The miRNA sequence to convert.\n",
    "\n",
    "    Returns:\n",
    "    - str: The complementary mRNA sequence.\n",
    "\n",
    "    Example usage:\n",
    "    >>> mirna_to_mrna('UGAGGUAGUAGGUUGUAUAGUU')\n",
    "    'UAUACAACCACUACUCCAUCA'\n",
    "    \"\"\"\n",
    "    complement = {'A': 'U', 'C': 'G', 'G': 'C', 'U': 'A'}\n",
    "    return ''.join(complement.get(base, base) for base in string)[::-1]"
   ]
  },
  {
   "cell_type": "code",
   "execution_count": 3,
   "metadata": {},
   "outputs": [],
   "source": [
    "def create_mirbase_db():\n",
    "    with open(\"mature.fa\") as f:\n",
    "\n",
    "        # initializing lists to zip into a df\n",
    "        names = []\n",
    "        accessions = []\n",
    "        sequences = []\n",
    "\n",
    "        for record in SeqIO.parse(f, \"fasta\"):\n",
    "\n",
    "            name = str(record.id)\n",
    "            if name.startswith(\"hsa\"):  # drops all non-human entries\n",
    "                sequence = str(record.seq)\n",
    "\n",
    "                # adding name\n",
    "                names.append(name)\n",
    "\n",
    "                # adding accession\n",
    "                accessions.append(record.description.split(\" \")[1])\n",
    "                # adding mRNA sequence\n",
    "                sequences.append(mirna_to_mrna(sequence))\n",
    "\n",
    "    return pd.DataFrame(list(zip(names, accessions, sequences)), columns=[\"name\", \"accession\", \"sequence\"])\n"
   ]
  },
  {
   "cell_type": "code",
   "execution_count": 5,
   "metadata": {},
   "outputs": [],
   "source": [
    "df = create_mirbase_db()\n",
    "df.to_csv(\"../../../processed/mirbase/mirbase22.csv\", index=False)"
   ]
  }
 ],
 "metadata": {
  "kernelspec": {
   "display_name": "Python 3 (ipykernel)",
   "language": "python",
   "name": "python3"
  },
  "language_info": {
   "codemirror_mode": {
    "name": "ipython",
    "version": 3
   },
   "file_extension": ".py",
   "mimetype": "text/x-python",
   "name": "python",
   "nbconvert_exporter": "python",
   "pygments_lexer": "ipython3",
   "version": "3.11.3"
  }
 },
 "nbformat": 4,
 "nbformat_minor": 2
}
