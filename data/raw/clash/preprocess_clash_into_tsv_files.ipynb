{
 "cells": [
  {
   "cell_type": "code",
   "execution_count": 3,
   "metadata": {},
   "outputs": [],
   "source": [
    "import pandas as pd\n",
    "import os\n",
    "import csv"
   ]
  },
  {
   "cell_type": "code",
   "execution_count": 20,
   "metadata": {},
   "outputs": [],
   "source": [
    "def parse_clash_data(filename=\"mmc1.txt\"):\n",
    "    \"\"\"\n",
    "    Parse Clash data from the given file and write the results to output files.\n",
    "\n",
    "    Args:\n",
    "        filename (str): The path to the input file. Default is \"data/raw/clash/mmc1.txt\".\n",
    "\n",
    "    Raises:\n",
    "        FileNotFoundError: If the input file does not exist.\n",
    "\n",
    "    Returns:\n",
    "        None.\n",
    "    \"\"\"\n",
    "\n",
    "    with open(filename) as f:\n",
    "        \n",
    "        # iter(f) is the same as (line for line in f)\n",
    "        lines = iter(f)\n",
    "\n",
    "        columns = []\n",
    "        data = []\n",
    "        for line in lines:\n",
    "            if line.startswith(\"#\"):\n",
    "                line = line[1:]\n",
    "                row = next(csv.reader([line], delimiter='\\t'))\n",
    "                columns.append(row)\n",
    "            else:\n",
    "                row = next(csv.reader([line], delimiter='\\t'))\n",
    "                data.append(row)\n",
    "\n",
    "        # removes header text\n",
    "        columns.pop(0)\n",
    "\n",
    "        # create the output directory if it doesn't exist\n",
    "        output_dir = \".\"\n",
    "        os.makedirs(output_dir, exist_ok=True)\n",
    "\n",
    "        # write the output CSV files\n",
    "        with open(os.path.join(output_dir, \"clash_column_details.tsv\"), \"w\") as f1, \\\n",
    "             open(os.path.join(output_dir, \"clash.tsv\"), \"w\") as f2:\n",
    "            writer1 = csv.writer(f1, delimiter='\\t')\n",
    "            writer2 = csv.writer(f2, delimiter='\\t')\n",
    "            writer1.writerows(columns)\n",
    "            writer2.writerows(data)"
   ]
  },
  {
   "cell_type": "code",
   "execution_count": 21,
   "metadata": {},
   "outputs": [],
   "source": [
    "parse_clash_data()"
   ]
  }
 ],
 "metadata": {
  "kernelspec": {
   "display_name": ".venv",
   "language": "python",
   "name": "python3"
  },
  "language_info": {
   "codemirror_mode": {
    "name": "ipython",
    "version": 3
   },
   "file_extension": ".py",
   "mimetype": "text/x-python",
   "name": "python",
   "nbconvert_exporter": "python",
   "pygments_lexer": "ipython3",
   "version": "3.10.10"
  },
  "orig_nbformat": 4
 },
 "nbformat": 4,
 "nbformat_minor": 2
}
