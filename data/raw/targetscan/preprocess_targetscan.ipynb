{
 "cells": [
  {
   "cell_type": "code",
   "execution_count": 1,
   "metadata": {},
   "outputs": [],
   "source": [
    "import pandas as pd"
   ]
  },
  {
   "cell_type": "code",
   "execution_count": 2,
   "metadata": {},
   "outputs": [],
   "source": [
    "def mirna_to_mrna(string):\n",
    "    \"\"\"\n",
    "    Convert a miRNA sequence to its complementary mRNA sequence.\n",
    "\n",
    "    Args:\n",
    "    - string (str): The miRNA sequence to convert.\n",
    "\n",
    "    Returns:\n",
    "    - str: The complementary mRNA sequence.\n",
    "\n",
    "    Example usage:\n",
    "    >>> mirna_to_mrna('UGAGGUAGUAGGUUGUAUAGUU')\n",
    "    'UAUACAACCACUACUCCAUCA'\n",
    "    \"\"\"\n",
    "    complement = {'A': 'U', 'C': 'G', 'G': 'C', 'U': 'A'}\n",
    "    return ''.join(complement.get(base, base) for base in string)[::-1]\n",
    "\n"
   ]
  },
  {
   "cell_type": "code",
   "execution_count": 6,
   "metadata": {},
   "outputs": [],
   "source": [
    "df = pd.read_csv(\"targetscan_mirnas.txt\",\n",
    "                    sep=\"\\t\", header=0)\n",
    "\n",
    "# dropping non-human miRNAs\n",
    "df = df[df[\"Species ID\"] == 9606]\n",
    "# dropping unnecessary columns\n",
    "df = df.drop([\"miR family\", \"Species ID\"], axis=1)\n",
    "\n",
    "# reordering columns\n",
    "df = df.iloc[:, [1, 2, 0, 3, 4]]\n",
    "\n",
    "# renaming columns\n",
    "renaming_dict = {\n",
    "    \"Seed+m8\": \"seed\",\n",
    "    \"MiRBase ID\": \"name\",\n",
    "    \"Mature sequence\": \"sequence\",\n",
    "    \"Family Conservation?\": \"conservation\",\n",
    "    \"MiRBase Accession\": \"accession\"\n",
    "}\n",
    "\n",
    "df.rename(columns=renaming_dict, inplace=True)\n",
    "\n",
    "df[\"sequence\"] = df[\"sequence\"].apply(mirna_to_mrna)\n",
    "df[\"seed\"] = df[\"seed\"].apply(mirna_to_mrna)\n",
    "\n",
    "# trimming 7mer seed into 6mer\n",
    "df[\"seed\"] = df[\"seed\"].str[1:]"
   ]
  },
  {
   "cell_type": "code",
   "execution_count": 8,
   "metadata": {},
   "outputs": [],
   "source": [
    "df.to_csv(\"../../processed/targetscan/targetscan.csv\", index=False)"
   ]
  }
 ],
 "metadata": {
  "kernelspec": {
   "display_name": ".venv",
   "language": "python",
   "name": "python3"
  },
  "language_info": {
   "codemirror_mode": {
    "name": "ipython",
    "version": 3
   },
   "file_extension": ".py",
   "mimetype": "text/x-python",
   "name": "python",
   "nbconvert_exporter": "python",
   "pygments_lexer": "ipython3",
   "version": "3.10.10"
  },
  "orig_nbformat": 4
 },
 "nbformat": 4,
 "nbformat_minor": 2
}
