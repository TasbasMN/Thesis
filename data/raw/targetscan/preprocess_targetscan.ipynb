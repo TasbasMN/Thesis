{
 "cells": [
  {
   "cell_type": "code",
   "execution_count": 1,
   "metadata": {},
   "outputs": [],
   "source": [
    "import pandas as pd"
   ]
  },
  {
   "cell_type": "code",
   "execution_count": 2,
   "metadata": {},
   "outputs": [
    {
     "data": {
      "text/html": [
       "<div>\n",
       "<style scoped>\n",
       "    .dataframe tbody tr th:only-of-type {\n",
       "        vertical-align: middle;\n",
       "    }\n",
       "\n",
       "    .dataframe tbody tr th {\n",
       "        vertical-align: top;\n",
       "    }\n",
       "\n",
       "    .dataframe thead th {\n",
       "        text-align: right;\n",
       "    }\n",
       "</style>\n",
       "<table border=\"1\" class=\"dataframe\">\n",
       "  <thead>\n",
       "    <tr style=\"text-align: right;\">\n",
       "      <th></th>\n",
       "      <th>name</th>\n",
       "      <th>sequence</th>\n",
       "      <th>seed</th>\n",
       "      <th>conservation</th>\n",
       "      <th>accession</th>\n",
       "    </tr>\n",
       "  </thead>\n",
       "  <tbody>\n",
       "    <tr>\n",
       "      <th>53</th>\n",
       "      <td>hsa-let-7a-5p</td>\n",
       "      <td>TGAGGTAGTAGGTTGTATAGTT</td>\n",
       "      <td>GAGGTA</td>\n",
       "      <td>2</td>\n",
       "      <td>MIMAT0000062</td>\n",
       "    </tr>\n",
       "    <tr>\n",
       "      <th>54</th>\n",
       "      <td>hsa-let-7b-5p</td>\n",
       "      <td>TGAGGTAGTAGGTTGTGTGGTT</td>\n",
       "      <td>GAGGTA</td>\n",
       "      <td>2</td>\n",
       "      <td>MIMAT0000063</td>\n",
       "    </tr>\n",
       "    <tr>\n",
       "      <th>55</th>\n",
       "      <td>hsa-let-7c-5p</td>\n",
       "      <td>TGAGGTAGTAGGTTGTATGGTT</td>\n",
       "      <td>GAGGTA</td>\n",
       "      <td>2</td>\n",
       "      <td>MIMAT0000064</td>\n",
       "    </tr>\n",
       "    <tr>\n",
       "      <th>56</th>\n",
       "      <td>hsa-let-7d-5p</td>\n",
       "      <td>AGAGGTAGTAGGTTGCATAGTT</td>\n",
       "      <td>GAGGTA</td>\n",
       "      <td>2</td>\n",
       "      <td>MIMAT0000065</td>\n",
       "    </tr>\n",
       "    <tr>\n",
       "      <th>57</th>\n",
       "      <td>hsa-let-7e-5p</td>\n",
       "      <td>TGAGGTAGGAGGTTGTATAGTT</td>\n",
       "      <td>GAGGTA</td>\n",
       "      <td>2</td>\n",
       "      <td>MIMAT0000066</td>\n",
       "    </tr>\n",
       "  </tbody>\n",
       "</table>\n",
       "</div>"
      ],
      "text/plain": [
       "             name                sequence    seed  conservation     accession\n",
       "53  hsa-let-7a-5p  TGAGGTAGTAGGTTGTATAGTT  GAGGTA             2  MIMAT0000062\n",
       "54  hsa-let-7b-5p  TGAGGTAGTAGGTTGTGTGGTT  GAGGTA             2  MIMAT0000063\n",
       "55  hsa-let-7c-5p  TGAGGTAGTAGGTTGTATGGTT  GAGGTA             2  MIMAT0000064\n",
       "56  hsa-let-7d-5p  AGAGGTAGTAGGTTGCATAGTT  GAGGTA             2  MIMAT0000065\n",
       "57  hsa-let-7e-5p  TGAGGTAGGAGGTTGTATAGTT  GAGGTA             2  MIMAT0000066"
      ]
     },
     "execution_count": 2,
     "metadata": {},
     "output_type": "execute_result"
    }
   ],
   "source": [
    "df = pd.read_csv(\"targetscan_mirnas.txt\",\n",
    "                    sep=\"\\t\", header=0)\n",
    "\n",
    "# dropping non-human miRNAs\n",
    "df = df[df[\"Species ID\"] == 9606]\n",
    "# dropping unnecessary columns\n",
    "df = df.drop([\"miR family\", \"Species ID\"], axis=1)\n",
    "\n",
    "# reordering columns\n",
    "df = df.iloc[:, [1, 2, 0, 3, 4]]\n",
    "\n",
    "# renaming columns\n",
    "renaming_dict = {\n",
    "    \"Seed+m8\": \"seed\",\n",
    "    \"MiRBase ID\": \"name\",\n",
    "    \"Mature sequence\": \"sequence\",\n",
    "    \"Family Conservation?\": \"conservation\",\n",
    "    \"MiRBase Accession\": \"accession\"\n",
    "}\n",
    "\n",
    "df.rename(columns=renaming_dict, inplace=True)\n",
    "\n",
    "# changing uracils into thymines\n",
    "df.sequence = df.sequence.str.replace(\"U\", \"T\")\n",
    "df.seed = df.seed.str.replace(\"U\", \"T\")\n",
    "\n",
    "# trimming 7mer seed into 6mer\n",
    "df[\"seed\"] = df[\"seed\"].str[:-1]\n",
    "df.head()\n"
   ]
  },
  {
   "cell_type": "code",
   "execution_count": 3,
   "metadata": {},
   "outputs": [],
   "source": [
    "df.to_csv(\"../../processed/targetscan/targetscan.csv\", index=False)"
   ]
  }
 ],
 "metadata": {
  "kernelspec": {
   "display_name": ".venv",
   "language": "python",
   "name": "python3"
  },
  "language_info": {
   "codemirror_mode": {
    "name": "ipython",
    "version": 3
   },
   "file_extension": ".py",
   "mimetype": "text/x-python",
   "name": "python",
   "nbconvert_exporter": "python",
   "pygments_lexer": "ipython3",
   "version": "3.11.3"
  },
  "orig_nbformat": 4
 },
 "nbformat": 4,
 "nbformat_minor": 2
}
