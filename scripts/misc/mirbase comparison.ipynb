{
 "cells": [
  {
   "cell_type": "code",
   "execution_count": 1,
   "metadata": {},
   "outputs": [
    {
     "name": "stdout",
     "output_type": "stream",
     "text": [
      "/run/media/nazif/2F946E411BA61D49/thesis\n"
     ]
    }
   ],
   "source": [
    "import pandas as pd\n",
    "\n",
    "%cd .."
   ]
  },
  {
   "cell_type": "code",
   "execution_count": 16,
   "metadata": {},
   "outputs": [
    {
     "name": "stdout",
     "output_type": "stream",
     "text": [
      "length of mb15: 1100 \n",
      "length of mb21: 2588\n",
      "difference: 1488\n"
     ]
    }
   ],
   "source": [
    "mb15 = pd.read_csv(\"data/processed/mirbase/mirbase15.csv\")\n",
    "mb21 = pd.read_csv(\"data/processed/mirbase/mirbase21.csv\")\n",
    "\n",
    "print(f\"length of mb15: {len(mb15)} \\nlength of mb21: {len(mb21)}\")\n",
    "print(f\"difference: {len(mb21) - len(mb15)}\")"
   ]
  },
  {
   "attachments": {},
   "cell_type": "markdown",
   "metadata": {},
   "source": [
    "<span style=\"color:#548F66\">\n",
    "\n",
    "\n",
    "miRBase 21 (TargetScan) has 2.5x amount of miRNAs than miRBase 15 (CLASH)\n",
    "\n",
    "\n",
    "</span>\n"
   ]
  },
  {
   "cell_type": "code",
   "execution_count": 15,
   "metadata": {},
   "outputs": [
    {
     "name": "stdout",
     "output_type": "stream",
     "text": [
      "            name                sequence\n",
      "0     hsa-let-7a  AACUAUACAACCUACUACCUCA\n",
      "1    hsa-let-7a*   GAAAGACAGUAGAUUGUAUAG\n",
      "2  hsa-let-7a-2*  GGAAAGCUAGGAGGCUGUACAG\n",
      "3     hsa-let-7b  AACCACACAACCUACUACCUCA\n",
      "4    hsa-let-7b*  GGGAAGGCAGUAGGUUGUAUAG\n",
      "\n",
      "\n",
      "              name                sequence\n",
      "0    hsa-let-7a-5p  AACUAUACAACCUACUACCUCA\n",
      "1    hsa-let-7a-3p   GAAAGACAGUAGAUUGUAUAG\n",
      "2  hsa-let-7a-2-3p  GGAAAGCUAGGAGGCUGUACAG\n",
      "3    hsa-let-7b-5p  AACCACACAACCUACUACCUCA\n",
      "4    hsa-let-7b-3p  GGGAAGGCAGUAGGUUGUAUAG\n"
     ]
    }
   ],
   "source": [
    "print(mb15.head())\n",
    "print(\"\\n\")\n",
    "print(mb21.head())"
   ]
  },
  {
   "cell_type": "code",
   "execution_count": 17,
   "metadata": {},
   "outputs": [
    {
     "name": "stdout",
     "output_type": "stream",
     "text": [
      "1077\n"
     ]
    }
   ],
   "source": [
    "mb15_list = mb15.sequence.tolist()\n",
    "mb21_list = mb21.sequence.tolist()\n",
    "\n",
    "common_mirna_count = sum(1 for i in mb15_list if i in mb21_list)\n",
    "\n",
    "print(common_mirna_count)\n"
   ]
  },
  {
   "attachments": {},
   "cell_type": "markdown",
   "metadata": {},
   "source": [
    "<span style=\"color:#548F66\">\n",
    "\n",
    "\n",
    "1077 of 1100 miRNA sequences found in miRBase 15 (CLASH) are also found in miRBase 21 (TargetScan)\n",
    "\n",
    "\n",
    "</span>\n"
   ]
  }
 ],
 "metadata": {
  "kernelspec": {
   "display_name": "Python 3 (ipykernel)",
   "language": "python",
   "name": "python3"
  },
  "language_info": {
   "codemirror_mode": {
    "name": "ipython",
    "version": 3
   },
   "file_extension": ".py",
   "mimetype": "text/x-python",
   "name": "python",
   "nbconvert_exporter": "python",
   "pygments_lexer": "ipython3",
   "version": "3.11.3"
  }
 },
 "nbformat": 4,
 "nbformat_minor": 2
}
