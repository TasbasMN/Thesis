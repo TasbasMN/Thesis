{
 "cells": [
  {
   "cell_type": "code",
   "execution_count": 17,
   "metadata": {},
   "outputs": [
    {
     "name": "stdout",
     "output_type": "stream",
     "text": [
      "/run/media/nazif/2F946E411BA61D49\n"
     ]
    }
   ],
   "source": [
    "%cd ../..\n",
    "import pandas as pd\n",
    "from scripts.features import *\n",
    "pd.set_option('display.max_columns', None)\n",
    "from scripts.utils_v2_for_jupyter import *"
   ]
  },
  {
   "cell_type": "code",
   "execution_count": 28,
   "metadata": {},
   "outputs": [
    {
     "data": {
      "text/plain": [
       "(1, 10, '((((((((((', 1, 10, '))))))))))', -10.5)"
      ]
     },
     "execution_count": 28,
     "metadata": {},
     "output_type": "execute_result"
    }
   ],
   "source": [
    "import subprocess\n",
    "\n",
    "def invoke_rnaduplex(long_sequence: str, short_sequence: str, energy_range: float = 5.0,\n",
    "                     rnaduplex_location: str = \"/usr/bin/RNAduplex\") -> tuple:\n",
    "\n",
    "    # short_sequence = reverse_complement(short_sequence)\n",
    "    \n",
    "    input_sequence = f\"{long_sequence}\\n{short_sequence}\".encode()\n",
    "\n",
    "    rnaduplex_subprocess = subprocess.Popen(\n",
    "        [rnaduplex_location, \"-e\", f\"{energy_range}\", \"-s\"],\n",
    "        stdout=subprocess.PIPE,\n",
    "        stdin=subprocess.PIPE,\n",
    "        stderr=subprocess.PIPE,\n",
    "    )\n",
    "\n",
    "    output, error = rnaduplex_subprocess.communicate(input=input_sequence)\n",
    "    rnaduplex_subprocess.wait()\n",
    "\n",
    "    first_line = output.decode().split(\"\\n\")[0].split()\n",
    "\n",
    "    dot_bracket_long, dot_bracket_short = first_line[0].split(\"&\")\n",
    "    start_long, end_long = map(int, first_line[1].split(\",\"))\n",
    "    start_short, end_short = map(int, first_line[3].split(\",\"))\n",
    "    energy = float(first_line[-1].strip(\"()\"))\n",
    "\n",
    "    return start_long, end_long, dot_bracket_long, start_short, end_short, dot_bracket_short, energy\n",
    "\n",
    "invoke_rnaduplex(\"AAAAATGGCA\", \"TGCCATTTTT\")\n"
   ]
  },
  {
   "attachments": {},
   "cell_type": "markdown",
   "metadata": {},
   "source": [
    "# case 1\n",
    "\n",
    "same sequence with its revcomp"
   ]
  },
  {
   "cell_type": "code",
   "execution_count": 10,
   "metadata": {},
   "outputs": [
    {
     "name": "stdout",
     "output_type": "stream",
     "text": [
      "AAAAATGGCA\n",
      "((((((((((\n",
      "))))))))))\n",
      "TTTTTACCGT\n"
     ]
    }
   ],
   "source": [
    "results = invoke_rnaduplex(\"AAAAATGGCA\", \"TGCCATTTTT\")\n",
    "\n",
    "print(\"AAAAATGGCA\")\n",
    "print(results[2])\n",
    "print(results[5])\n",
    "print(\"TGCCATTTTT\"[::-1])\n",
    "\n"
   ]
  },
  {
   "attachments": {},
   "cell_type": "markdown",
   "metadata": {},
   "source": [
    "# case 2\n",
    "\n",
    "same sequence with its revcomp but the last character is different"
   ]
  },
  {
   "cell_type": "code",
   "execution_count": 30,
   "metadata": {},
   "outputs": [
    {
     "name": "stdout",
     "output_type": "stream",
     "text": [
      "AAAAATGGCA\n",
      ".((.((\n",
      ".)).))\n",
      "AAAAATGGCA\n"
     ]
    }
   ],
   "source": [
    "seq1 = \"AAAAATGGCA\"\n",
    "seq2 = \"AAAAATGGCA\"\n",
    "\n",
    "results = invoke_rnaduplex(seq1, seq2)\n",
    "\n",
    "print(seq1)\n",
    "print(results[2])\n",
    "print(results[5])\n",
    "print(seq2)\n"
   ]
  },
  {
   "cell_type": "code",
   "execution_count": 42,
   "metadata": {},
   "outputs": [
    {
     "name": "stdout",
     "output_type": "stream",
     "text": [
      "(5, 10, '.((.((', 1, 6, ')).)).', -2.2)\n",
      "ATGGCA\n",
      ".((.((\n",
      ".)).))\n",
      " 3 GACGGT 5 \n"
     ]
    }
   ],
   "source": [
    "seq1 = \"AAAAATGGCA\"\n",
    "seq2 = \"TGGCAG\"\n",
    "\n",
    "results = invoke_rnaduplex(seq1, seq2)\n",
    "\n",
    "\n",
    "seq1_slice = seq1[results[0]-1:results[1]]\n",
    "seq2_slice = \" 5 \" + seq2[results[3]-1:results[4]] + \" 3 \"\n",
    "print(results)\n",
    "\n",
    "print(seq1_slice)\n",
    "print(results[2])\n",
    "print(results[5][::-1])\n",
    "print(seq2_slice[::-1])"
   ]
  },
  {
   "cell_type": "code",
   "execution_count": 67,
   "metadata": {},
   "outputs": [
    {
     "data": {
      "text/plain": [
       "'TCTCCTTCTTCCTTCTCTCCTT'"
      ]
     },
     "execution_count": 67,
     "metadata": {},
     "output_type": "execute_result"
    }
   ],
   "source": [
    "reverse_complement(\"UUGGUGUGUUGGAUGAUGGAGU\").replace(\"U\", \"T\")"
   ]
  },
  {
   "cell_type": "code",
   "execution_count": 69,
   "metadata": {},
   "outputs": [
    {
     "name": "stdout",
     "output_type": "stream",
     "text": [
      "(1, 7, '(((.(((', 1, 7, '))).)))', -5.1)\n",
      "  5'  TCGTCGA  3'  \n",
      "  5'  (((.(((  3'  \n",
      "  3'  ))).)))  5'  \n",
      "  3'  AGCTGCT  5'  \n"
     ]
    },
    {
     "data": {
      "text/plain": [
       "7"
      ]
     },
     "execution_count": 69,
     "metadata": {},
     "output_type": "execute_result"
    }
   ],
   "source": [
    "seq1 = \"TCGTCGA\"\n",
    "seq2 = \"TCGTCGA\"\n",
    "\n",
    "results = invoke_rnaduplex(seq1, seq2)\n",
    "\n",
    "print(results)\n",
    "\n",
    "seq1_slice = f\"  5'  {seq1[results[0] - 1:results[1]]}  3'  \"\n",
    "seq1_dotbracket = f\"  5'  {results[2]}  3'  \"\n",
    "seq2_dotbracket = f\"  3'  {results[5][::-1]}  5'  \"\n",
    "seq2_slice = f\"  3'  {seq2[results[3] - 1:results[4]][::-1]}  5'  \"\n",
    "\n",
    "\n",
    "print(seq1_slice)\n",
    "print(seq1_dotbracket)\n",
    "print(seq2_dotbracket)\n",
    "print(seq2_slice)\n",
    "\n",
    "len(seq1)"
   ]
  },
  {
   "cell_type": "code",
   "execution_count": 26,
   "metadata": {},
   "outputs": [
    {
     "name": "stdout",
     "output_type": "stream",
     "text": [
      "AAAAATGGCA\n",
      "(((((((((.\n",
      "))))))))).\n",
      "AAAAATGGCT\n"
     ]
    }
   ],
   "source": [
    "seq1 = \"AAAAATGGCA\"\n",
    "seq2 = \"AAAAATGGCT\"\n",
    "\n",
    "results = invoke_rnaduplex(seq1, seq2)\n",
    "\n",
    "print(seq1)\n",
    "print(results[2])\n",
    "print(results[5][::-1])\n",
    "print(seq2)\n",
    "\n"
   ]
  },
  {
   "cell_type": "code",
   "execution_count": 20,
   "metadata": {},
   "outputs": [
    {
     "name": "stdout",
     "output_type": "stream",
     "text": [
      "CTGGAGGTTAAGTACAGTTA\n",
      ".((((((((..(((.((((.\n",
      ".))).)))))))).))))\n",
      "TTGATATGTTGGATGATGGAGT\n"
     ]
    }
   ],
   "source": [
    "seq1 = \"CTGGAGGTTAAGTACAGTTA\"\n",
    "seq2 = \"TGAGGTAGTAGGTTGTATAGTT\"\n",
    "\n",
    "results = invoke_rnaduplex(seq1, seq2)\n",
    "\n",
    "print(seq1)\n",
    "print(results[2])\n",
    "print(results[5][::-1])\n",
    "print(seq2[::-1])\n"
   ]
  },
  {
   "cell_type": "code",
   "execution_count": 75,
   "metadata": {},
   "outputs": [
    {
     "name": "stdout",
     "output_type": "stream",
     "text": [
      "(1, 23, '((((.....((((((((((((((', 1, 22, ')))))))).))))))..)))).', -19.0)\n",
      "  5'  GCCAACGUUCGAUUUCUACCUCA  3'  \n",
      "  5'  ((((.....((((((((((((((  3'  \n",
      "  3'  .))))..)))))).))))))))  5'  \n",
      "  3'  TTGGTGTGTTGGATGATGGAGT  5'  \n"
     ]
    },
    {
     "data": {
      "text/plain": [
       "23"
      ]
     },
     "execution_count": 75,
     "metadata": {},
     "output_type": "execute_result"
    }
   ],
   "source": [
    "seq1 = \"GCCAACGUUCGAUUUCUACCUCA\"\n",
    "seq2 = \"TGAGGTAGTAGGTTGTGTGGTT\"\n",
    "\n",
    "\n",
    "\n",
    "results = invoke_rnaduplex(seq1, seq2)\n",
    "\n",
    "print(results)\n",
    "\n",
    "seq1_slice = f\"  5'  {seq1[results[0] - 1:results[1]]}  3'  \"\n",
    "seq1_dotbracket = f\"  5'  {results[2]}  3'  \"\n",
    "seq2_dotbracket = f\"  3'  {results[5][::-1]}  5'  \"\n",
    "seq2_slice = f\"  3'  {seq2[results[3] - 1:results[4]][::-1]}  5'  \"\n",
    "\n",
    "\n",
    "print(seq1_slice)\n",
    "print(seq1_dotbracket)\n",
    "print(seq2_dotbracket)\n",
    "print(seq2_slice)\n",
    "\n",
    "len(seq1)"
   ]
  },
  {
   "attachments": {},
   "cell_type": "markdown",
   "metadata": {},
   "source": [
    "# real targetscan test case"
   ]
  },
  {
   "attachments": {},
   "cell_type": "markdown",
   "metadata": {},
   "source": [
    "mirna sequence:  UGAGGUAGUAGGUUGUGUGGUU or TGAGGTAGTAGGTTGTGTGGTT (same, T:U change)"
   ]
  },
  {
   "cell_type": "code",
   "execution_count": 77,
   "metadata": {},
   "outputs": [
    {
     "name": "stdout",
     "output_type": "stream",
     "text": [
      "(1, 23, '((((.....((((((((((((((', 1, 22, ')))))))).))))))..)))).', -19.0)\n",
      "  5'  GCCAACGUUCGAUUUCUACCUCA  3'  \n",
      "  5'  ((((.....((((((((((((((  3'  \n",
      "  3'  .))))..)))))).))))))))  5'  \n",
      "  3'  UUGGUGUGUUGGAUGAUGGAGU  5'  \n"
     ]
    },
    {
     "data": {
      "text/plain": [
       "23"
      ]
     },
     "execution_count": 77,
     "metadata": {},
     "output_type": "execute_result"
    }
   ],
   "source": [
    "seq1 = \"GCCAACGUUCGAUUUCUACCUCA\"\n",
    "seq2 = \"UGAGGUAGUAGGUUGUGUGGUU\"\n",
    "\n",
    "\n",
    "\n",
    "results = invoke_rnaduplex(seq1, seq2)\n",
    "\n",
    "print(results)\n",
    "\n",
    "seq1_slice = f\"  5'  {seq1[results[0] - 1:results[1]]}  3'  \"\n",
    "seq1_dotbracket = f\"  5'  {results[2]}  3'  \"\n",
    "seq2_dotbracket = f\"  3'  {results[5][::-1]}  5'  \"\n",
    "seq2_slice = f\"  3'  {seq2[results[3] - 1:results[4]][::-1]}  5'  \"\n",
    "\n",
    "\n",
    "print(seq1_slice)\n",
    "print(seq1_dotbracket)\n",
    "print(seq2_dotbracket)\n",
    "print(seq2_slice)\n",
    "\n",
    "len(seq1)"
   ]
  },
  {
   "attachments": {},
   "cell_type": "markdown",
   "metadata": {},
   "source": [
    "mRNA'yı normal 5-3 verince, miRNA'yı da bendeki gibi 5-3 urasil yerine timinli verince kendi kendine hallediyor.\n",
    "\n",
    "rnaduplex'e sekansları 5-3 DNA şeklinde verince sorun çıkmıyor"
   ]
  }
 ],
 "metadata": {
  "kernelspec": {
   "display_name": "thesis-4DYweHFz-py3.11",
   "language": "python",
   "name": "python3"
  },
  "language_info": {
   "codemirror_mode": {
    "name": "ipython",
    "version": 3
   },
   "file_extension": ".py",
   "mimetype": "text/x-python",
   "name": "python",
   "nbconvert_exporter": "python",
   "pygments_lexer": "ipython3",
   "version": "3.11.3"
  },
  "orig_nbformat": 4
 },
 "nbformat": 4,
 "nbformat_minor": 2
}
