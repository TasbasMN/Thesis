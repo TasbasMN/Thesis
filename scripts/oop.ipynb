{
 "cells": [
  {
   "cell_type": "code",
   "execution_count": 1,
   "metadata": {},
   "outputs": [],
   "source": [
    "# importing dependencies\n",
    "from Bio import SeqIO\n",
    "import pandas as pd\n"
   ]
  },
  {
   "attachments": {},
   "cell_type": "markdown",
   "metadata": {},
   "source": [
    "# questions:\n",
    "\n",
    "which version of fasta file? Soft masked? Masked? Raw?\n",
    "\n",
    "do we need match diagrams for MRE & seed interactions?"
   ]
  },
  {
   "cell_type": "code",
   "execution_count": 11,
   "metadata": {},
   "outputs": [],
   "source": [
    "def import_fasta(fasta):\n",
    "    \"\"\" imports fasta file into a python string\n",
    "\n",
    "    Args:\n",
    "        fasta (_type_): relative path of fasta file\n",
    "\n",
    "    Returns:\n",
    "        _type_: python string containing sequence\n",
    "    \"\"\"\n",
    "    with open(fasta) as f:\n",
    "        records = SeqIO.parse(f, \"fasta\")\n",
    "        transcripts = [str(rec.seq) for rec in records]\n",
    "        print(\"sequence loaded\")\n",
    "        return \"\".join(transcripts)\n",
    "\n",
    "\n",
    "def create_mirna_database(mirna_fasta):\n",
    "    with open(mirna_fasta) as f:\n",
    "\n",
    "        identifiers = []\n",
    "        lengths = []\n",
    "        sequences = []\n",
    "        cDNA = []\n",
    "\n",
    "        for seq_record in SeqIO.parse(f, \"fasta\"):\n",
    "            identifiers.append(seq_record.id)\n",
    "            lengths.append(len(seq_record.seq))\n",
    "            sequences.append(str(seq_record.seq))\n",
    "            # back_transcribe() changes U's into T's, complement() takes the complement\n",
    "            temp = seq_record.seq.back_transcribe()\n",
    "            temp = temp.complement()\n",
    "            cDNA.append(str(temp))\n",
    "\n",
    "    # zipping lists into a pandas df\n",
    "    mirna_df = pd.DataFrame(list(zip(identifiers, sequences, cDNA)), columns=[\n",
    "                            \"name\", \"miRNA_seq\", \"cDNA_seq\"])\n",
    "    # removing non-human entries\n",
    "    mirna_df = mirna_df[mirna_df[\"name\"].str.contains(\"hsa\")]\n",
    "    # fixing index numbers\n",
    "    mirna_df.index = range(1, len(mirna_df)+1)\n",
    "    # deriving MRE sequences and adding as a new column\n",
    "    mirna_df[\"MRE\"] = mirna_df[\"cDNA_seq\"].str[1:9]\n",
    "    # deriving kmer columns\n",
    "    mirna_df[\"8mer\"] = mirna_df[\"cDNA_seq\"].str[:8]\n",
    "    mirna_df[\"7mer-A1\"] = mirna_df[\"cDNA_seq\"].str[:7]\n",
    "    mirna_df[\"7mer-m8\"] = mirna_df[\"cDNA_seq\"].str[1:8]\n",
    "    mirna_df[\"6mer\"] = mirna_df[\"cDNA_seq\"].str[1:7]\n",
    "    mirna_df[\"offset_6mer\"] = mirna_df[\"cDNA_seq\"].str[2:8]\n",
    "    # dropping 8mer and 7mer-A1 values that doesn't start with an A\n",
    "    mirna_df[\"8mer\"].replace({\"^[C,T,G]\": None}, regex=True, inplace=True)\n",
    "    mirna_df[\"7mer-A1\"].replace({\"^[C,T,G]\": None}, regex=True, inplace=True)\n",
    "\n",
    "    print(\"miRNA dataframe loaded\")\n",
    "    return mirna_df\n",
    "\n",
    "\n",
    "def generate_kmers(sequence, k):\n",
    "    for nucleotide in range(len(sequence) - k + 1):\n",
    "        yield sequence[nucleotide: nucleotide + k]\n",
    "\n",
    "\n",
    "def generate_seed_kmer_dictionary(k, mirna_df):\n",
    "    target_seed = []\n",
    "    target_name = []\n",
    "\n",
    "    if k == 6:\n",
    "        target_name.extend(mirna_df[\"name\"].tolist())\n",
    "        target_seed.extend(mirna_df[\"6mer\"].tolist())\n",
    "\n",
    "        target_name.extend(mirna_df[\"name\"].tolist())\n",
    "        target_seed.extend(mirna_df[\"offset_6mer\"].tolist())\n",
    "\n",
    "    if k == 7:\n",
    "        target_name.extend(mirna_df[\"name\"].tolist())\n",
    "        target_seed.extend(mirna_df[\"7mer-A1\"].tolist())\n",
    "\n",
    "        target_name.extend(mirna_df[\"name\"].tolist())\n",
    "        target_seed.extend(mirna_df[\"7mer-m8\"].tolist())\n",
    "\n",
    "    if k == 8:\n",
    "        target_name.extend(mirna_df[\"name\"].tolist())\n",
    "        target_seed.extend(mirna_df[\"8mer\"].tolist())\n",
    "\n",
    "        # dictionary comprehension\n",
    "    return {target_seed[i]: target_name[i] for i in range(len(target_name))}\n",
    "\n",
    "\n",
    "def find_MRE_positions(kmer_generator, kmer_dictionary, k):\n",
    "    kmer_list = []\n",
    "    mirna_name = []\n",
    "    starting_position = []\n",
    "    ending_position = []\n",
    "\n",
    "    for count, kmer in enumerate(kmer_generator, start=0):\n",
    "\n",
    "        if kmer in kmer_dictionary:\n",
    "\n",
    "            position_of_first_nucleotide = count + 1\n",
    "            position_of_last_nucleotide = count + k\n",
    "\n",
    "            kmer_list.append(kmer)\n",
    "            mirna_name.append(kmer_dictionary[kmer])\n",
    "            starting_position.append(position_of_first_nucleotide)\n",
    "            ending_position.append(position_of_last_nucleotide)\n",
    "\n",
    "    return pd.DataFrame(list(zip(kmer_list, mirna_name, starting_position, ending_position)), columns=[\"kmer\", \"name\", \"start\", \"end\"])\n",
    "\n",
    "\n",
    "def run_script(k, fasta, mirna_fasta):\n",
    "\n",
    "    # DNA branch\n",
    "    sequence = import_fasta(fasta)\n",
    "    kmer_generator = generate_kmers(sequence, k)\n",
    "\n",
    "    # miRNA branch\n",
    "    mirna_df = create_mirna_database(mirna_fasta)\n",
    "    kmer_dictionary = generate_seed_kmer_dictionary(k, mirna_df)\n",
    "\n",
    "    return find_MRE_positions(kmer_generator, kmer_dictionary, k)\n"
   ]
  },
  {
   "attachments": {},
   "cell_type": "markdown",
   "metadata": {},
   "source": [
    "## Files help:\n",
    "\n",
    "Fasta of GRCh38, chromosome 1, soft masked downloaded from:\n",
    "\n",
    "https://ftp.ensembl.org/pub/current_fasta/homo_sapiens/dna/Homo_sapiens.GRCh38.dna_sm.chromosome.1.fa.gz\n",
    "\n",
    "Fasta of mature miRNA sequences downloaded from:\n",
    "\n",
    "https://www.mirbase.org/ftp.shtml\n",
    "\n",
    "## How to run the script:\n",
    "\n",
    "1. enter k size\n",
    "2. point to the target fasta\n",
    "3. point to the miRNA database fasta"
   ]
  },
  {
   "cell_type": "code",
   "execution_count": 21,
   "metadata": {},
   "outputs": [],
   "source": [
    "k = 8\n",
    "fasta = \"../sequences/grch38/chromosomes/Homo_sapiens.GRCh38.dna_sm.chromosome.1.fa\"\n",
    "bcl2_fasta = \"../data/bcl2_canonical_3utr.fa\"\n",
    "mirna_fasta = \"../sequences/mirna/mature_miRNAs.fa\""
   ]
  },
  {
   "cell_type": "code",
   "execution_count": 29,
   "metadata": {},
   "outputs": [
    {
     "name": "stdout",
     "output_type": "stream",
     "text": [
      "sequence loaded\n",
      "miRNA dataframe loaded\n"
     ]
    },
    {
     "data": {
      "text/html": [
       "<div>\n",
       "<style scoped>\n",
       "    .dataframe tbody tr th:only-of-type {\n",
       "        vertical-align: middle;\n",
       "    }\n",
       "\n",
       "    .dataframe tbody tr th {\n",
       "        vertical-align: top;\n",
       "    }\n",
       "\n",
       "    .dataframe thead th {\n",
       "        text-align: right;\n",
       "    }\n",
       "</style>\n",
       "<table border=\"1\" class=\"dataframe\">\n",
       "  <thead>\n",
       "    <tr style=\"text-align: right;\">\n",
       "      <th></th>\n",
       "      <th>kmer</th>\n",
       "      <th>name</th>\n",
       "      <th>start</th>\n",
       "      <th>end</th>\n",
       "    </tr>\n",
       "  </thead>\n",
       "  <tbody>\n",
       "    <tr>\n",
       "      <th>0</th>\n",
       "      <td>ATTGTCAG</td>\n",
       "      <td>hsa-miR-132-3p</td>\n",
       "      <td>64</td>\n",
       "      <td>71</td>\n",
       "    </tr>\n",
       "    <tr>\n",
       "      <th>1</th>\n",
       "      <td>ACATCACA</td>\n",
       "      <td>hsa-miR-142-3p</td>\n",
       "      <td>128</td>\n",
       "      <td>135</td>\n",
       "    </tr>\n",
       "    <tr>\n",
       "      <th>2</th>\n",
       "      <td>ACACACAC</td>\n",
       "      <td>hsa-miR-6867-5p</td>\n",
       "      <td>133</td>\n",
       "      <td>140</td>\n",
       "    </tr>\n",
       "    <tr>\n",
       "      <th>3</th>\n",
       "      <td>ACACACAC</td>\n",
       "      <td>hsa-miR-6867-5p</td>\n",
       "      <td>147</td>\n",
       "      <td>154</td>\n",
       "    </tr>\n",
       "    <tr>\n",
       "      <th>4</th>\n",
       "      <td>ACACACAC</td>\n",
       "      <td>hsa-miR-6867-5p</td>\n",
       "      <td>149</td>\n",
       "      <td>156</td>\n",
       "    </tr>\n",
       "  </tbody>\n",
       "</table>\n",
       "</div>"
      ],
      "text/plain": [
       "       kmer             name  start  end\n",
       "0  ATTGTCAG   hsa-miR-132-3p     64   71\n",
       "1  ACATCACA   hsa-miR-142-3p    128  135\n",
       "2  ACACACAC  hsa-miR-6867-5p    133  140\n",
       "3  ACACACAC  hsa-miR-6867-5p    147  154\n",
       "4  ACACACAC  hsa-miR-6867-5p    149  156"
      ]
     },
     "execution_count": 29,
     "metadata": {},
     "output_type": "execute_result"
    }
   ],
   "source": [
    "bcl2_results = run_script(k, bcl2_fasta, mirna_fasta)\n",
    "\n",
    "bcl2_results.head()"
   ]
  },
  {
   "cell_type": "code",
   "execution_count": 26,
   "metadata": {},
   "outputs": [
    {
     "name": "stdout",
     "output_type": "stream",
     "text": [
      "sequence loaded\n",
      "miRNA dataframe loaded\n"
     ]
    },
    {
     "data": {
      "text/plain": [
       "1544795"
      ]
     },
     "execution_count": 26,
     "metadata": {},
     "output_type": "execute_result"
    }
   ],
   "source": [
    "chr1_results = run_script(8, fasta, mirna_fasta)\n",
    "\n",
    "chr1_results.head()\n",
    "len(chr1_results)"
   ]
  },
  {
   "attachments": {},
   "cell_type": "markdown",
   "metadata": {},
   "source": [
    "# Work in progress cells\n"
   ]
  },
  {
   "cell_type": "code",
   "execution_count": null,
   "metadata": {},
   "outputs": [],
   "source": []
  }
 ],
 "metadata": {
  "kernelspec": {
   "display_name": "tenv",
   "language": "python",
   "name": "python3"
  },
  "language_info": {
   "codemirror_mode": {
    "name": "ipython",
    "version": 3
   },
   "file_extension": ".py",
   "mimetype": "text/x-python",
   "name": "python",
   "nbconvert_exporter": "python",
   "pygments_lexer": "ipython3",
   "version": "3.10.8"
  },
  "orig_nbformat": 4,
  "vscode": {
   "interpreter": {
    "hash": "0a7314db4cd9cbf8825ff67208d8d351ac5340431b699125bf50d4fb6663edf3"
   }
  }
 },
 "nbformat": 4,
 "nbformat_minor": 2
}
