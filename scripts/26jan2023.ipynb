{
 "cells": [
  {
   "cell_type": "code",
   "execution_count": null,
   "metadata": {},
   "outputs": [],
   "source": [
    "from utils import *\n",
    "import pandas as pd"
   ]
  },
  {
   "attachments": {},
   "cell_type": "markdown",
   "metadata": {},
   "source": [
    "### importing sequence & miRNA dataframe"
   ]
  },
  {
   "cell_type": "code",
   "execution_count": null,
   "metadata": {},
   "outputs": [],
   "source": [
    "# parameters for TP53\n",
    "\n",
    "seq_file = \"../sequences/tp53/Homo_sapiens_ENST00000420246_2_sequence.fa\"\n",
    "canonical_result_file = (\n",
    "    \"../sequences/tp53/TargetScan_8.0_ENST00000420246.2_predicted_targeting_details.txt\"\n",
    ")\n"
   ]
  },
  {
   "cell_type": "code",
   "execution_count": null,
   "metadata": {},
   "outputs": [],
   "source": [
    "sequence = import_fasta(seq_file)\n",
    "\n",
    "targetscan_df = pd.read_csv(\"../data/mirna_databases/targetscan.tsv\", sep=\"\\t\")\n",
    "\n",
    "targetscan_df.head()\n"
   ]
  },
  {
   "attachments": {},
   "cell_type": "markdown",
   "metadata": {},
   "source": [
    "### results"
   ]
  },
  {
   "cell_type": "code",
   "execution_count": null,
   "metadata": {},
   "outputs": [],
   "source": [
    "results_df = find_matches(sequence, targetscan_df,\n",
    "                          ignore_first_15_nucleotides=True)\n",
    "\n",
    "results_df.head()"
   ]
  },
  {
   "cell_type": "code",
   "execution_count": null,
   "metadata": {},
   "outputs": [],
   "source": [
    "print_results(results_df, sequence)"
   ]
  }
 ],
 "metadata": {
  "kernelspec": {
   "display_name": "tenv",
   "language": "python",
   "name": "python3"
  },
  "language_info": {
   "codemirror_mode": {
    "name": "ipython",
    "version": 3
   },
   "file_extension": ".py",
   "mimetype": "text/x-python",
   "name": "python",
   "nbconvert_exporter": "python",
   "pygments_lexer": "ipython3",
   "version": "3.10.8"
  },
  "orig_nbformat": 4,
  "vscode": {
   "interpreter": {
    "hash": "0a7314db4cd9cbf8825ff67208d8d351ac5340431b699125bf50d4fb6663edf3"
   }
  }
 },
 "nbformat": 4,
 "nbformat_minor": 2
}
