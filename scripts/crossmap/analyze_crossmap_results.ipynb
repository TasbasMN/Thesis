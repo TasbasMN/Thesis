{
 "cells": [
  {
   "cell_type": "code",
   "execution_count": 1,
   "metadata": {},
   "outputs": [
    {
     "name": "stdout",
     "output_type": "stream",
     "text": [
      "/run/media/nazif/2F946E411BA61D49/thesis\n"
     ]
    },
    {
     "name": "stderr",
     "output_type": "stream",
     "text": [
      "INFO:pyensembl.sequence_data:Loaded sequence dictionary from /run/media/nazif/2F946E411BA61D49/data/pyensembl/GRCh38/ensembl109/Homo_sapiens.GRCh38.cdna.all.fa.gz.pickle\n",
      "INFO:pyensembl.sequence_data:Loaded sequence dictionary from /run/media/nazif/2F946E411BA61D49/data/pyensembl/GRCh38/ensembl109/Homo_sapiens.GRCh38.ncrna.fa.gz.pickle\n",
      "INFO:pyensembl.sequence_data:Loaded sequence dictionary from /run/media/nazif/2F946E411BA61D49/data/pyensembl/GRCh38/ensembl109/Homo_sapiens.GRCh38.pep.all.fa.gz.pickle\n",
      "INFO:pyensembl.sequence_data:Loaded sequence dictionary from /run/media/nazif/2F946E411BA61D49/data/pyensembl/GRCh37/ensembl75/Homo_sapiens.GRCh37.75.cdna.all.fa.gz.pickle\n",
      "INFO:pyensembl.sequence_data:Loaded sequence dictionary from /run/media/nazif/2F946E411BA61D49/data/pyensembl/GRCh37/ensembl75/Homo_sapiens.GRCh37.75.ncrna.fa.gz.pickle\n",
      "INFO:pyensembl.sequence_data:Loaded sequence dictionary from /run/media/nazif/2F946E411BA61D49/data/pyensembl/GRCh37/ensembl75/Homo_sapiens.GRCh37.75.pep.all.fa.gz.pickle\n"
     ]
    }
   ],
   "source": [
    "%cd ../..\n",
    "\n",
    "import pandas as pd\n",
    "from scripts.utils import *\n",
    "\n",
    "\n",
    "hg38 = import_pyensembl(38)\n",
    "hg19 = import_pyensembl(37)"
   ]
  },
  {
   "cell_type": "code",
   "execution_count": 2,
   "metadata": {},
   "outputs": [],
   "source": [
    "def read_gff_file(file_path):\n",
    "    # Read the gff file into a DataFrame\n",
    "    df = pd.read_csv(file_path, sep=\"\\t\", header=None)\n",
    "\n",
    "    # Create a rename dictionary\n",
    "    rename_dict = {\n",
    "        0: 'chr',\n",
    "        1: 'drop',\n",
    "        2: 'biotype',\n",
    "        3: 'start',\n",
    "        4: 'end',\n",
    "        5: 'drop2',\n",
    "        6: 'strand',\n",
    "        7: 'drop3',\n",
    "        8: 'other_data'\n",
    "    }\n",
    "\n",
    "    # Rename the columns based on the rename dictionary\n",
    "    df = df.rename(columns=rename_dict)\n",
    "\n",
    "    df[['id', 'alias', 'name', 'derives_from']] = (df[\"other_data\"].str.split(';', expand=True)\n",
    "                                                   .apply(lambda x:x.str.split('=', expand=True)[1]))\n",
    "\n",
    "    df['chr'] = df['chr'].str.replace('chr', '')\n",
    "\n",
    "    df.drop(columns=[\"drop\", \"drop2\", \"drop3\", \"other_data\"], inplace=True)\n",
    "\n",
    "    return df\n"
   ]
  },
  {
   "cell_type": "code",
   "execution_count": 3,
   "metadata": {},
   "outputs": [],
   "source": [
    "raw = read_gff_file(\"crossmap/hsa.gff3\")\n",
    "converted_mirnas = read_gff_file(\"crossmap/hsa_mirnas_grch37.gff3\")\n",
    "non_converted_mirnas = read_gff_file(\"crossmap/hsa_mirnas_grch37.gff3.T99YAPR8.unmap\")\n",
    "\n",
    "mirbase = pd.read_csv(\"data/processed/mirbase/mirbase22_no_conservation.csv\")\n"
   ]
  },
  {
   "cell_type": "code",
   "execution_count": 4,
   "metadata": {},
   "outputs": [
    {
     "name": "stdout",
     "output_type": "stream",
     "text": [
      "mean of primary transcript lengths\n",
      "80.916361735494\n",
      "mean of mirna lengths\n",
      "20.625824366539398\n"
     ]
    }
   ],
   "source": [
    "# assigning length col\n",
    "converted_mirnas = converted_mirnas.assign(length=converted_mirnas[\"end\"] - converted_mirnas[\"start\"])\n",
    "\n",
    "print(f\"mean of primary transcript lengths\\n{converted_mirnas[converted_mirnas.biotype == 'miRNA_primary_transcript'].length.mean()}\")\n",
    "\n",
    "print(f\"mean of mirna lengths\\n{converted_mirnas[converted_mirnas.biotype == 'miRNA'].length.mean()}\")\n",
    "\n"
   ]
  },
  {
   "cell_type": "code",
   "execution_count": 5,
   "metadata": {},
   "outputs": [
    {
     "name": "stdout",
     "output_type": "stream",
     "text": [
      "hsa-miR-6859-3p is in miRBase\n",
      "hsa-miR-4477a is in miRBase\n",
      "hsa-miR-4477b is in miRBase\n"
     ]
    }
   ],
   "source": [
    "mirnas_without_hg19_coord = non_converted_mirnas.query(\"biotype == 'miRNA'\").name\n",
    "\n",
    "for i in mirnas_without_hg19_coord:\n",
    "    if i in mirbase[\"name\"].values:\n",
    "        print(f\"{i} is in miRBase\")"
   ]
  },
  {
   "cell_type": "markdown",
   "metadata": {},
   "source": [
    "# exploring raw gff file from mirbase"
   ]
  },
  {
   "cell_type": "code",
   "execution_count": 6,
   "metadata": {},
   "outputs": [
    {
     "data": {
      "text/plain": [
       "2883"
      ]
     },
     "execution_count": 6,
     "metadata": {},
     "output_type": "execute_result"
    }
   ],
   "source": [
    "\n",
    "len(raw.query(\"biotype == 'miRNA'\"))"
   ]
  },
  {
   "cell_type": "code",
   "execution_count": 7,
   "metadata": {},
   "outputs": [
    {
     "data": {
      "text/plain": [
       "2652"
      ]
     },
     "execution_count": 7,
     "metadata": {},
     "output_type": "execute_result"
    }
   ],
   "source": [
    "len(raw.query(\"biotype == 'miRNA'\").name.unique())"
   ]
  },
  {
   "cell_type": "code",
   "execution_count": 8,
   "metadata": {},
   "outputs": [
    {
     "name": "stdout",
     "output_type": "stream",
     "text": [
      "hsa-miR-1973 is not in raw gff\n",
      "hsa-miR-3713 is not in raw gff\n",
      "hsa-miR-378g is not in raw gff\n",
      "hsa-miR-4456 is not in raw gff\n"
     ]
    }
   ],
   "source": [
    "for i in mirbase[\"name\"].values:\n",
    "    if i not in raw.query(\"biotype == 'miRNA'\").name.unique():\n",
    "        print(f\"{i} is not in raw gff\")"
   ]
  },
  {
   "cell_type": "markdown",
   "metadata": {},
   "source": [
    "2883 miRNA records in gff. 2652 unique miRNAs. miRBase 22 has 2656 miRNAs.\n",
    "\n",
    "hsa-miR-1973, hsa-miR-3713, hsa-miR-378g, hsa-miR-4456 are not in gff but in miRBase 22"
   ]
  },
  {
   "cell_type": "code",
   "execution_count": 9,
   "metadata": {},
   "outputs": [
    {
     "data": {
      "text/plain": [
       "0"
      ]
     },
     "execution_count": 9,
     "metadata": {},
     "output_type": "execute_result"
    }
   ],
   "source": [
    "mirnas_not_in_raw_file = [\n",
    "    i\n",
    "    for i in raw.query(\"biotype == 'miRNA'\").name.unique()\n",
    "    if i not in mirbase[\"name\"].values\n",
    "]\n",
    "\n",
    "len(mirnas_not_in_raw_file)"
   ]
  },
  {
   "cell_type": "markdown",
   "metadata": {},
   "source": [
    "# visualizing mirnas without hg19 coords"
   ]
  },
  {
   "cell_type": "code",
   "execution_count": 10,
   "metadata": {},
   "outputs": [
    {
     "data": {
      "text/plain": [
       "1    hsa-miR-6859-3p\n",
       "5      hsa-miR-4477a\n",
       "7      hsa-miR-4477b\n",
       "Name: name, dtype: object"
      ]
     },
     "execution_count": 10,
     "metadata": {},
     "output_type": "execute_result"
    }
   ],
   "source": [
    "mirnas_without_hg19_coord"
   ]
  },
  {
   "cell_type": "markdown",
   "metadata": {},
   "source": [
    "hsa-miR-6859-3p\tposition is the same"
   ]
  },
  {
   "cell_type": "code",
   "execution_count": 11,
   "metadata": {},
   "outputs": [
    {
     "data": {
      "text/html": [
       "<div>\n",
       "<style scoped>\n",
       "    .dataframe tbody tr th:only-of-type {\n",
       "        vertical-align: middle;\n",
       "    }\n",
       "\n",
       "    .dataframe tbody tr th {\n",
       "        vertical-align: top;\n",
       "    }\n",
       "\n",
       "    .dataframe thead th {\n",
       "        text-align: right;\n",
       "    }\n",
       "</style>\n",
       "<table border=\"1\" class=\"dataframe\">\n",
       "  <thead>\n",
       "    <tr style=\"text-align: right;\">\n",
       "      <th></th>\n",
       "      <th>chr</th>\n",
       "      <th>biotype</th>\n",
       "      <th>start</th>\n",
       "      <th>end</th>\n",
       "      <th>strand</th>\n",
       "      <th>id</th>\n",
       "      <th>alias</th>\n",
       "      <th>name</th>\n",
       "      <th>derives_from</th>\n",
       "    </tr>\n",
       "  </thead>\n",
       "  <tbody>\n",
       "    <tr>\n",
       "      <th>2</th>\n",
       "      <td>1</td>\n",
       "      <td>miRNA</td>\n",
       "      <td>17369</td>\n",
       "      <td>17391</td>\n",
       "      <td>-</td>\n",
       "      <td>MIMAT0027619</td>\n",
       "      <td>MIMAT0027619</td>\n",
       "      <td>hsa-miR-6859-3p</td>\n",
       "      <td>MI0022705</td>\n",
       "    </tr>\n",
       "    <tr>\n",
       "      <th>7</th>\n",
       "      <td>1</td>\n",
       "      <td>miRNA</td>\n",
       "      <td>187891</td>\n",
       "      <td>187913</td>\n",
       "      <td>-</td>\n",
       "      <td>MIMAT0027619_1</td>\n",
       "      <td>MIMAT0027619</td>\n",
       "      <td>hsa-miR-6859-3p</td>\n",
       "      <td>MI0026420</td>\n",
       "    </tr>\n",
       "    <tr>\n",
       "      <th>1536</th>\n",
       "      <td>15</td>\n",
       "      <td>miRNA</td>\n",
       "      <td>101973569</td>\n",
       "      <td>101973591</td>\n",
       "      <td>+</td>\n",
       "      <td>MIMAT0027619_2</td>\n",
       "      <td>MIMAT0027619</td>\n",
       "      <td>hsa-miR-6859-3p</td>\n",
       "      <td>MI0026421</td>\n",
       "    </tr>\n",
       "    <tr>\n",
       "      <th>1539</th>\n",
       "      <td>16</td>\n",
       "      <td>miRNA</td>\n",
       "      <td>17052</td>\n",
       "      <td>17074</td>\n",
       "      <td>-</td>\n",
       "      <td>MIMAT0027619_3</td>\n",
       "      <td>MIMAT0027619</td>\n",
       "      <td>hsa-miR-6859-3p</td>\n",
       "      <td>MI0031521</td>\n",
       "    </tr>\n",
       "    <tr>\n",
       "      <th>4316</th>\n",
       "      <td>9</td>\n",
       "      <td>miRNA</td>\n",
       "      <td>41233802</td>\n",
       "      <td>41233823</td>\n",
       "      <td>+</td>\n",
       "      <td>MIMAT0019004</td>\n",
       "      <td>MIMAT0019004</td>\n",
       "      <td>hsa-miR-4477a</td>\n",
       "      <td>MI0016829</td>\n",
       "    </tr>\n",
       "    <tr>\n",
       "      <th>4318</th>\n",
       "      <td>9</td>\n",
       "      <td>miRNA</td>\n",
       "      <td>41233765</td>\n",
       "      <td>41233786</td>\n",
       "      <td>-</td>\n",
       "      <td>MIMAT0019005</td>\n",
       "      <td>MIMAT0019005</td>\n",
       "      <td>hsa-miR-4477b</td>\n",
       "      <td>MI0016830</td>\n",
       "    </tr>\n",
       "    <tr>\n",
       "      <th>4320</th>\n",
       "      <td>9</td>\n",
       "      <td>miRNA</td>\n",
       "      <td>63819623</td>\n",
       "      <td>63819644</td>\n",
       "      <td>+</td>\n",
       "      <td>MIMAT0019005_1</td>\n",
       "      <td>MIMAT0019005</td>\n",
       "      <td>hsa-miR-4477b</td>\n",
       "      <td>MI0016830</td>\n",
       "    </tr>\n",
       "    <tr>\n",
       "      <th>4322</th>\n",
       "      <td>9</td>\n",
       "      <td>miRNA</td>\n",
       "      <td>63819586</td>\n",
       "      <td>63819607</td>\n",
       "      <td>-</td>\n",
       "      <td>MIMAT0019004_1</td>\n",
       "      <td>MIMAT0019004</td>\n",
       "      <td>hsa-miR-4477a</td>\n",
       "      <td>MI0016829</td>\n",
       "    </tr>\n",
       "  </tbody>\n",
       "</table>\n",
       "</div>"
      ],
      "text/plain": [
       "     chr biotype      start        end strand              id         alias  \\\n",
       "2      1   miRNA      17369      17391      -    MIMAT0027619  MIMAT0027619   \n",
       "7      1   miRNA     187891     187913      -  MIMAT0027619_1  MIMAT0027619   \n",
       "1536  15   miRNA  101973569  101973591      +  MIMAT0027619_2  MIMAT0027619   \n",
       "1539  16   miRNA      17052      17074      -  MIMAT0027619_3  MIMAT0027619   \n",
       "4316   9   miRNA   41233802   41233823      +    MIMAT0019004  MIMAT0019004   \n",
       "4318   9   miRNA   41233765   41233786      -    MIMAT0019005  MIMAT0019005   \n",
       "4320   9   miRNA   63819623   63819644      +  MIMAT0019005_1  MIMAT0019005   \n",
       "4322   9   miRNA   63819586   63819607      -  MIMAT0019004_1  MIMAT0019004   \n",
       "\n",
       "                 name derives_from  \n",
       "2     hsa-miR-6859-3p    MI0022705  \n",
       "7     hsa-miR-6859-3p    MI0026420  \n",
       "1536  hsa-miR-6859-3p    MI0026421  \n",
       "1539  hsa-miR-6859-3p    MI0031521  \n",
       "4316    hsa-miR-4477a    MI0016829  \n",
       "4318    hsa-miR-4477b    MI0016830  \n",
       "4320    hsa-miR-4477b    MI0016830  \n",
       "4322    hsa-miR-4477a    MI0016829  "
      ]
     },
     "execution_count": 11,
     "metadata": {},
     "output_type": "execute_result"
    }
   ],
   "source": [
    "raw.query(\"name in @mirnas_without_hg19_coord\")"
   ]
  },
  {
   "cell_type": "markdown",
   "metadata": {},
   "source": [
    "# mir 4477b"
   ]
  },
  {
   "cell_type": "code",
   "execution_count": 47,
   "metadata": {},
   "outputs": [
    {
     "name": "stdout",
     "output_type": "stream",
     "text": [
      "[]\n",
      "['MIR4477B-201']\n"
     ]
    }
   ],
   "source": [
    "# index 4320 hsa-miR-4477b\n",
    "print(hg19.transcript_names_at_locus(9,63819623, 63819644))\n",
    "print(hg38.transcript_names_at_locus(9,63819623, 63819644))"
   ]
  },
  {
   "cell_type": "code",
   "execution_count": 52,
   "metadata": {},
   "outputs": [
    {
     "name": "stdout",
     "output_type": "stream",
     "text": [
      "Transcript(transcript_id='ENST00000581659', transcript_name='MIR4477B-201', gene_id='ENSG00000266017', biotype='miRNA', contig='9', start=63819574, end=63819654, strand='+', genome='GRCh38')\n"
     ]
    }
   ],
   "source": [
    "# print(hg19.transcripts_by_name(\"MIR4477B-201\")[0])\n",
    "print(hg38.transcripts_by_name(\"MIR4477B-201\")[0])"
   ]
  },
  {
   "cell_type": "code",
   "execution_count": 12,
   "metadata": {},
   "outputs": [
    {
     "name": "stdout",
     "output_type": "stream",
     "text": [
      "[]\n",
      "['MIR4477A-201']\n"
     ]
    }
   ],
   "source": [
    "# index 4316 hsa-miR-4477a\n",
    "print(hg19.transcript_names_at_locus(9,41233802, 41233823))\n",
    "print(hg38.transcript_names_at_locus(9,41233802, 41233823))\n",
    "\n"
   ]
  },
  {
   "cell_type": "code",
   "execution_count": 13,
   "metadata": {},
   "outputs": [
    {
     "name": "stdout",
     "output_type": "stream",
     "text": [
      "[]\n",
      "['MIR4477A-201']\n"
     ]
    }
   ],
   "source": [
    "# index 4318 hsa-miR-4477b\n",
    "print(hg19.transcript_names_at_locus(9,41233765, 41233786))\n",
    "print(hg38.transcript_names_at_locus(9,41233765, 41233786))"
   ]
  },
  {
   "cell_type": "code",
   "execution_count": 39,
   "metadata": {},
   "outputs": [
    {
     "name": "stdout",
     "output_type": "stream",
     "text": [
      "['MIR4477A-201']\n"
     ]
    }
   ],
   "source": [
    "print(hg38.transcript_names_at_locus(9,41233765, 41233823))\n"
   ]
  },
  {
   "cell_type": "code",
   "execution_count": 46,
   "metadata": {},
   "outputs": [
    {
     "name": "stdout",
     "output_type": "stream",
     "text": [
      "Transcript(transcript_id='ENST00000581659', transcript_name='MIR4477A-201', gene_id='ENSG00000266017', biotype='miRNA', contig='9', start=68415308, end=68415388, strand='+', genome='GRCh37')\n",
      "Transcript(transcript_id='ENST00000612572', transcript_name='MIR4477A-201', gene_id='ENSG00000276029', biotype='miRNA', contig='9', start=41233755, end=41233835, strand='+', genome='GRCh38')\n"
     ]
    }
   ],
   "source": [
    "print(hg19.transcripts_by_name(\"MIR4477A-201\")[0])\n",
    "print(hg38.transcripts_by_name(\"MIR4477A-201\")[0])"
   ]
  },
  {
   "cell_type": "code",
   "execution_count": 14,
   "metadata": {},
   "outputs": [
    {
     "name": "stdout",
     "output_type": "stream",
     "text": [
      "ACCTCCTCCCGTGAATCACAAATGTCCTTAATAGCAATCCTTAAATGCCATTAAGGACATTTGTGATTGATGGGAGGAGGA\n",
      "81\n"
     ]
    }
   ],
   "source": [
    "print(hg19.transcripts_by_name(\"MIR4477A-201\")[0].sequence)\n",
    "print(len(hg19.transcripts_by_name(\"MIR4477A-201\")[0].sequence))"
   ]
  },
  {
   "cell_type": "markdown",
   "metadata": {},
   "source": [
    "querying MI0016829 accession (precursor of mir4477a and b) from mirbase\n",
    "\n",
    "link = https://mircarta.cs.uni-saarland.de/precursor_view/MI0016829/"
   ]
  },
  {
   "cell_type": "code",
   "execution_count": 15,
   "metadata": {},
   "outputs": [
    {
     "name": "stdout",
     "output_type": "stream",
     "text": [
      "81\n"
     ]
    }
   ],
   "source": [
    "MI0016829_sequence = \"UCCUCCUCCCAUCAAUCACAAAUGUCCUUAAUGGCAUUUAAGGAUUGCUAUUAAGGACAUUUGUGAUUCACGGGAGGAGGU\"\n",
    "print(len(MI0016829_sequence))"
   ]
  },
  {
   "cell_type": "code",
   "execution_count": 16,
   "metadata": {},
   "outputs": [
    {
     "data": {
      "text/plain": [
       "True"
      ]
     },
     "execution_count": 16,
     "metadata": {},
     "output_type": "execute_result"
    }
   ],
   "source": [
    "MI0016829_sequence_from_hg19 = hg19.transcripts_by_name(\"MIR4477A-201\")[0].sequence\n",
    "\n",
    "reverse_complement_dna_to_rna(MI0016829_sequence_from_hg19) == MI0016829_sequence"
   ]
  },
  {
   "cell_type": "markdown",
   "metadata": {},
   "source": [
    "sequences are the same."
   ]
  },
  {
   "cell_type": "code",
   "execution_count": 18,
   "metadata": {},
   "outputs": [],
   "source": [
    "mir4477a_seq = mirbase[mirbase.name == \"hsa-miR-4477a\"].sequence.values.tolist()[0]\n",
    "mir4477b_seq = mirbase[mirbase.name == \"hsa-miR-4477b\"].sequence.values.tolist()[0]\n"
   ]
  },
  {
   "cell_type": "code",
   "execution_count": 36,
   "metadata": {},
   "outputs": [
    {
     "name": "stdout",
     "output_type": "stream",
     "text": [
      "(11, 34, '.((((((((((((((((((((((.', 0, 21, '))))))))))))))))))))))', -32.1)\n",
      "GAATCACAAATGTCCTTAATAG\n",
      "CTTAGTGTTTACAGGAATTATC\n"
     ]
    }
   ],
   "source": [
    "print(invoke_rnaduplex(MI0016829_sequence_from_hg19, reverse_complement_rna_to_dna(mir4477a_seq)))\n",
    "\n",
    "print(MI0016829_sequence_from_hg19[12:34])\n",
    "print(reverse_complement_rna_to_dna(mir4477a_seq)[::-1])"
   ]
  },
  {
   "cell_type": "code",
   "execution_count": 37,
   "metadata": {},
   "outputs": [
    {
     "name": "stdout",
     "output_type": "stream",
     "text": [
      "(9, 32, '.((.(((((((((((((((((((.', 0, 21, '))))))))))))))))))).))', -28.0)\n",
      "CGTGAATCACAAATGTCCTTAAT\n",
      "TAGTTAGTGTTTACAGGAATTA\n"
     ]
    }
   ],
   "source": [
    "print(invoke_rnaduplex(MI0016829_sequence_from_hg19, reverse_complement_rna_to_dna(mir4477b_seq)))\n",
    "\n",
    "print(MI0016829_sequence_from_hg19[9:32])\n",
    "print(reverse_complement_rna_to_dna(mir4477b_seq)[::-1])\n"
   ]
  },
  {
   "cell_type": "code",
   "execution_count": 30,
   "metadata": {},
   "outputs": [
    {
     "data": {
      "text/plain": [
       "68415308"
      ]
     },
     "execution_count": 30,
     "metadata": {},
     "output_type": "execute_result"
    }
   ],
   "source": [
    "hg19.transcripts_by_name(\"MIR4477A-201\")[0].start"
   ]
  },
  {
   "cell_type": "code",
   "execution_count": 31,
   "metadata": {},
   "outputs": [
    {
     "data": {
      "text/plain": [
       "Transcript(transcript_id='ENST00000581659', transcript_name='MIR4477A-201', gene_id='ENSG00000266017', biotype='miRNA', contig='9', start=68415308, end=68415388, strand='+', genome='GRCh37')"
      ]
     },
     "execution_count": 31,
     "metadata": {},
     "output_type": "execute_result"
    }
   ],
   "source": [
    "hg19.transcripts_by_name(\"MIR4477A-201\")[0]"
   ]
  },
  {
   "cell_type": "code",
   "execution_count": 35,
   "metadata": {},
   "outputs": [
    {
     "data": {
      "text/plain": [
       "'GAATCACAAATGTCCTTAATAG'"
      ]
     },
     "execution_count": 35,
     "metadata": {},
     "output_type": "execute_result"
    }
   ],
   "source": [
    "hg19.transcripts_at_locus(9,68415308, 68415388)[0].sequence[12:34]"
   ]
  },
  {
   "cell_type": "code",
   "execution_count": 38,
   "metadata": {},
   "outputs": [
    {
     "data": {
      "text/plain": [
       "'GTGAATCACAAATGTCCTTAAT'"
      ]
     },
     "execution_count": 38,
     "metadata": {},
     "output_type": "execute_result"
    }
   ],
   "source": [
    "hg19.transcripts_at_locus(9,68415308, 68415388)[0].sequence[10:32]\n"
   ]
  },
  {
   "cell_type": "markdown",
   "metadata": {},
   "source": [
    "# 447b web search\n",
    "\n",
    "https://www.ncbi.nlm.nih.gov/gene/100616194\n",
    "\n",
    "38 location: NC_000009.12 (chr9:63819574-63819654) \n",
    "\n",
    "37 location = NC_000009.11 (chr9:68415308-68415388) "
   ]
  },
  {
   "cell_type": "code",
   "execution_count": 54,
   "metadata": {},
   "outputs": [
    {
     "data": {
      "text/plain": [
       "[Transcript(transcript_id='ENST00000581659', transcript_name='MIR4477A-201', gene_id='ENSG00000266017', biotype='miRNA', contig='9', start=68415308, end=68415388, strand='+', genome='GRCh37')]"
      ]
     },
     "execution_count": 54,
     "metadata": {},
     "output_type": "execute_result"
    }
   ],
   "source": [
    "hg19.transcripts_at_locus(9, 68415308, 68415388)"
   ]
  },
  {
   "cell_type": "markdown",
   "metadata": {},
   "source": [
    "# 447A web search\n",
    "\n",
    "https://grch37.ensembl.org/Homo_sapiens/Gene/Summary?g=ENSG00000266017;r=9:68415308-68415388;t=ENST00000581659\n"
   ]
  },
  {
   "attachments": {
    "image.png": {
     "image/png": "[encoded data removed]"
    }
   },
   "cell_type": "markdown",
   "metadata": {},
   "source": [
    "![image.png](attachment:image.png)"
   ]
  },
  {
   "cell_type": "code",
   "execution_count": 57,
   "metadata": {},
   "outputs": [
    {
     "name": "stdout",
     "output_type": "stream",
     "text": [
      "               name     accession                sequence\n",
      "1493  hsa-miR-4477a  MIMAT0019004  GAAUCACAAAUGUCCUUAAUAG\n",
      "               name     accession                sequence\n",
      "1494  hsa-miR-4477b  MIMAT0019005  AUCAAUCACAAAUGUCCUUAAU\n"
     ]
    }
   ],
   "source": [
    "print(mirbase[mirbase.name == \"hsa-miR-4477a\"])\n",
    "print(mirbase[mirbase.name == \"hsa-miR-4477b\"])"
   ]
  }
 ],
 "metadata": {
  "kernelspec": {
   "display_name": "thesis-4DYweHFz-py3.11",
   "language": "python",
   "name": "python3"
  },
  "language_info": {
   "codemirror_mode": {
    "name": "ipython",
    "version": 3
   },
   "file_extension": ".py",
   "mimetype": "text/x-python",
   "name": "python",
   "nbconvert_exporter": "python",
   "pygments_lexer": "ipython3",
   "version": "3.11.3"
  },
  "orig_nbformat": 4
 },
 "nbformat": 4,
 "nbformat_minor": 2
}
